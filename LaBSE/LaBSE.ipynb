{
 "cells": [
  {
   "cell_type": "code",
   "execution_count": 9,
   "metadata": {
    "collapsed": true
   },
   "outputs": [],
   "source": [
    "import pandas as pd\n",
    "from sentence_transformers import SentenceTransformer\n",
    "from scipy.spatial.distance import cosine, euclidean"
   ]
  },
  {
   "cell_type": "code",
   "execution_count": 2,
   "outputs": [],
   "source": [
    "model = SentenceTransformer('sentence-transformers/LaBSE')\n",
    "data = pd.read_csv('../train.csv', index_col='pair_id')"
   ],
   "metadata": {
    "collapsed": false,
    "pycharm": {
     "name": "#%%\n"
    }
   }
  },
  {
   "cell_type": "code",
   "execution_count": 3,
   "outputs": [],
   "source": [
    "embeddings_name1 = model.encode(data['name_1'].tolist(), device='cuda')\n",
    "\n",
    "name1_list = []\n",
    "for row in embeddings_name1:\n",
    "    name1_list.append([row])"
   ],
   "metadata": {
    "collapsed": false,
    "pycharm": {
     "name": "#%%\n"
    }
   }
  },
  {
   "cell_type": "code",
   "execution_count": 4,
   "outputs": [],
   "source": [
    "embeddings_name2 = model.encode(data['name_2'].tolist(), device='cuda')\n",
    "\n",
    "name2_list = []\n",
    "for row in embeddings_name2:\n",
    "    name2_list.append([row])"
   ],
   "metadata": {
    "collapsed": false,
    "pycharm": {
     "name": "#%%\n"
    }
   }
  },
  {
   "cell_type": "code",
   "execution_count": 5,
   "outputs": [],
   "source": [
    "data['name_1_labse'] = name1_list\n",
    "data['name_2_labse'] = name2_list"
   ],
   "metadata": {
    "collapsed": false,
    "pycharm": {
     "name": "#%%\n"
    }
   }
  },
  {
   "cell_type": "code",
   "execution_count": 6,
   "outputs": [
    {
     "data": {
      "text/plain": "                                               name_1  \\\npair_id                                                 \n1                                 Iko Industries Ltd.   \n2                             Apcotex Industries Ltd.   \n3                   Rishichem Distributors Pvt., Ltd.   \n4                             Powermax Rubber Factory   \n5                                           Tress A/S   \n...                                               ...   \n497815                               BIT-MAT PRODUCTS   \n497816                          Bnd Trading Co., Ltd.   \n497817   Xeikon Industrial Co., Ltd. Of Dongguan City   \n497818             Shanghai Kechuan Trading Co., Ltd.   \n497819                         Dih Wei Industries Co.   \n\n                                                    name_2  is_duplicate  \\\npair_id                                                                    \n1                     Enormous Industrial Trade Pvt., Ltd.             0   \n2                      Technocraft Industries (India) Ltd.             0   \n3                                                      Dsa             0   \n4                                                  Co. One             0   \n5                         Longyou Industries Park Zhejiang             0   \n...                                                    ...           ...   \n497815                The Goodyear Tire and Rubber Company             0   \n497816   Zhong Shan Yue Liang Economy& Trade Imp. & Exp...             0   \n497817         Yi Cheng Trading Co., Ltd. Of Dongguan City             0   \n497818                        Shanghai M&G Stationery Inc.             0   \n497819                     Burlington Industries Corporate             0   \n\n                                              name_1_labse  \\\npair_id                                                      \n1        [[0.010861836, -0.08222399, -0.041933857, -0.0...   \n2        [[-0.016540471, -0.07479911, -0.00073565415, 0...   \n3        [[-0.018357374, -0.0012913939, -0.037772927, 0...   \n4        [[-0.03751746, -0.0052636373, 0.026744232, 0.0...   \n5        [[0.0038034725, -0.062630594, -0.02018179, -0....   \n...                                                    ...   \n497815   [[-0.023708265, -0.052481983, 0.022383098, 0.0...   \n497816   [[-0.03783887, -0.019608006, -0.015716784, 0.0...   \n497817   [[0.03949221, -0.076782376, 0.014149324, -0.01...   \n497818   [[-0.045068767, -0.022786995, -0.047454275, -0...   \n497819   [[-0.0005754131, -0.054832987, 0.0110550765, -...   \n\n                                              name_2_labse  \npair_id                                                     \n1        [[0.022001328, -0.02445636, -0.0066282894, 0.0...  \n2        [[0.025532471, -0.07653274, 0.0019659796, -0.0...  \n3        [[-0.0043047145, -0.0067142365, -0.023502031, ...  \n4        [[-0.021223964, -0.037608422, -0.06639316, -0....  \n5        [[0.019764744, -0.04415891, 0.06637642, 0.0051...  \n...                                                    ...  \n497815   [[-0.031874657, -0.06620433, 0.020537687, 0.00...  \n497816   [[-0.012938609, -0.052719004, -0.027224453, -0...  \n497817   [[-0.0019853532, -0.05424527, 0.012387251, -0....  \n497818   [[-0.01045419, -0.02650899, 0.0046114926, -0.0...  \n497819   [[0.04923139, -0.027955722, 0.04179359, 0.0455...  \n\n[497819 rows x 5 columns]",
      "text/html": "<div>\n<style scoped>\n    .dataframe tbody tr th:only-of-type {\n        vertical-align: middle;\n    }\n\n    .dataframe tbody tr th {\n        vertical-align: top;\n    }\n\n    .dataframe thead th {\n        text-align: right;\n    }\n</style>\n<table border=\"1\" class=\"dataframe\">\n  <thead>\n    <tr style=\"text-align: right;\">\n      <th></th>\n      <th>name_1</th>\n      <th>name_2</th>\n      <th>is_duplicate</th>\n      <th>name_1_labse</th>\n      <th>name_2_labse</th>\n    </tr>\n    <tr>\n      <th>pair_id</th>\n      <th></th>\n      <th></th>\n      <th></th>\n      <th></th>\n      <th></th>\n    </tr>\n  </thead>\n  <tbody>\n    <tr>\n      <th>1</th>\n      <td>Iko Industries Ltd.</td>\n      <td>Enormous Industrial Trade Pvt., Ltd.</td>\n      <td>0</td>\n      <td>[[0.010861836, -0.08222399, -0.041933857, -0.0...</td>\n      <td>[[0.022001328, -0.02445636, -0.0066282894, 0.0...</td>\n    </tr>\n    <tr>\n      <th>2</th>\n      <td>Apcotex Industries Ltd.</td>\n      <td>Technocraft Industries (India) Ltd.</td>\n      <td>0</td>\n      <td>[[-0.016540471, -0.07479911, -0.00073565415, 0...</td>\n      <td>[[0.025532471, -0.07653274, 0.0019659796, -0.0...</td>\n    </tr>\n    <tr>\n      <th>3</th>\n      <td>Rishichem Distributors Pvt., Ltd.</td>\n      <td>Dsa</td>\n      <td>0</td>\n      <td>[[-0.018357374, -0.0012913939, -0.037772927, 0...</td>\n      <td>[[-0.0043047145, -0.0067142365, -0.023502031, ...</td>\n    </tr>\n    <tr>\n      <th>4</th>\n      <td>Powermax Rubber Factory</td>\n      <td>Co. One</td>\n      <td>0</td>\n      <td>[[-0.03751746, -0.0052636373, 0.026744232, 0.0...</td>\n      <td>[[-0.021223964, -0.037608422, -0.06639316, -0....</td>\n    </tr>\n    <tr>\n      <th>5</th>\n      <td>Tress A/S</td>\n      <td>Longyou Industries Park Zhejiang</td>\n      <td>0</td>\n      <td>[[0.0038034725, -0.062630594, -0.02018179, -0....</td>\n      <td>[[0.019764744, -0.04415891, 0.06637642, 0.0051...</td>\n    </tr>\n    <tr>\n      <th>...</th>\n      <td>...</td>\n      <td>...</td>\n      <td>...</td>\n      <td>...</td>\n      <td>...</td>\n    </tr>\n    <tr>\n      <th>497815</th>\n      <td>BIT-MAT PRODUCTS</td>\n      <td>The Goodyear Tire and Rubber Company</td>\n      <td>0</td>\n      <td>[[-0.023708265, -0.052481983, 0.022383098, 0.0...</td>\n      <td>[[-0.031874657, -0.06620433, 0.020537687, 0.00...</td>\n    </tr>\n    <tr>\n      <th>497816</th>\n      <td>Bnd Trading Co., Ltd.</td>\n      <td>Zhong Shan Yue Liang Economy&amp; Trade Imp. &amp; Exp...</td>\n      <td>0</td>\n      <td>[[-0.03783887, -0.019608006, -0.015716784, 0.0...</td>\n      <td>[[-0.012938609, -0.052719004, -0.027224453, -0...</td>\n    </tr>\n    <tr>\n      <th>497817</th>\n      <td>Xeikon Industrial Co., Ltd. Of Dongguan City</td>\n      <td>Yi Cheng Trading Co., Ltd. Of Dongguan City</td>\n      <td>0</td>\n      <td>[[0.03949221, -0.076782376, 0.014149324, -0.01...</td>\n      <td>[[-0.0019853532, -0.05424527, 0.012387251, -0....</td>\n    </tr>\n    <tr>\n      <th>497818</th>\n      <td>Shanghai Kechuan Trading Co., Ltd.</td>\n      <td>Shanghai M&amp;G Stationery Inc.</td>\n      <td>0</td>\n      <td>[[-0.045068767, -0.022786995, -0.047454275, -0...</td>\n      <td>[[-0.01045419, -0.02650899, 0.0046114926, -0.0...</td>\n    </tr>\n    <tr>\n      <th>497819</th>\n      <td>Dih Wei Industries Co.</td>\n      <td>Burlington Industries Corporate</td>\n      <td>0</td>\n      <td>[[-0.0005754131, -0.054832987, 0.0110550765, -...</td>\n      <td>[[0.04923139, -0.027955722, 0.04179359, 0.0455...</td>\n    </tr>\n  </tbody>\n</table>\n<p>497819 rows × 5 columns</p>\n</div>"
     },
     "execution_count": 6,
     "metadata": {},
     "output_type": "execute_result"
    }
   ],
   "source": [
    "data"
   ],
   "metadata": {
    "collapsed": false,
    "pycharm": {
     "name": "#%%\n"
    }
   }
  },
  {
   "cell_type": "code",
   "execution_count": 16,
   "outputs": [
    {
     "name": "stderr",
     "output_type": "stream",
     "text": [
      "497819it [00:34, 14370.04it/s]\n"
     ]
    }
   ],
   "source": [
    "from tqdm import tqdm\n",
    "\n",
    "cosine_name1 = []\n",
    "euclidean_name1 = []\n",
    "for item in tqdm(zip(data['name_1_labse'], data['name_2_labse'])):\n",
    "    cosine_name1.append(cosine(item[0], item[1]))\n",
    "    euclidean_name1.append(euclidean(item[0], item[1]))"
   ],
   "metadata": {
    "collapsed": false,
    "pycharm": {
     "name": "#%%\n"
    }
   }
  },
  {
   "cell_type": "code",
   "execution_count": 17,
   "outputs": [],
   "source": [
    "data['cosine'] = cosine_name1\n",
    "data['euclidean'] = euclidean_name1"
   ],
   "metadata": {
    "collapsed": false,
    "pycharm": {
     "name": "#%%\n"
    }
   }
  },
  {
   "cell_type": "code",
   "execution_count": 18,
   "outputs": [
    {
     "data": {
      "text/plain": "                                               name_1  \\\npair_id                                                 \n1                                 Iko Industries Ltd.   \n2                             Apcotex Industries Ltd.   \n3                   Rishichem Distributors Pvt., Ltd.   \n4                             Powermax Rubber Factory   \n5                                           Tress A/S   \n...                                               ...   \n497815                               BIT-MAT PRODUCTS   \n497816                          Bnd Trading Co., Ltd.   \n497817   Xeikon Industrial Co., Ltd. Of Dongguan City   \n497818             Shanghai Kechuan Trading Co., Ltd.   \n497819                         Dih Wei Industries Co.   \n\n                                                    name_2  is_duplicate  \\\npair_id                                                                    \n1                     Enormous Industrial Trade Pvt., Ltd.             0   \n2                      Technocraft Industries (India) Ltd.             0   \n3                                                      Dsa             0   \n4                                                  Co. One             0   \n5                         Longyou Industries Park Zhejiang             0   \n...                                                    ...           ...   \n497815                The Goodyear Tire and Rubber Company             0   \n497816   Zhong Shan Yue Liang Economy& Trade Imp. & Exp...             0   \n497817         Yi Cheng Trading Co., Ltd. Of Dongguan City             0   \n497818                        Shanghai M&G Stationery Inc.             0   \n497819                     Burlington Industries Corporate             0   \n\n                                              name_1_labse  \\\npair_id                                                      \n1        [[0.010861836, -0.08222399, -0.041933857, -0.0...   \n2        [[-0.016540471, -0.07479911, -0.00073565415, 0...   \n3        [[-0.018357374, -0.0012913939, -0.037772927, 0...   \n4        [[-0.03751746, -0.0052636373, 0.026744232, 0.0...   \n5        [[0.0038034725, -0.062630594, -0.02018179, -0....   \n...                                                    ...   \n497815   [[-0.023708265, -0.052481983, 0.022383098, 0.0...   \n497816   [[-0.03783887, -0.019608006, -0.015716784, 0.0...   \n497817   [[0.03949221, -0.076782376, 0.014149324, -0.01...   \n497818   [[-0.045068767, -0.022786995, -0.047454275, -0...   \n497819   [[-0.0005754131, -0.054832987, 0.0110550765, -...   \n\n                                              name_2_labse    cosine  \\\npair_id                                                                \n1        [[0.022001328, -0.02445636, -0.0066282894, 0.0...  0.393024   \n2        [[0.025532471, -0.07653274, 0.0019659796, -0.0...  0.363251   \n3        [[-0.0043047145, -0.0067142365, -0.023502031, ...  0.875808   \n4        [[-0.021223964, -0.037608422, -0.06639316, -0....  0.801411   \n5        [[0.019764744, -0.04415891, 0.06637642, 0.0051...  1.022021   \n...                                                    ...       ...   \n497815   [[-0.031874657, -0.06620433, 0.020537687, 0.00...  0.863760   \n497816   [[-0.012938609, -0.052719004, -0.027224453, -0...  0.560358   \n497817   [[-0.0019853532, -0.05424527, 0.012387251, -0....  0.242211   \n497818   [[-0.01045419, -0.02650899, 0.0046114926, -0.0...  0.432422   \n497819   [[0.04923139, -0.027955722, 0.04179359, 0.0455...  0.560697   \n\n         euclidean  \npair_id             \n1         0.886593  \n2         0.852351  \n3         1.323486  \n4         1.266026  \n5         1.429700  \n...            ...  \n497815    1.314351  \n497816    1.058639  \n497817    0.696005  \n497818    0.929970  \n497819    1.058959  \n\n[497819 rows x 7 columns]",
      "text/html": "<div>\n<style scoped>\n    .dataframe tbody tr th:only-of-type {\n        vertical-align: middle;\n    }\n\n    .dataframe tbody tr th {\n        vertical-align: top;\n    }\n\n    .dataframe thead th {\n        text-align: right;\n    }\n</style>\n<table border=\"1\" class=\"dataframe\">\n  <thead>\n    <tr style=\"text-align: right;\">\n      <th></th>\n      <th>name_1</th>\n      <th>name_2</th>\n      <th>is_duplicate</th>\n      <th>name_1_labse</th>\n      <th>name_2_labse</th>\n      <th>cosine</th>\n      <th>euclidean</th>\n    </tr>\n    <tr>\n      <th>pair_id</th>\n      <th></th>\n      <th></th>\n      <th></th>\n      <th></th>\n      <th></th>\n      <th></th>\n      <th></th>\n    </tr>\n  </thead>\n  <tbody>\n    <tr>\n      <th>1</th>\n      <td>Iko Industries Ltd.</td>\n      <td>Enormous Industrial Trade Pvt., Ltd.</td>\n      <td>0</td>\n      <td>[[0.010861836, -0.08222399, -0.041933857, -0.0...</td>\n      <td>[[0.022001328, -0.02445636, -0.0066282894, 0.0...</td>\n      <td>0.393024</td>\n      <td>0.886593</td>\n    </tr>\n    <tr>\n      <th>2</th>\n      <td>Apcotex Industries Ltd.</td>\n      <td>Technocraft Industries (India) Ltd.</td>\n      <td>0</td>\n      <td>[[-0.016540471, -0.07479911, -0.00073565415, 0...</td>\n      <td>[[0.025532471, -0.07653274, 0.0019659796, -0.0...</td>\n      <td>0.363251</td>\n      <td>0.852351</td>\n    </tr>\n    <tr>\n      <th>3</th>\n      <td>Rishichem Distributors Pvt., Ltd.</td>\n      <td>Dsa</td>\n      <td>0</td>\n      <td>[[-0.018357374, -0.0012913939, -0.037772927, 0...</td>\n      <td>[[-0.0043047145, -0.0067142365, -0.023502031, ...</td>\n      <td>0.875808</td>\n      <td>1.323486</td>\n    </tr>\n    <tr>\n      <th>4</th>\n      <td>Powermax Rubber Factory</td>\n      <td>Co. One</td>\n      <td>0</td>\n      <td>[[-0.03751746, -0.0052636373, 0.026744232, 0.0...</td>\n      <td>[[-0.021223964, -0.037608422, -0.06639316, -0....</td>\n      <td>0.801411</td>\n      <td>1.266026</td>\n    </tr>\n    <tr>\n      <th>5</th>\n      <td>Tress A/S</td>\n      <td>Longyou Industries Park Zhejiang</td>\n      <td>0</td>\n      <td>[[0.0038034725, -0.062630594, -0.02018179, -0....</td>\n      <td>[[0.019764744, -0.04415891, 0.06637642, 0.0051...</td>\n      <td>1.022021</td>\n      <td>1.429700</td>\n    </tr>\n    <tr>\n      <th>...</th>\n      <td>...</td>\n      <td>...</td>\n      <td>...</td>\n      <td>...</td>\n      <td>...</td>\n      <td>...</td>\n      <td>...</td>\n    </tr>\n    <tr>\n      <th>497815</th>\n      <td>BIT-MAT PRODUCTS</td>\n      <td>The Goodyear Tire and Rubber Company</td>\n      <td>0</td>\n      <td>[[-0.023708265, -0.052481983, 0.022383098, 0.0...</td>\n      <td>[[-0.031874657, -0.06620433, 0.020537687, 0.00...</td>\n      <td>0.863760</td>\n      <td>1.314351</td>\n    </tr>\n    <tr>\n      <th>497816</th>\n      <td>Bnd Trading Co., Ltd.</td>\n      <td>Zhong Shan Yue Liang Economy&amp; Trade Imp. &amp; Exp...</td>\n      <td>0</td>\n      <td>[[-0.03783887, -0.019608006, -0.015716784, 0.0...</td>\n      <td>[[-0.012938609, -0.052719004, -0.027224453, -0...</td>\n      <td>0.560358</td>\n      <td>1.058639</td>\n    </tr>\n    <tr>\n      <th>497817</th>\n      <td>Xeikon Industrial Co., Ltd. Of Dongguan City</td>\n      <td>Yi Cheng Trading Co., Ltd. Of Dongguan City</td>\n      <td>0</td>\n      <td>[[0.03949221, -0.076782376, 0.014149324, -0.01...</td>\n      <td>[[-0.0019853532, -0.05424527, 0.012387251, -0....</td>\n      <td>0.242211</td>\n      <td>0.696005</td>\n    </tr>\n    <tr>\n      <th>497818</th>\n      <td>Shanghai Kechuan Trading Co., Ltd.</td>\n      <td>Shanghai M&amp;G Stationery Inc.</td>\n      <td>0</td>\n      <td>[[-0.045068767, -0.022786995, -0.047454275, -0...</td>\n      <td>[[-0.01045419, -0.02650899, 0.0046114926, -0.0...</td>\n      <td>0.432422</td>\n      <td>0.929970</td>\n    </tr>\n    <tr>\n      <th>497819</th>\n      <td>Dih Wei Industries Co.</td>\n      <td>Burlington Industries Corporate</td>\n      <td>0</td>\n      <td>[[-0.0005754131, -0.054832987, 0.0110550765, -...</td>\n      <td>[[0.04923139, -0.027955722, 0.04179359, 0.0455...</td>\n      <td>0.560697</td>\n      <td>1.058959</td>\n    </tr>\n  </tbody>\n</table>\n<p>497819 rows × 7 columns</p>\n</div>"
     },
     "execution_count": 18,
     "metadata": {},
     "output_type": "execute_result"
    }
   ],
   "source": [
    "data"
   ],
   "metadata": {
    "collapsed": false,
    "pycharm": {
     "name": "#%%\n"
    }
   }
  },
  {
   "cell_type": "code",
   "execution_count": 33,
   "outputs": [
    {
     "data": {
      "text/plain": "<seaborn.axisgrid.FacetGrid at 0x2251b70be80>"
     },
     "execution_count": 33,
     "metadata": {},
     "output_type": "execute_result"
    },
    {
     "data": {
      "text/plain": "<Figure size 593.611x500 with 1 Axes>",
      "image/png": "[encoded data removed]"
     },
     "metadata": {},
     "output_type": "display_data"
    }
   ],
   "source": [
    "import seaborn as sns\n",
    "\n",
    "sns.displot(data, x=\"cosine\", hue=\"is_duplicate\", multiple=\"stack\", common_norm=False, kind=\"kde\")"
   ],
   "metadata": {
    "collapsed": false,
    "pycharm": {
     "name": "#%%\n"
    }
   }
  },
  {
   "cell_type": "code",
   "execution_count": 30,
   "outputs": [
    {
     "data": {
      "text/plain": "<seaborn.axisgrid.FacetGrid at 0x2251b59e490>"
     },
     "execution_count": 30,
     "metadata": {},
     "output_type": "execute_result"
    },
    {
     "data": {
      "text/plain": "<Figure size 593.611x500 with 1 Axes>",
      "image/png": "[encoded data removed]"
     },
     "metadata": {},
     "output_type": "display_data"
    }
   ],
   "source": [
    "sns.displot(data, x=\"euclidean\", hue=\"is_duplicate\", multiple=\"stack\", common_norm=False, kind=\"kde\")"
   ],
   "metadata": {
    "collapsed": false,
    "pycharm": {
     "name": "#%%\n"
    }
   }
  },
  {
   "cell_type": "markdown",
   "source": [
    "<h1>COSINE DISTANCE</h1>"
   ],
   "metadata": {
    "collapsed": false
   }
  },
  {
   "cell_type": "code",
   "execution_count": 59,
   "outputs": [],
   "source": [
    "from sklearn.model_selection import train_test_split\n",
    "\n",
    "X = data['cosine']\n",
    "y = data['is_duplicate']\n",
    "\n",
    "X_train, X_test, y_train, y_test = train_test_split(X, y, test_size=0.2)"
   ],
   "metadata": {
    "collapsed": false,
    "pycharm": {
     "name": "#%%\n"
    }
   }
  },
  {
   "cell_type": "markdown",
   "source": [
    "Random forest"
   ],
   "metadata": {
    "collapsed": false
   }
  },
  {
   "cell_type": "code",
   "execution_count": 60,
   "outputs": [
    {
     "name": "stderr",
     "output_type": "stream",
     "text": [
      "C:\\Users\\konon\\AppData\\Local\\Temp\\ipykernel_2768\\2366894489.py:5: DataConversionWarning: A column-vector y was passed when a 1d array was expected. Please change the shape of y to (n_samples,), for example using ravel().\n",
      "  clf = clf.fit(X_train.to_numpy().reshape(-1, 1), y_train.to_numpy().reshape(-1, 1))\n"
     ]
    },
    {
     "name": "stdout",
     "output_type": "stream",
     "text": [
      "Полученные результаты классификации:\n",
      "              precision    recall  f1-score   support\n",
      "\n",
      "           0       0.99      0.99      0.99     98835\n",
      "           1       0.22      0.23      0.22       729\n",
      "\n",
      "    accuracy                           0.99     99564\n",
      "   macro avg       0.61      0.61      0.61     99564\n",
      "weighted avg       0.99      0.99      0.99     99564\n",
      "\n"
     ]
    }
   ],
   "source": [
    "from sklearn.ensemble import RandomForestClassifier\n",
    "from sklearn.metrics import classification_report\n",
    "\n",
    "clf = RandomForestClassifier()\n",
    "clf = clf.fit(X_train.to_numpy().reshape(-1, 1), y_train.to_numpy().reshape(-1, 1))\n",
    "\n",
    "y_pred = clf.predict(X_test.to_numpy().reshape(-1, 1))\n",
    "\n",
    "result1 = classification_report(y_test.to_numpy().reshape(-1, 1), y_pred)\n",
    "print(\"Полученные результаты классификации:\",)\n",
    "print (result1)"
   ],
   "metadata": {
    "collapsed": false,
    "pycharm": {
     "name": "#%%\n"
    }
   }
  },
  {
   "cell_type": "markdown",
   "source": [
    "Logistic regression"
   ],
   "metadata": {
    "collapsed": false
   }
  },
  {
   "cell_type": "code",
   "execution_count": 61,
   "outputs": [
    {
     "name": "stderr",
     "output_type": "stream",
     "text": [
      "C:\\Users\\konon\\anaconda3\\envs\\GPEN_m\\lib\\site-packages\\sklearn\\utils\\validation.py:993: DataConversionWarning: A column-vector y was passed when a 1d array was expected. Please change the shape of y to (n_samples, ), for example using ravel().\n",
      "  y = column_or_1d(y, warn=True)\n"
     ]
    },
    {
     "name": "stdout",
     "output_type": "stream",
     "text": [
      "Полученные результаты классификации:\n",
      "              precision    recall  f1-score   support\n",
      "\n",
      "           0       0.99      1.00      1.00     98835\n",
      "           1       0.00      0.00      0.00       729\n",
      "\n",
      "    accuracy                           0.99     99564\n",
      "   macro avg       0.50      0.50      0.50     99564\n",
      "weighted avg       0.99      0.99      0.99     99564\n",
      "\n"
     ]
    },
    {
     "name": "stderr",
     "output_type": "stream",
     "text": [
      "C:\\Users\\konon\\anaconda3\\envs\\GPEN_m\\lib\\site-packages\\sklearn\\metrics\\_classification.py:1318: UndefinedMetricWarning: Precision and F-score are ill-defined and being set to 0.0 in labels with no predicted samples. Use `zero_division` parameter to control this behavior.\n",
      "  _warn_prf(average, modifier, msg_start, len(result))\n",
      "C:\\Users\\konon\\anaconda3\\envs\\GPEN_m\\lib\\site-packages\\sklearn\\metrics\\_classification.py:1318: UndefinedMetricWarning: Precision and F-score are ill-defined and being set to 0.0 in labels with no predicted samples. Use `zero_division` parameter to control this behavior.\n",
      "  _warn_prf(average, modifier, msg_start, len(result))\n",
      "C:\\Users\\konon\\anaconda3\\envs\\GPEN_m\\lib\\site-packages\\sklearn\\metrics\\_classification.py:1318: UndefinedMetricWarning: Precision and F-score are ill-defined and being set to 0.0 in labels with no predicted samples. Use `zero_division` parameter to control this behavior.\n",
      "  _warn_prf(average, modifier, msg_start, len(result))\n"
     ]
    }
   ],
   "source": [
    "from sklearn.linear_model import LogisticRegression\n",
    "\n",
    "clf = LogisticRegression()\n",
    "clf = clf.fit(X_train.to_numpy().reshape(-1, 1), y_train.to_numpy().reshape(-1, 1))\n",
    "\n",
    "y_pred = clf.predict(X_test.to_numpy().reshape(-1, 1))\n",
    "\n",
    "result1 = classification_report(y_test.to_numpy().reshape(-1, 1), y_pred)\n",
    "print(\"Полученные результаты классификации:\",)\n",
    "print (result1)"
   ],
   "metadata": {
    "collapsed": false,
    "pycharm": {
     "name": "#%%\n"
    }
   }
  },
  {
   "cell_type": "markdown",
   "source": [
    "# HYPERPARAMETERS TUNING"
   ],
   "metadata": {
    "collapsed": false
   }
  },
  {
   "cell_type": "code",
   "execution_count": 46,
   "outputs": [
    {
     "data": {
      "text/plain": "<IPython.core.display.HTML object>",
      "text/html": ""
     },
     "metadata": {},
     "output_type": "display_data"
    },
    {
     "name": "stderr",
     "output_type": "stream",
     "text": [
      "\u001B[2m\u001B[36m(_Trainable pid=10268)\u001B[0m C:\\Users\\konon\\anaconda3\\envs\\GPEN_m\\lib\\site-packages\\tune_sklearn\\_trainable.py:153: DataConversionWarning: A column-vector y was passed when a 1d array was expected. Please change the shape of y to (n_samples,), for example using ravel().\n",
      "\u001B[2m\u001B[36m(_Trainable pid=10268)\u001B[0m   estimator.fit(X_train, y_train)\n",
      "\u001B[2m\u001B[36m(_Trainable pid=24300)\u001B[0m C:\\Users\\konon\\anaconda3\\envs\\GPEN_m\\lib\\site-packages\\tune_sklearn\\_trainable.py:153: DataConversionWarning: A column-vector y was passed when a 1d array was expected. Please change the shape of y to (n_samples,), for example using ravel().\n",
      "\u001B[2m\u001B[36m(_Trainable pid=24300)\u001B[0m   estimator.fit(X_train, y_train)\n",
      "\u001B[2m\u001B[36m(_Trainable pid=24300)\u001B[0m C:\\Users\\konon\\anaconda3\\envs\\GPEN_m\\lib\\site-packages\\tune_sklearn\\_trainable.py:153: DataConversionWarning: A column-vector y was passed when a 1d array was expected. Please change the shape of y to (n_samples,), for example using ravel().\n",
      "\u001B[2m\u001B[36m(_Trainable pid=24300)\u001B[0m   estimator.fit(X_train, y_train)\n",
      "\u001B[2m\u001B[36m(_Trainable pid=10268)\u001B[0m C:\\Users\\konon\\anaconda3\\envs\\GPEN_m\\lib\\site-packages\\tune_sklearn\\_trainable.py:153: DataConversionWarning: A column-vector y was passed when a 1d array was expected. Please change the shape of y to (n_samples,), for example using ravel().\n",
      "\u001B[2m\u001B[36m(_Trainable pid=10268)\u001B[0m   estimator.fit(X_train, y_train)\n",
      "\u001B[2m\u001B[36m(_Trainable pid=24300)\u001B[0m C:\\Users\\konon\\anaconda3\\envs\\GPEN_m\\lib\\site-packages\\tune_sklearn\\_trainable.py:153: DataConversionWarning: A column-vector y was passed when a 1d array was expected. Please change the shape of y to (n_samples,), for example using ravel().\n",
      "\u001B[2m\u001B[36m(_Trainable pid=24300)\u001B[0m   estimator.fit(X_train, y_train)\n",
      "\u001B[2m\u001B[36m(_Trainable pid=10268)\u001B[0m C:\\Users\\konon\\anaconda3\\envs\\GPEN_m\\lib\\site-packages\\tune_sklearn\\_trainable.py:153: DataConversionWarning: A column-vector y was passed when a 1d array was expected. Please change the shape of y to (n_samples,), for example using ravel().\n",
      "\u001B[2m\u001B[36m(_Trainable pid=10268)\u001B[0m   estimator.fit(X_train, y_train)\n",
      "\u001B[2m\u001B[36m(_Trainable pid=24300)\u001B[0m C:\\Users\\konon\\anaconda3\\envs\\GPEN_m\\lib\\site-packages\\tune_sklearn\\_trainable.py:153: DataConversionWarning: A column-vector y was passed when a 1d array was expected. Please change the shape of y to (n_samples,), for example using ravel().\n",
      "\u001B[2m\u001B[36m(_Trainable pid=24300)\u001B[0m   estimator.fit(X_train, y_train)\n",
      "\u001B[2m\u001B[36m(_Trainable pid=10268)\u001B[0m C:\\Users\\konon\\anaconda3\\envs\\GPEN_m\\lib\\site-packages\\tune_sklearn\\_trainable.py:153: DataConversionWarning: A column-vector y was passed when a 1d array was expected. Please change the shape of y to (n_samples,), for example using ravel().\n",
      "\u001B[2m\u001B[36m(_Trainable pid=10268)\u001B[0m   estimator.fit(X_train, y_train)\n",
      "\u001B[2m\u001B[36m(_Trainable pid=24300)\u001B[0m C:\\Users\\konon\\anaconda3\\envs\\GPEN_m\\lib\\site-packages\\tune_sklearn\\_trainable.py:153: DataConversionWarning: A column-vector y was passed when a 1d array was expected. Please change the shape of y to (n_samples,), for example using ravel().\n",
      "\u001B[2m\u001B[36m(_Trainable pid=24300)\u001B[0m   estimator.fit(X_train, y_train)\n",
      "\u001B[2m\u001B[36m(_Trainable pid=10268)\u001B[0m C:\\Users\\konon\\anaconda3\\envs\\GPEN_m\\lib\\site-packages\\tune_sklearn\\_trainable.py:153: DataConversionWarning: A column-vector y was passed when a 1d array was expected. Please change the shape of y to (n_samples,), for example using ravel().\n",
      "\u001B[2m\u001B[36m(_Trainable pid=10268)\u001B[0m   estimator.fit(X_train, y_train)\n",
      "\u001B[2m\u001B[36m(_Trainable pid=24300)\u001B[0m C:\\Users\\konon\\anaconda3\\envs\\GPEN_m\\lib\\site-packages\\tune_sklearn\\_trainable.py:153: DataConversionWarning: A column-vector y was passed when a 1d array was expected. Please change the shape of y to (n_samples,), for example using ravel().\n",
      "\u001B[2m\u001B[36m(_Trainable pid=24300)\u001B[0m   estimator.fit(X_train, y_train)\n",
      "\u001B[2m\u001B[36m(_Trainable pid=10268)\u001B[0m C:\\Users\\konon\\anaconda3\\envs\\GPEN_m\\lib\\site-packages\\tune_sklearn\\_trainable.py:153: DataConversionWarning: A column-vector y was passed when a 1d array was expected. Please change the shape of y to (n_samples,), for example using ravel().\n",
      "\u001B[2m\u001B[36m(_Trainable pid=10268)\u001B[0m   estimator.fit(X_train, y_train)\n",
      "\u001B[2m\u001B[36m(_Trainable pid=24300)\u001B[0m C:\\Users\\konon\\anaconda3\\envs\\GPEN_m\\lib\\site-packages\\tune_sklearn\\_trainable.py:153: DataConversionWarning: A column-vector y was passed when a 1d array was expected. Please change the shape of y to (n_samples,), for example using ravel().\n",
      "\u001B[2m\u001B[36m(_Trainable pid=24300)\u001B[0m   estimator.fit(X_train, y_train)\n",
      "\u001B[2m\u001B[36m(_Trainable pid=10268)\u001B[0m C:\\Users\\konon\\anaconda3\\envs\\GPEN_m\\lib\\site-packages\\tune_sklearn\\_trainable.py:153: DataConversionWarning: A column-vector y was passed when a 1d array was expected. Please change the shape of y to (n_samples,), for example using ravel().\n",
      "\u001B[2m\u001B[36m(_Trainable pid=10268)\u001B[0m   estimator.fit(X_train, y_train)\n",
      "\u001B[2m\u001B[36m(_Trainable pid=24300)\u001B[0m C:\\Users\\konon\\anaconda3\\envs\\GPEN_m\\lib\\site-packages\\tune_sklearn\\_trainable.py:153: DataConversionWarning: A column-vector y was passed when a 1d array was expected. Please change the shape of y to (n_samples,), for example using ravel().\n",
      "\u001B[2m\u001B[36m(_Trainable pid=24300)\u001B[0m   estimator.fit(X_train, y_train)\n",
      "\u001B[2m\u001B[36m(_Trainable pid=10268)\u001B[0m C:\\Users\\konon\\anaconda3\\envs\\GPEN_m\\lib\\site-packages\\tune_sklearn\\_trainable.py:153: DataConversionWarning: A column-vector y was passed when a 1d array was expected. Please change the shape of y to (n_samples,), for example using ravel().\n",
      "\u001B[2m\u001B[36m(_Trainable pid=10268)\u001B[0m   estimator.fit(X_train, y_train)\n",
      "\u001B[2m\u001B[36m(_Trainable pid=24300)\u001B[0m C:\\Users\\konon\\anaconda3\\envs\\GPEN_m\\lib\\site-packages\\tune_sklearn\\_trainable.py:153: DataConversionWarning: A column-vector y was passed when a 1d array was expected. Please change the shape of y to (n_samples,), for example using ravel().\n",
      "\u001B[2m\u001B[36m(_Trainable pid=24300)\u001B[0m   estimator.fit(X_train, y_train)\n",
      "\u001B[2m\u001B[36m(_Trainable pid=10268)\u001B[0m C:\\Users\\konon\\anaconda3\\envs\\GPEN_m\\lib\\site-packages\\tune_sklearn\\_trainable.py:153: DataConversionWarning: A column-vector y was passed when a 1d array was expected. Please change the shape of y to (n_samples,), for example using ravel().\n",
      "\u001B[2m\u001B[36m(_Trainable pid=10268)\u001B[0m   estimator.fit(X_train, y_train)\n",
      "\u001B[2m\u001B[36m(_Trainable pid=24300)\u001B[0m C:\\Users\\konon\\anaconda3\\envs\\GPEN_m\\lib\\site-packages\\tune_sklearn\\_trainable.py:153: DataConversionWarning: A column-vector y was passed when a 1d array was expected. Please change the shape of y to (n_samples,), for example using ravel().\n",
      "\u001B[2m\u001B[36m(_Trainable pid=24300)\u001B[0m   estimator.fit(X_train, y_train)\n",
      "\u001B[2m\u001B[36m(_Trainable pid=10268)\u001B[0m C:\\Users\\konon\\anaconda3\\envs\\GPEN_m\\lib\\site-packages\\tune_sklearn\\_trainable.py:153: DataConversionWarning: A column-vector y was passed when a 1d array was expected. Please change the shape of y to (n_samples,), for example using ravel().\n",
      "\u001B[2m\u001B[36m(_Trainable pid=10268)\u001B[0m   estimator.fit(X_train, y_train)\n",
      "\u001B[2m\u001B[36m(_Trainable pid=24300)\u001B[0m C:\\Users\\konon\\anaconda3\\envs\\GPEN_m\\lib\\site-packages\\tune_sklearn\\_trainable.py:153: DataConversionWarning: A column-vector y was passed when a 1d array was expected. Please change the shape of y to (n_samples,), for example using ravel().\n",
      "\u001B[2m\u001B[36m(_Trainable pid=24300)\u001B[0m   estimator.fit(X_train, y_train)\n",
      "\u001B[2m\u001B[36m(_Trainable pid=10268)\u001B[0m C:\\Users\\konon\\anaconda3\\envs\\GPEN_m\\lib\\site-packages\\tune_sklearn\\_trainable.py:153: DataConversionWarning: A column-vector y was passed when a 1d array was expected. Please change the shape of y to (n_samples,), for example using ravel().\n",
      "\u001B[2m\u001B[36m(_Trainable pid=10268)\u001B[0m   estimator.fit(X_train, y_train)\n",
      "\u001B[2m\u001B[36m(_Trainable pid=24300)\u001B[0m C:\\Users\\konon\\anaconda3\\envs\\GPEN_m\\lib\\site-packages\\tune_sklearn\\_trainable.py:153: DataConversionWarning: A column-vector y was passed when a 1d array was expected. Please change the shape of y to (n_samples,), for example using ravel().\n",
      "\u001B[2m\u001B[36m(_Trainable pid=24300)\u001B[0m   estimator.fit(X_train, y_train)\n",
      "\u001B[2m\u001B[36m(_Trainable pid=10268)\u001B[0m C:\\Users\\konon\\anaconda3\\envs\\GPEN_m\\lib\\site-packages\\tune_sklearn\\_trainable.py:153: DataConversionWarning: A column-vector y was passed when a 1d array was expected. Please change the shape of y to (n_samples,), for example using ravel().\n",
      "\u001B[2m\u001B[36m(_Trainable pid=10268)\u001B[0m   estimator.fit(X_train, y_train)\n",
      "\u001B[2m\u001B[36m(_Trainable pid=24300)\u001B[0m C:\\Users\\konon\\anaconda3\\envs\\GPEN_m\\lib\\site-packages\\tune_sklearn\\_trainable.py:153: DataConversionWarning: A column-vector y was passed when a 1d array was expected. Please change the shape of y to (n_samples,), for example using ravel().\n",
      "\u001B[2m\u001B[36m(_Trainable pid=24300)\u001B[0m   estimator.fit(X_train, y_train)\n",
      "\u001B[2m\u001B[36m(_Trainable pid=10268)\u001B[0m C:\\Users\\konon\\anaconda3\\envs\\GPEN_m\\lib\\site-packages\\tune_sklearn\\_trainable.py:153: DataConversionWarning: A column-vector y was passed when a 1d array was expected. Please change the shape of y to (n_samples,), for example using ravel().\n",
      "\u001B[2m\u001B[36m(_Trainable pid=10268)\u001B[0m   estimator.fit(X_train, y_train)\n",
      "\u001B[2m\u001B[36m(_Trainable pid=24300)\u001B[0m C:\\Users\\konon\\anaconda3\\envs\\GPEN_m\\lib\\site-packages\\tune_sklearn\\_trainable.py:153: DataConversionWarning: A column-vector y was passed when a 1d array was expected. Please change the shape of y to (n_samples,), for example using ravel().\n",
      "\u001B[2m\u001B[36m(_Trainable pid=24300)\u001B[0m   estimator.fit(X_train, y_train)\n",
      "\u001B[2m\u001B[36m(_Trainable pid=10268)\u001B[0m C:\\Users\\konon\\anaconda3\\envs\\GPEN_m\\lib\\site-packages\\tune_sklearn\\_trainable.py:153: DataConversionWarning: A column-vector y was passed when a 1d array was expected. Please change the shape of y to (n_samples,), for example using ravel().\n",
      "\u001B[2m\u001B[36m(_Trainable pid=10268)\u001B[0m   estimator.fit(X_train, y_train)\n",
      "\u001B[2m\u001B[36m(_Trainable pid=24300)\u001B[0m C:\\Users\\konon\\anaconda3\\envs\\GPEN_m\\lib\\site-packages\\tune_sklearn\\_trainable.py:153: DataConversionWarning: A column-vector y was passed when a 1d array was expected. Please change the shape of y to (n_samples,), for example using ravel().\n",
      "\u001B[2m\u001B[36m(_Trainable pid=24300)\u001B[0m   estimator.fit(X_train, y_train)\n",
      "\u001B[2m\u001B[36m(_Trainable pid=10268)\u001B[0m C:\\Users\\konon\\anaconda3\\envs\\GPEN_m\\lib\\site-packages\\tune_sklearn\\_trainable.py:153: DataConversionWarning: A column-vector y was passed when a 1d array was expected. Please change the shape of y to (n_samples,), for example using ravel().\n",
      "\u001B[2m\u001B[36m(_Trainable pid=10268)\u001B[0m   estimator.fit(X_train, y_train)\n",
      "\u001B[2m\u001B[36m(_Trainable pid=24300)\u001B[0m C:\\Users\\konon\\anaconda3\\envs\\GPEN_m\\lib\\site-packages\\tune_sklearn\\_trainable.py:153: DataConversionWarning: A column-vector y was passed when a 1d array was expected. Please change the shape of y to (n_samples,), for example using ravel().\n",
      "\u001B[2m\u001B[36m(_Trainable pid=24300)\u001B[0m   estimator.fit(X_train, y_train)\n",
      "\u001B[2m\u001B[36m(_Trainable pid=10268)\u001B[0m C:\\Users\\konon\\anaconda3\\envs\\GPEN_m\\lib\\site-packages\\tune_sklearn\\_trainable.py:153: DataConversionWarning: A column-vector y was passed when a 1d array was expected. Please change the shape of y to (n_samples,), for example using ravel().\n",
      "\u001B[2m\u001B[36m(_Trainable pid=10268)\u001B[0m   estimator.fit(X_train, y_train)\n",
      "\u001B[2m\u001B[36m(_Trainable pid=24300)\u001B[0m C:\\Users\\konon\\anaconda3\\envs\\GPEN_m\\lib\\site-packages\\tune_sklearn\\_trainable.py:153: DataConversionWarning: A column-vector y was passed when a 1d array was expected. Please change the shape of y to (n_samples,), for example using ravel().\n",
      "\u001B[2m\u001B[36m(_Trainable pid=24300)\u001B[0m   estimator.fit(X_train, y_train)\n",
      "\u001B[2m\u001B[36m(_Trainable pid=10268)\u001B[0m C:\\Users\\konon\\anaconda3\\envs\\GPEN_m\\lib\\site-packages\\tune_sklearn\\_trainable.py:153: DataConversionWarning: A column-vector y was passed when a 1d array was expected. Please change the shape of y to (n_samples,), for example using ravel().\n",
      "\u001B[2m\u001B[36m(_Trainable pid=10268)\u001B[0m   estimator.fit(X_train, y_train)\n",
      "\u001B[2m\u001B[36m(_Trainable pid=24300)\u001B[0m C:\\Users\\konon\\anaconda3\\envs\\GPEN_m\\lib\\site-packages\\tune_sklearn\\_trainable.py:153: DataConversionWarning: A column-vector y was passed when a 1d array was expected. Please change the shape of y to (n_samples,), for example using ravel().\n",
      "\u001B[2m\u001B[36m(_Trainable pid=24300)\u001B[0m   estimator.fit(X_train, y_train)\n",
      "\u001B[2m\u001B[36m(_Trainable pid=10268)\u001B[0m C:\\Users\\konon\\anaconda3\\envs\\GPEN_m\\lib\\site-packages\\tune_sklearn\\_trainable.py:153: DataConversionWarning: A column-vector y was passed when a 1d array was expected. Please change the shape of y to (n_samples,), for example using ravel().\n",
      "\u001B[2m\u001B[36m(_Trainable pid=10268)\u001B[0m   estimator.fit(X_train, y_train)\n",
      "\u001B[2m\u001B[36m(_Trainable pid=24300)\u001B[0m C:\\Users\\konon\\anaconda3\\envs\\GPEN_m\\lib\\site-packages\\tune_sklearn\\_trainable.py:153: DataConversionWarning: A column-vector y was passed when a 1d array was expected. Please change the shape of y to (n_samples,), for example using ravel().\n",
      "\u001B[2m\u001B[36m(_Trainable pid=24300)\u001B[0m   estimator.fit(X_train, y_train)\n",
      "\u001B[2m\u001B[36m(_Trainable pid=10268)\u001B[0m C:\\Users\\konon\\anaconda3\\envs\\GPEN_m\\lib\\site-packages\\tune_sklearn\\_trainable.py:153: DataConversionWarning: A column-vector y was passed when a 1d array was expected. Please change the shape of y to (n_samples,), for example using ravel().\n",
      "\u001B[2m\u001B[36m(_Trainable pid=10268)\u001B[0m   estimator.fit(X_train, y_train)\n",
      "\u001B[2m\u001B[36m(_Trainable pid=24300)\u001B[0m C:\\Users\\konon\\anaconda3\\envs\\GPEN_m\\lib\\site-packages\\tune_sklearn\\_trainable.py:153: DataConversionWarning: A column-vector y was passed when a 1d array was expected. Please change the shape of y to (n_samples,), for example using ravel().\n",
      "\u001B[2m\u001B[36m(_Trainable pid=24300)\u001B[0m   estimator.fit(X_train, y_train)\n",
      "\u001B[2m\u001B[36m(_Trainable pid=10268)\u001B[0m C:\\Users\\konon\\anaconda3\\envs\\GPEN_m\\lib\\site-packages\\tune_sklearn\\_trainable.py:153: DataConversionWarning: A column-vector y was passed when a 1d array was expected. Please change the shape of y to (n_samples,), for example using ravel().\n",
      "\u001B[2m\u001B[36m(_Trainable pid=10268)\u001B[0m   estimator.fit(X_train, y_train)\n",
      "\u001B[2m\u001B[36m(_Trainable pid=24300)\u001B[0m C:\\Users\\konon\\anaconda3\\envs\\GPEN_m\\lib\\site-packages\\tune_sklearn\\_trainable.py:153: DataConversionWarning: A column-vector y was passed when a 1d array was expected. Please change the shape of y to (n_samples,), for example using ravel().\n",
      "\u001B[2m\u001B[36m(_Trainable pid=24300)\u001B[0m   estimator.fit(X_train, y_train)\n",
      "\u001B[2m\u001B[36m(_Trainable pid=10268)\u001B[0m C:\\Users\\konon\\anaconda3\\envs\\GPEN_m\\lib\\site-packages\\tune_sklearn\\_trainable.py:153: DataConversionWarning: A column-vector y was passed when a 1d array was expected. Please change the shape of y to (n_samples,), for example using ravel().\n",
      "\u001B[2m\u001B[36m(_Trainable pid=10268)\u001B[0m   estimator.fit(X_train, y_train)\n",
      "\u001B[2m\u001B[36m(_Trainable pid=24300)\u001B[0m C:\\Users\\konon\\anaconda3\\envs\\GPEN_m\\lib\\site-packages\\tune_sklearn\\_trainable.py:153: DataConversionWarning: A column-vector y was passed when a 1d array was expected. Please change the shape of y to (n_samples,), for example using ravel().\n",
      "\u001B[2m\u001B[36m(_Trainable pid=24300)\u001B[0m   estimator.fit(X_train, y_train)\n",
      "\u001B[2m\u001B[36m(_Trainable pid=10268)\u001B[0m C:\\Users\\konon\\anaconda3\\envs\\GPEN_m\\lib\\site-packages\\tune_sklearn\\_trainable.py:153: DataConversionWarning: A column-vector y was passed when a 1d array was expected. Please change the shape of y to (n_samples,), for example using ravel().\n",
      "\u001B[2m\u001B[36m(_Trainable pid=10268)\u001B[0m   estimator.fit(X_train, y_train)\n",
      "\u001B[2m\u001B[36m(_Trainable pid=24300)\u001B[0m C:\\Users\\konon\\anaconda3\\envs\\GPEN_m\\lib\\site-packages\\tune_sklearn\\_trainable.py:153: DataConversionWarning: A column-vector y was passed when a 1d array was expected. Please change the shape of y to (n_samples,), for example using ravel().\n",
      "\u001B[2m\u001B[36m(_Trainable pid=24300)\u001B[0m   estimator.fit(X_train, y_train)\n",
      "\u001B[2m\u001B[36m(_Trainable pid=10268)\u001B[0m C:\\Users\\konon\\anaconda3\\envs\\GPEN_m\\lib\\site-packages\\tune_sklearn\\_trainable.py:153: DataConversionWarning: A column-vector y was passed when a 1d array was expected. Please change the shape of y to (n_samples,), for example using ravel().\n",
      "\u001B[2m\u001B[36m(_Trainable pid=10268)\u001B[0m   estimator.fit(X_train, y_train)\n",
      "\u001B[2m\u001B[36m(_Trainable pid=24300)\u001B[0m C:\\Users\\konon\\anaconda3\\envs\\GPEN_m\\lib\\site-packages\\tune_sklearn\\_trainable.py:153: DataConversionWarning: A column-vector y was passed when a 1d array was expected. Please change the shape of y to (n_samples,), for example using ravel().\n",
      "\u001B[2m\u001B[36m(_Trainable pid=24300)\u001B[0m   estimator.fit(X_train, y_train)\n",
      "\u001B[2m\u001B[36m(_Trainable pid=10268)\u001B[0m C:\\Users\\konon\\anaconda3\\envs\\GPEN_m\\lib\\site-packages\\tune_sklearn\\_trainable.py:153: DataConversionWarning: A column-vector y was passed when a 1d array was expected. Please change the shape of y to (n_samples,), for example using ravel().\n",
      "\u001B[2m\u001B[36m(_Trainable pid=10268)\u001B[0m   estimator.fit(X_train, y_train)\n",
      "\u001B[2m\u001B[36m(_Trainable pid=24300)\u001B[0m C:\\Users\\konon\\anaconda3\\envs\\GPEN_m\\lib\\site-packages\\tune_sklearn\\_trainable.py:153: DataConversionWarning: A column-vector y was passed when a 1d array was expected. Please change the shape of y to (n_samples,), for example using ravel().\n",
      "\u001B[2m\u001B[36m(_Trainable pid=24300)\u001B[0m   estimator.fit(X_train, y_train)\n",
      "\u001B[2m\u001B[36m(_Trainable pid=10268)\u001B[0m C:\\Users\\konon\\anaconda3\\envs\\GPEN_m\\lib\\site-packages\\tune_sklearn\\_trainable.py:153: DataConversionWarning: A column-vector y was passed when a 1d array was expected. Please change the shape of y to (n_samples,), for example using ravel().\n",
      "\u001B[2m\u001B[36m(_Trainable pid=10268)\u001B[0m   estimator.fit(X_train, y_train)\n",
      "\u001B[2m\u001B[36m(_Trainable pid=24300)\u001B[0m C:\\Users\\konon\\anaconda3\\envs\\GPEN_m\\lib\\site-packages\\tune_sklearn\\_trainable.py:153: DataConversionWarning: A column-vector y was passed when a 1d array was expected. Please change the shape of y to (n_samples,), for example using ravel().\n",
      "\u001B[2m\u001B[36m(_Trainable pid=24300)\u001B[0m   estimator.fit(X_train, y_train)\n",
      "\u001B[2m\u001B[36m(_Trainable pid=10268)\u001B[0m C:\\Users\\konon\\anaconda3\\envs\\GPEN_m\\lib\\site-packages\\tune_sklearn\\_trainable.py:153: DataConversionWarning: A column-vector y was passed when a 1d array was expected. Please change the shape of y to (n_samples,), for example using ravel().\n",
      "\u001B[2m\u001B[36m(_Trainable pid=10268)\u001B[0m   estimator.fit(X_train, y_train)\n",
      "\u001B[2m\u001B[36m(_Trainable pid=24300)\u001B[0m C:\\Users\\konon\\anaconda3\\envs\\GPEN_m\\lib\\site-packages\\tune_sklearn\\_trainable.py:153: DataConversionWarning: A column-vector y was passed when a 1d array was expected. Please change the shape of y to (n_samples,), for example using ravel().\n",
      "\u001B[2m\u001B[36m(_Trainable pid=24300)\u001B[0m   estimator.fit(X_train, y_train)\n",
      "\u001B[2m\u001B[36m(_Trainable pid=10268)\u001B[0m C:\\Users\\konon\\anaconda3\\envs\\GPEN_m\\lib\\site-packages\\tune_sklearn\\_trainable.py:153: DataConversionWarning: A column-vector y was passed when a 1d array was expected. Please change the shape of y to (n_samples,), for example using ravel().\n",
      "\u001B[2m\u001B[36m(_Trainable pid=10268)\u001B[0m   estimator.fit(X_train, y_train)\n",
      "\u001B[2m\u001B[36m(_Trainable pid=24300)\u001B[0m C:\\Users\\konon\\anaconda3\\envs\\GPEN_m\\lib\\site-packages\\tune_sklearn\\_trainable.py:153: DataConversionWarning: A column-vector y was passed when a 1d array was expected. Please change the shape of y to (n_samples,), for example using ravel().\n",
      "\u001B[2m\u001B[36m(_Trainable pid=24300)\u001B[0m   estimator.fit(X_train, y_train)\n",
      "\u001B[2m\u001B[36m(_Trainable pid=10268)\u001B[0m C:\\Users\\konon\\anaconda3\\envs\\GPEN_m\\lib\\site-packages\\tune_sklearn\\_trainable.py:153: DataConversionWarning: A column-vector y was passed when a 1d array was expected. Please change the shape of y to (n_samples,), for example using ravel().\n",
      "\u001B[2m\u001B[36m(_Trainable pid=10268)\u001B[0m   estimator.fit(X_train, y_train)\n",
      "\u001B[2m\u001B[36m(_Trainable pid=24300)\u001B[0m C:\\Users\\konon\\anaconda3\\envs\\GPEN_m\\lib\\site-packages\\tune_sklearn\\_trainable.py:153: DataConversionWarning: A column-vector y was passed when a 1d array was expected. Please change the shape of y to (n_samples,), for example using ravel().\n",
      "\u001B[2m\u001B[36m(_Trainable pid=24300)\u001B[0m   estimator.fit(X_train, y_train)\n",
      "\u001B[2m\u001B[36m(_Trainable pid=10268)\u001B[0m C:\\Users\\konon\\anaconda3\\envs\\GPEN_m\\lib\\site-packages\\tune_sklearn\\_trainable.py:153: DataConversionWarning: A column-vector y was passed when a 1d array was expected. Please change the shape of y to (n_samples,), for example using ravel().\n",
      "\u001B[2m\u001B[36m(_Trainable pid=10268)\u001B[0m   estimator.fit(X_train, y_train)\n",
      "\u001B[2m\u001B[36m(_Trainable pid=24300)\u001B[0m C:\\Users\\konon\\anaconda3\\envs\\GPEN_m\\lib\\site-packages\\tune_sklearn\\_trainable.py:153: DataConversionWarning: A column-vector y was passed when a 1d array was expected. Please change the shape of y to (n_samples,), for example using ravel().\n",
      "\u001B[2m\u001B[36m(_Trainable pid=24300)\u001B[0m   estimator.fit(X_train, y_train)\n",
      "\u001B[2m\u001B[36m(_Trainable pid=10268)\u001B[0m C:\\Users\\konon\\anaconda3\\envs\\GPEN_m\\lib\\site-packages\\tune_sklearn\\_trainable.py:153: DataConversionWarning: A column-vector y was passed when a 1d array was expected. Please change the shape of y to (n_samples,), for example using ravel().\n",
      "\u001B[2m\u001B[36m(_Trainable pid=10268)\u001B[0m   estimator.fit(X_train, y_train)\n",
      "\u001B[2m\u001B[36m(_Trainable pid=24300)\u001B[0m C:\\Users\\konon\\anaconda3\\envs\\GPEN_m\\lib\\site-packages\\tune_sklearn\\_trainable.py:153: DataConversionWarning: A column-vector y was passed when a 1d array was expected. Please change the shape of y to (n_samples,), for example using ravel().\n",
      "\u001B[2m\u001B[36m(_Trainable pid=24300)\u001B[0m   estimator.fit(X_train, y_train)\n",
      "\u001B[2m\u001B[36m(_Trainable pid=10268)\u001B[0m C:\\Users\\konon\\anaconda3\\envs\\GPEN_m\\lib\\site-packages\\tune_sklearn\\_trainable.py:153: DataConversionWarning: A column-vector y was passed when a 1d array was expected. Please change the shape of y to (n_samples,), for example using ravel().\n",
      "\u001B[2m\u001B[36m(_Trainable pid=10268)\u001B[0m   estimator.fit(X_train, y_train)\n",
      "\u001B[2m\u001B[36m(_Trainable pid=24300)\u001B[0m C:\\Users\\konon\\anaconda3\\envs\\GPEN_m\\lib\\site-packages\\tune_sklearn\\_trainable.py:153: DataConversionWarning: A column-vector y was passed when a 1d array was expected. Please change the shape of y to (n_samples,), for example using ravel().\n",
      "\u001B[2m\u001B[36m(_Trainable pid=24300)\u001B[0m   estimator.fit(X_train, y_train)\n",
      "\u001B[2m\u001B[36m(_Trainable pid=10268)\u001B[0m C:\\Users\\konon\\anaconda3\\envs\\GPEN_m\\lib\\site-packages\\tune_sklearn\\_trainable.py:153: DataConversionWarning: A column-vector y was passed when a 1d array was expected. Please change the shape of y to (n_samples,), for example using ravel().\n",
      "\u001B[2m\u001B[36m(_Trainable pid=10268)\u001B[0m   estimator.fit(X_train, y_train)\n",
      "\u001B[2m\u001B[36m(_Trainable pid=24300)\u001B[0m C:\\Users\\konon\\anaconda3\\envs\\GPEN_m\\lib\\site-packages\\tune_sklearn\\_trainable.py:153: DataConversionWarning: A column-vector y was passed when a 1d array was expected. Please change the shape of y to (n_samples,), for example using ravel().\n",
      "\u001B[2m\u001B[36m(_Trainable pid=24300)\u001B[0m   estimator.fit(X_train, y_train)\n",
      "\u001B[2m\u001B[36m(_Trainable pid=24300)\u001B[0m C:\\Users\\konon\\anaconda3\\envs\\GPEN_m\\lib\\site-packages\\tune_sklearn\\_trainable.py:153: DataConversionWarning: A column-vector y was passed when a 1d array was expected. Please change the shape of y to (n_samples,), for example using ravel().\n",
      "\u001B[2m\u001B[36m(_Trainable pid=24300)\u001B[0m   estimator.fit(X_train, y_train)\n",
      "\u001B[2m\u001B[36m(_Trainable pid=10268)\u001B[0m C:\\Users\\konon\\anaconda3\\envs\\GPEN_m\\lib\\site-packages\\tune_sklearn\\_trainable.py:153: DataConversionWarning: A column-vector y was passed when a 1d array was expected. Please change the shape of y to (n_samples,), for example using ravel().\n",
      "\u001B[2m\u001B[36m(_Trainable pid=10268)\u001B[0m   estimator.fit(X_train, y_train)\n",
      "\u001B[2m\u001B[36m(_Trainable pid=24300)\u001B[0m C:\\Users\\konon\\anaconda3\\envs\\GPEN_m\\lib\\site-packages\\tune_sklearn\\_trainable.py:153: DataConversionWarning: A column-vector y was passed when a 1d array was expected. Please change the shape of y to (n_samples,), for example using ravel().\n",
      "\u001B[2m\u001B[36m(_Trainable pid=24300)\u001B[0m   estimator.fit(X_train, y_train)\n",
      "\u001B[2m\u001B[36m(_Trainable pid=10268)\u001B[0m C:\\Users\\konon\\anaconda3\\envs\\GPEN_m\\lib\\site-packages\\tune_sklearn\\_trainable.py:153: DataConversionWarning: A column-vector y was passed when a 1d array was expected. Please change the shape of y to (n_samples,), for example using ravel().\n",
      "\u001B[2m\u001B[36m(_Trainable pid=10268)\u001B[0m   estimator.fit(X_train, y_train)\n",
      "\u001B[2m\u001B[36m(_Trainable pid=24300)\u001B[0m C:\\Users\\konon\\anaconda3\\envs\\GPEN_m\\lib\\site-packages\\tune_sklearn\\_trainable.py:153: DataConversionWarning: A column-vector y was passed when a 1d array was expected. Please change the shape of y to (n_samples,), for example using ravel().\n",
      "\u001B[2m\u001B[36m(_Trainable pid=24300)\u001B[0m   estimator.fit(X_train, y_train)\n",
      "\u001B[2m\u001B[36m(_Trainable pid=10268)\u001B[0m C:\\Users\\konon\\anaconda3\\envs\\GPEN_m\\lib\\site-packages\\tune_sklearn\\_trainable.py:153: DataConversionWarning: A column-vector y was passed when a 1d array was expected. Please change the shape of y to (n_samples,), for example using ravel().\n",
      "\u001B[2m\u001B[36m(_Trainable pid=10268)\u001B[0m   estimator.fit(X_train, y_train)\n",
      "\u001B[2m\u001B[36m(_Trainable pid=24300)\u001B[0m C:\\Users\\konon\\anaconda3\\envs\\GPEN_m\\lib\\site-packages\\tune_sklearn\\_trainable.py:153: DataConversionWarning: A column-vector y was passed when a 1d array was expected. Please change the shape of y to (n_samples,), for example using ravel().\n",
      "\u001B[2m\u001B[36m(_Trainable pid=24300)\u001B[0m   estimator.fit(X_train, y_train)\n",
      "\u001B[2m\u001B[36m(_Trainable pid=10268)\u001B[0m C:\\Users\\konon\\anaconda3\\envs\\GPEN_m\\lib\\site-packages\\tune_sklearn\\_trainable.py:153: DataConversionWarning: A column-vector y was passed when a 1d array was expected. Please change the shape of y to (n_samples,), for example using ravel().\n",
      "\u001B[2m\u001B[36m(_Trainable pid=10268)\u001B[0m   estimator.fit(X_train, y_train)\n",
      "\u001B[2m\u001B[36m(_Trainable pid=24300)\u001B[0m C:\\Users\\konon\\anaconda3\\envs\\GPEN_m\\lib\\site-packages\\tune_sklearn\\_trainable.py:153: DataConversionWarning: A column-vector y was passed when a 1d array was expected. Please change the shape of y to (n_samples,), for example using ravel().\n",
      "\u001B[2m\u001B[36m(_Trainable pid=24300)\u001B[0m   estimator.fit(X_train, y_train)\n",
      "\u001B[2m\u001B[36m(_Trainable pid=10268)\u001B[0m C:\\Users\\konon\\anaconda3\\envs\\GPEN_m\\lib\\site-packages\\tune_sklearn\\_trainable.py:153: DataConversionWarning: A column-vector y was passed when a 1d array was expected. Please change the shape of y to (n_samples,), for example using ravel().\n",
      "\u001B[2m\u001B[36m(_Trainable pid=10268)\u001B[0m   estimator.fit(X_train, y_train)\n",
      "\u001B[2m\u001B[36m(_Trainable pid=24300)\u001B[0m C:\\Users\\konon\\anaconda3\\envs\\GPEN_m\\lib\\site-packages\\tune_sklearn\\_trainable.py:153: DataConversionWarning: A column-vector y was passed when a 1d array was expected. Please change the shape of y to (n_samples,), for example using ravel().\n",
      "\u001B[2m\u001B[36m(_Trainable pid=24300)\u001B[0m   estimator.fit(X_train, y_train)\n",
      "\u001B[2m\u001B[36m(_Trainable pid=10268)\u001B[0m C:\\Users\\konon\\anaconda3\\envs\\GPEN_m\\lib\\site-packages\\tune_sklearn\\_trainable.py:153: DataConversionWarning: A column-vector y was passed when a 1d array was expected. Please change the shape of y to (n_samples,), for example using ravel().\n",
      "\u001B[2m\u001B[36m(_Trainable pid=10268)\u001B[0m   estimator.fit(X_train, y_train)\n",
      "\u001B[2m\u001B[36m(_Trainable pid=24300)\u001B[0m C:\\Users\\konon\\anaconda3\\envs\\GPEN_m\\lib\\site-packages\\tune_sklearn\\_trainable.py:153: DataConversionWarning: A column-vector y was passed when a 1d array was expected. Please change the shape of y to (n_samples,), for example using ravel().\n",
      "\u001B[2m\u001B[36m(_Trainable pid=24300)\u001B[0m   estimator.fit(X_train, y_train)\n",
      "\u001B[2m\u001B[36m(_Trainable pid=10268)\u001B[0m C:\\Users\\konon\\anaconda3\\envs\\GPEN_m\\lib\\site-packages\\tune_sklearn\\_trainable.py:153: DataConversionWarning: A column-vector y was passed when a 1d array was expected. Please change the shape of y to (n_samples,), for example using ravel().\n",
      "\u001B[2m\u001B[36m(_Trainable pid=10268)\u001B[0m   estimator.fit(X_train, y_train)\n",
      "\u001B[2m\u001B[36m(_Trainable pid=24300)\u001B[0m C:\\Users\\konon\\anaconda3\\envs\\GPEN_m\\lib\\site-packages\\tune_sklearn\\_trainable.py:153: DataConversionWarning: A column-vector y was passed when a 1d array was expected. Please change the shape of y to (n_samples,), for example using ravel().\n",
      "\u001B[2m\u001B[36m(_Trainable pid=24300)\u001B[0m   estimator.fit(X_train, y_train)\n",
      "\u001B[2m\u001B[36m(_Trainable pid=10268)\u001B[0m C:\\Users\\konon\\anaconda3\\envs\\GPEN_m\\lib\\site-packages\\tune_sklearn\\_trainable.py:153: DataConversionWarning: A column-vector y was passed when a 1d array was expected. Please change the shape of y to (n_samples,), for example using ravel().\n",
      "\u001B[2m\u001B[36m(_Trainable pid=10268)\u001B[0m   estimator.fit(X_train, y_train)\n",
      "\u001B[2m\u001B[36m(_Trainable pid=24300)\u001B[0m C:\\Users\\konon\\anaconda3\\envs\\GPEN_m\\lib\\site-packages\\tune_sklearn\\_trainable.py:153: DataConversionWarning: A column-vector y was passed when a 1d array was expected. Please change the shape of y to (n_samples,), for example using ravel().\n",
      "\u001B[2m\u001B[36m(_Trainable pid=24300)\u001B[0m   estimator.fit(X_train, y_train)\n",
      "\u001B[2m\u001B[36m(_Trainable pid=10268)\u001B[0m C:\\Users\\konon\\anaconda3\\envs\\GPEN_m\\lib\\site-packages\\tune_sklearn\\_trainable.py:153: DataConversionWarning: A column-vector y was passed when a 1d array was expected. Please change the shape of y to (n_samples,), for example using ravel().\n",
      "\u001B[2m\u001B[36m(_Trainable pid=10268)\u001B[0m   estimator.fit(X_train, y_train)\n",
      "\u001B[2m\u001B[36m(_Trainable pid=24300)\u001B[0m C:\\Users\\konon\\anaconda3\\envs\\GPEN_m\\lib\\site-packages\\tune_sklearn\\_trainable.py:153: DataConversionWarning: A column-vector y was passed when a 1d array was expected. Please change the shape of y to (n_samples,), for example using ravel().\n",
      "\u001B[2m\u001B[36m(_Trainable pid=24300)\u001B[0m   estimator.fit(X_train, y_train)\n",
      "\u001B[2m\u001B[36m(_Trainable pid=10268)\u001B[0m C:\\Users\\konon\\anaconda3\\envs\\GPEN_m\\lib\\site-packages\\tune_sklearn\\_trainable.py:153: DataConversionWarning: A column-vector y was passed when a 1d array was expected. Please change the shape of y to (n_samples,), for example using ravel().\n",
      "\u001B[2m\u001B[36m(_Trainable pid=10268)\u001B[0m   estimator.fit(X_train, y_train)\n",
      "\u001B[2m\u001B[36m(_Trainable pid=24300)\u001B[0m C:\\Users\\konon\\anaconda3\\envs\\GPEN_m\\lib\\site-packages\\tune_sklearn\\_trainable.py:153: DataConversionWarning: A column-vector y was passed when a 1d array was expected. Please change the shape of y to (n_samples,), for example using ravel().\n",
      "\u001B[2m\u001B[36m(_Trainable pid=24300)\u001B[0m   estimator.fit(X_train, y_train)\n",
      "\u001B[2m\u001B[36m(_Trainable pid=10268)\u001B[0m C:\\Users\\konon\\anaconda3\\envs\\GPEN_m\\lib\\site-packages\\tune_sklearn\\_trainable.py:153: DataConversionWarning: A column-vector y was passed when a 1d array was expected. Please change the shape of y to (n_samples,), for example using ravel().\n",
      "\u001B[2m\u001B[36m(_Trainable pid=10268)\u001B[0m   estimator.fit(X_train, y_train)\n",
      "\u001B[2m\u001B[36m(_Trainable pid=24300)\u001B[0m C:\\Users\\konon\\anaconda3\\envs\\GPEN_m\\lib\\site-packages\\tune_sklearn\\_trainable.py:153: DataConversionWarning: A column-vector y was passed when a 1d array was expected. Please change the shape of y to (n_samples,), for example using ravel().\n",
      "\u001B[2m\u001B[36m(_Trainable pid=24300)\u001B[0m   estimator.fit(X_train, y_train)\n",
      "\u001B[2m\u001B[36m(_Trainable pid=10268)\u001B[0m C:\\Users\\konon\\anaconda3\\envs\\GPEN_m\\lib\\site-packages\\tune_sklearn\\_trainable.py:153: DataConversionWarning: A column-vector y was passed when a 1d array was expected. Please change the shape of y to (n_samples,), for example using ravel().\n",
      "\u001B[2m\u001B[36m(_Trainable pid=10268)\u001B[0m   estimator.fit(X_train, y_train)\n",
      "\u001B[2m\u001B[36m(_Trainable pid=24300)\u001B[0m C:\\Users\\konon\\anaconda3\\envs\\GPEN_m\\lib\\site-packages\\tune_sklearn\\_trainable.py:153: DataConversionWarning: A column-vector y was passed when a 1d array was expected. Please change the shape of y to (n_samples,), for example using ravel().\n",
      "\u001B[2m\u001B[36m(_Trainable pid=24300)\u001B[0m   estimator.fit(X_train, y_train)\n",
      "\u001B[2m\u001B[36m(_Trainable pid=10268)\u001B[0m C:\\Users\\konon\\anaconda3\\envs\\GPEN_m\\lib\\site-packages\\tune_sklearn\\_trainable.py:153: DataConversionWarning: A column-vector y was passed when a 1d array was expected. Please change the shape of y to (n_samples,), for example using ravel().\n",
      "\u001B[2m\u001B[36m(_Trainable pid=10268)\u001B[0m   estimator.fit(X_train, y_train)\n",
      "\u001B[2m\u001B[36m(_Trainable pid=24300)\u001B[0m C:\\Users\\konon\\anaconda3\\envs\\GPEN_m\\lib\\site-packages\\tune_sklearn\\_trainable.py:153: DataConversionWarning: A column-vector y was passed when a 1d array was expected. Please change the shape of y to (n_samples,), for example using ravel().\n",
      "\u001B[2m\u001B[36m(_Trainable pid=24300)\u001B[0m   estimator.fit(X_train, y_train)\n",
      "\u001B[2m\u001B[36m(_Trainable pid=10268)\u001B[0m C:\\Users\\konon\\anaconda3\\envs\\GPEN_m\\lib\\site-packages\\tune_sklearn\\_trainable.py:153: DataConversionWarning: A column-vector y was passed when a 1d array was expected. Please change the shape of y to (n_samples,), for example using ravel().\n",
      "\u001B[2m\u001B[36m(_Trainable pid=10268)\u001B[0m   estimator.fit(X_train, y_train)\n",
      "\u001B[2m\u001B[36m(_Trainable pid=24300)\u001B[0m C:\\Users\\konon\\anaconda3\\envs\\GPEN_m\\lib\\site-packages\\tune_sklearn\\_trainable.py:153: DataConversionWarning: A column-vector y was passed when a 1d array was expected. Please change the shape of y to (n_samples,), for example using ravel().\n",
      "\u001B[2m\u001B[36m(_Trainable pid=24300)\u001B[0m   estimator.fit(X_train, y_train)\n",
      "\u001B[2m\u001B[36m(_Trainable pid=10268)\u001B[0m C:\\Users\\konon\\anaconda3\\envs\\GPEN_m\\lib\\site-packages\\tune_sklearn\\_trainable.py:153: DataConversionWarning: A column-vector y was passed when a 1d array was expected. Please change the shape of y to (n_samples,), for example using ravel().\n",
      "\u001B[2m\u001B[36m(_Trainable pid=10268)\u001B[0m   estimator.fit(X_train, y_train)\n",
      "\u001B[2m\u001B[36m(_Trainable pid=24300)\u001B[0m C:\\Users\\konon\\anaconda3\\envs\\GPEN_m\\lib\\site-packages\\tune_sklearn\\_trainable.py:153: DataConversionWarning: A column-vector y was passed when a 1d array was expected. Please change the shape of y to (n_samples,), for example using ravel().\n",
      "\u001B[2m\u001B[36m(_Trainable pid=24300)\u001B[0m   estimator.fit(X_train, y_train)\n",
      "\u001B[2m\u001B[36m(_Trainable pid=10268)\u001B[0m C:\\Users\\konon\\anaconda3\\envs\\GPEN_m\\lib\\site-packages\\tune_sklearn\\_trainable.py:153: DataConversionWarning: A column-vector y was passed when a 1d array was expected. Please change the shape of y to (n_samples,), for example using ravel().\n",
      "\u001B[2m\u001B[36m(_Trainable pid=10268)\u001B[0m   estimator.fit(X_train, y_train)\n",
      "\u001B[2m\u001B[36m(_Trainable pid=24300)\u001B[0m C:\\Users\\konon\\anaconda3\\envs\\GPEN_m\\lib\\site-packages\\tune_sklearn\\_trainable.py:153: DataConversionWarning: A column-vector y was passed when a 1d array was expected. Please change the shape of y to (n_samples,), for example using ravel().\n",
      "\u001B[2m\u001B[36m(_Trainable pid=24300)\u001B[0m   estimator.fit(X_train, y_train)\n",
      "\u001B[2m\u001B[36m(_Trainable pid=10268)\u001B[0m C:\\Users\\konon\\anaconda3\\envs\\GPEN_m\\lib\\site-packages\\tune_sklearn\\_trainable.py:153: DataConversionWarning: A column-vector y was passed when a 1d array was expected. Please change the shape of y to (n_samples,), for example using ravel().\n",
      "\u001B[2m\u001B[36m(_Trainable pid=10268)\u001B[0m   estimator.fit(X_train, y_train)\n",
      "2022-10-26 16:27:52,122\tINFO tensorboardx.py:267 -- Removed the following hyperparameter values when logging to tensorboard: {'cv': StratifiedKFold(n_splits=5, random_state=None, shuffle=False), 'early_stop_type': <EarlyStopping.WARM_START_ENSEMBLE: 3>, 'scoring/score': <function _passthrough_scorer at 0x00000222A20ACE50>}\n",
      "\u001B[2m\u001B[36m(_Trainable pid=10268)\u001B[0m C:\\Users\\konon\\anaconda3\\envs\\GPEN_m\\lib\\site-packages\\tune_sklearn\\_trainable.py:153: DataConversionWarning: A column-vector y was passed when a 1d array was expected. Please change the shape of y to (n_samples,), for example using ravel().\n",
      "\u001B[2m\u001B[36m(_Trainable pid=10268)\u001B[0m   estimator.fit(X_train, y_train)\n",
      "2022-10-26 16:28:00,606\tINFO tensorboardx.py:267 -- Removed the following hyperparameter values when logging to tensorboard: {'cv': StratifiedKFold(n_splits=5, random_state=None, shuffle=False), 'early_stop_type': <EarlyStopping.WARM_START_ENSEMBLE: 3>, 'scoring/score': <function _passthrough_scorer at 0x00000222A20ACE50>}\n",
      "C:\\Users\\konon\\anaconda3\\envs\\GPEN_m\\lib\\site-packages\\tune_sklearn\\tune_basesearch.py:589: DataConversionWarning: A column-vector y was passed when a 1d array was expected. Please change the shape of y to (n_samples,), for example using ravel().\n",
      "  self.best_estimator.fit(X, y, **fit_params)\n"
     ]
    },
    {
     "name": "stdout",
     "output_type": "stream",
     "text": [
      "Полученные результаты классификации:\n",
      "              precision    recall  f1-score   support\n",
      "\n",
      "           0       0.99      1.00      1.00     98840\n",
      "           1       0.90      0.01      0.02       724\n",
      "\n",
      "    accuracy                           0.99     99564\n",
      "   macro avg       0.95      0.51      0.51     99564\n",
      "weighted avg       0.99      0.99      0.99     99564\n",
      "\n"
     ]
    }
   ],
   "source": [
    "from ray.tune.sklearn import TuneSearchCV\n",
    "from ray import tune\n",
    "\n",
    "param_dists = {\n",
    "    'criterion': tune.choice(['gini', 'entropy']),\n",
    "    'max_depth': tune.choice([i for i in range(2, 17)]),\n",
    "    'max_features': tune.choice(['log2', 'sqrt']),\n",
    "    'min_samples_leaf': tune.choice([i for i in range(2, 33)]),\n",
    "    'min_samples_split': tune.choice([i for i in range(2, 17)]),\n",
    "    'random_state': tune.choice([23])\n",
    "}\n",
    "\n",
    "hyperopt_tune_search = TuneSearchCV(RandomForestClassifier(),\n",
    "    param_distributions=param_dists,\n",
    "    n_trials=2,\n",
    "    early_stopping=True,\n",
    "    max_iters=10,\n",
    "    search_optimization=\"hyperopt\"\n",
    ")\n",
    "\n",
    "hts = hyperopt_tune_search.fit(X_train.to_numpy().reshape(-1, 1), y_train.to_numpy().reshape(-1, 1))\n",
    "\n",
    "y_pred = hts.predict(X_test.to_numpy().reshape(-1, 1))\n",
    "\n",
    "result1 = classification_report(y_test.to_numpy().reshape(-1, 1), y_pred)\n",
    "print(\"Полученные результаты классификации:\",)\n",
    "print (result1)"
   ],
   "metadata": {
    "collapsed": false,
    "pycharm": {
     "name": "#%%\n"
    }
   }
  },
  {
   "cell_type": "code",
   "execution_count": 47,
   "outputs": [
    {
     "data": {
      "text/plain": "{'criterion': 'entropy',\n 'max_depth': 13,\n 'max_features': 'log2',\n 'min_samples_leaf': 25,\n 'min_samples_split': 3,\n 'random_state': 23,\n 'n_estimators': 10}"
     },
     "execution_count": 47,
     "metadata": {},
     "output_type": "execute_result"
    }
   ],
   "source": [
    "hts.best_params"
   ],
   "metadata": {
    "collapsed": false,
    "pycharm": {
     "name": "#%%\n"
    }
   }
  },
  {
   "cell_type": "markdown",
   "source": [],
   "metadata": {
    "collapsed": false
   }
  },
  {
   "cell_type": "code",
   "execution_count": 48,
   "outputs": [],
   "source": [
    "us_data = pd.DataFrame()\n",
    "us_data['cosine'] = X_train\n",
    "us_data['is_duplicate'] = y_train"
   ],
   "metadata": {
    "collapsed": false,
    "pycharm": {
     "name": "#%%\n"
    }
   }
  },
  {
   "cell_type": "code",
   "execution_count": 53,
   "outputs": [
    {
     "data": {
      "text/plain": "0    395321\n1      2934\nName: is_duplicate, dtype: int64"
     },
     "execution_count": 53,
     "metadata": {},
     "output_type": "execute_result"
    }
   ],
   "source": [
    "us_data['is_duplicate'].value_counts()"
   ],
   "metadata": {
    "collapsed": false,
    "pycharm": {
     "name": "#%%\n"
    }
   }
  },
  {
   "cell_type": "code",
   "execution_count": 49,
   "outputs": [],
   "source": [
    "rat = len(us_data.loc[us_data['is_duplicate']==0])//len(us_data.loc[us_data['is_duplicate']==1])"
   ],
   "metadata": {
    "collapsed": false,
    "pycharm": {
     "name": "#%%\n"
    }
   }
  },
  {
   "cell_type": "code",
   "execution_count": 51,
   "outputs": [],
   "source": [
    "df_1 = us_data.loc[us_data['is_duplicate']==1]\n",
    "df_1 = df_1.loc[df_1.index.repeat(rat)]\n",
    "train_n = pd.concat([us_data.loc[us_data['is_duplicate']==0], df_1]).sample(frac=1)"
   ],
   "metadata": {
    "collapsed": false,
    "pycharm": {
     "name": "#%%\n"
    }
   }
  },
  {
   "cell_type": "code",
   "execution_count": 52,
   "outputs": [
    {
     "data": {
      "text/plain": "0    395321\n1    393156\nName: is_duplicate, dtype: int64"
     },
     "execution_count": 52,
     "metadata": {},
     "output_type": "execute_result"
    }
   ],
   "source": [
    "train_n['is_duplicate'].value_counts()"
   ],
   "metadata": {
    "collapsed": false,
    "pycharm": {
     "name": "#%%\n"
    }
   }
  },
  {
   "cell_type": "code",
   "execution_count": 54,
   "outputs": [],
   "source": [
    "X_train_us = train_n['cosine']\n",
    "y_train_us = train_n['is_duplicate']"
   ],
   "metadata": {
    "collapsed": false,
    "pycharm": {
     "name": "#%%\n"
    }
   }
  },
  {
   "cell_type": "markdown",
   "source": [
    "Random forest"
   ],
   "metadata": {
    "collapsed": false
   }
  },
  {
   "cell_type": "code",
   "execution_count": 55,
   "outputs": [
    {
     "name": "stderr",
     "output_type": "stream",
     "text": [
      "C:\\Users\\konon\\AppData\\Local\\Temp\\ipykernel_2768\\1054344919.py:2: DataConversionWarning: A column-vector y was passed when a 1d array was expected. Please change the shape of y to (n_samples,), for example using ravel().\n",
      "  clf_us = clf_us.fit(X_train_us.to_numpy().reshape(-1, 1), y_train_us.to_numpy().reshape(-1, 1))\n"
     ]
    },
    {
     "name": "stdout",
     "output_type": "stream",
     "text": [
      "Полученные результаты классификации:\n",
      "              precision    recall  f1-score   support\n",
      "\n",
      "           0       0.99      0.99      0.99     98840\n",
      "           1       0.21      0.22      0.21       724\n",
      "\n",
      "    accuracy                           0.99     99564\n",
      "   macro avg       0.60      0.61      0.60     99564\n",
      "weighted avg       0.99      0.99      0.99     99564\n",
      "\n"
     ]
    }
   ],
   "source": [
    "clf_us = RandomForestClassifier()\n",
    "clf_us = clf_us.fit(X_train_us.to_numpy().reshape(-1, 1), y_train_us.to_numpy())\n",
    "\n",
    "y_pred = clf_us.predict(X_test.to_numpy().reshape(-1, 1))\n",
    "\n",
    "result1 = classification_report(y_test.to_numpy(), y_pred)\n",
    "print(\"Полученные результаты классификации:\",)\n",
    "print (result1)"
   ],
   "metadata": {
    "collapsed": false,
    "pycharm": {
     "name": "#%%\n"
    }
   }
  },
  {
   "cell_type": "markdown",
   "source": [
    "Logistic regression"
   ],
   "metadata": {
    "collapsed": false
   }
  },
  {
   "cell_type": "code",
   "execution_count": 57,
   "outputs": [
    {
     "name": "stdout",
     "output_type": "stream",
     "text": [
      "Полученные результаты классификации:\n",
      "              precision    recall  f1-score   support\n",
      "\n",
      "           0       1.00      0.76      0.86     98840\n",
      "           1       0.02      0.76      0.04       724\n",
      "\n",
      "    accuracy                           0.76     99564\n",
      "   macro avg       0.51      0.76      0.45     99564\n",
      "weighted avg       0.99      0.76      0.86     99564\n",
      "\n"
     ]
    }
   ],
   "source": [
    "clf_us = LogisticRegression()\n",
    "clf_us = clf_us.fit(X_train_us.to_numpy().reshape(-1, 1), y_train_us.to_numpy())\n",
    "\n",
    "y_pred = clf_us.predict(X_test.to_numpy().reshape(-1, 1))\n",
    "\n",
    "result1 = classification_report(y_test.to_numpy(), y_pred)\n",
    "print(\"Полученные результаты классификации:\",)\n",
    "print (result1)"
   ],
   "metadata": {
    "collapsed": false,
    "pycharm": {
     "name": "#%%\n"
    }
   }
  },
  {
   "cell_type": "markdown",
   "source": [
    "Random forest with hyperparameter tuning"
   ],
   "metadata": {
    "collapsed": false
   }
  },
  {
   "cell_type": "code",
   "execution_count": 62,
   "outputs": [
    {
     "data": {
      "text/plain": "<IPython.core.display.HTML object>",
      "text/html": ""
     },
     "metadata": {},
     "output_type": "display_data"
    },
    {
     "name": "stderr",
     "output_type": "stream",
     "text": [
      "\u001B[2m\u001B[36m(_Trainable pid=572)\u001B[0m C:\\Users\\konon\\anaconda3\\envs\\GPEN_m\\lib\\site-packages\\tune_sklearn\\_trainable.py:153: DataConversionWarning: A column-vector y was passed when a 1d array was expected. Please change the shape of y to (n_samples,), for example using ravel().\n",
      "\u001B[2m\u001B[36m(_Trainable pid=572)\u001B[0m   estimator.fit(X_train, y_train)\n",
      "\u001B[2m\u001B[36m(_Trainable pid=11612)\u001B[0m C:\\Users\\konon\\anaconda3\\envs\\GPEN_m\\lib\\site-packages\\tune_sklearn\\_trainable.py:153: DataConversionWarning: A column-vector y was passed when a 1d array was expected. Please change the shape of y to (n_samples,), for example using ravel().\n",
      "\u001B[2m\u001B[36m(_Trainable pid=11612)\u001B[0m   estimator.fit(X_train, y_train)\n",
      "\u001B[2m\u001B[36m(_Trainable pid=572)\u001B[0m C:\\Users\\konon\\anaconda3\\envs\\GPEN_m\\lib\\site-packages\\tune_sklearn\\_trainable.py:153: DataConversionWarning: A column-vector y was passed when a 1d array was expected. Please change the shape of y to (n_samples,), for example using ravel().\n",
      "\u001B[2m\u001B[36m(_Trainable pid=572)\u001B[0m   estimator.fit(X_train, y_train)\n",
      "\u001B[2m\u001B[36m(_Trainable pid=11612)\u001B[0m C:\\Users\\konon\\anaconda3\\envs\\GPEN_m\\lib\\site-packages\\tune_sklearn\\_trainable.py:153: DataConversionWarning: A column-vector y was passed when a 1d array was expected. Please change the shape of y to (n_samples,), for example using ravel().\n",
      "\u001B[2m\u001B[36m(_Trainable pid=11612)\u001B[0m   estimator.fit(X_train, y_train)\n",
      "\u001B[2m\u001B[36m(_Trainable pid=572)\u001B[0m C:\\Users\\konon\\anaconda3\\envs\\GPEN_m\\lib\\site-packages\\tune_sklearn\\_trainable.py:153: DataConversionWarning: A column-vector y was passed when a 1d array was expected. Please change the shape of y to (n_samples,), for example using ravel().\n",
      "\u001B[2m\u001B[36m(_Trainable pid=572)\u001B[0m   estimator.fit(X_train, y_train)\n",
      "\u001B[2m\u001B[36m(_Trainable pid=11612)\u001B[0m C:\\Users\\konon\\anaconda3\\envs\\GPEN_m\\lib\\site-packages\\tune_sklearn\\_trainable.py:153: DataConversionWarning: A column-vector y was passed when a 1d array was expected. Please change the shape of y to (n_samples,), for example using ravel().\n",
      "\u001B[2m\u001B[36m(_Trainable pid=11612)\u001B[0m   estimator.fit(X_train, y_train)\n",
      "\u001B[2m\u001B[36m(_Trainable pid=572)\u001B[0m C:\\Users\\konon\\anaconda3\\envs\\GPEN_m\\lib\\site-packages\\tune_sklearn\\_trainable.py:153: DataConversionWarning: A column-vector y was passed when a 1d array was expected. Please change the shape of y to (n_samples,), for example using ravel().\n",
      "\u001B[2m\u001B[36m(_Trainable pid=572)\u001B[0m   estimator.fit(X_train, y_train)\n",
      "\u001B[2m\u001B[36m(_Trainable pid=11612)\u001B[0m C:\\Users\\konon\\anaconda3\\envs\\GPEN_m\\lib\\site-packages\\tune_sklearn\\_trainable.py:153: DataConversionWarning: A column-vector y was passed when a 1d array was expected. Please change the shape of y to (n_samples,), for example using ravel().\n",
      "\u001B[2m\u001B[36m(_Trainable pid=11612)\u001B[0m   estimator.fit(X_train, y_train)\n",
      "\u001B[2m\u001B[36m(_Trainable pid=572)\u001B[0m C:\\Users\\konon\\anaconda3\\envs\\GPEN_m\\lib\\site-packages\\tune_sklearn\\_trainable.py:153: DataConversionWarning: A column-vector y was passed when a 1d array was expected. Please change the shape of y to (n_samples,), for example using ravel().\n",
      "\u001B[2m\u001B[36m(_Trainable pid=572)\u001B[0m   estimator.fit(X_train, y_train)\n",
      "\u001B[2m\u001B[36m(_Trainable pid=11612)\u001B[0m C:\\Users\\konon\\anaconda3\\envs\\GPEN_m\\lib\\site-packages\\tune_sklearn\\_trainable.py:153: DataConversionWarning: A column-vector y was passed when a 1d array was expected. Please change the shape of y to (n_samples,), for example using ravel().\n",
      "\u001B[2m\u001B[36m(_Trainable pid=11612)\u001B[0m   estimator.fit(X_train, y_train)\n",
      "\u001B[2m\u001B[36m(_Trainable pid=572)\u001B[0m C:\\Users\\konon\\anaconda3\\envs\\GPEN_m\\lib\\site-packages\\tune_sklearn\\_trainable.py:153: DataConversionWarning: A column-vector y was passed when a 1d array was expected. Please change the shape of y to (n_samples,), for example using ravel().\n",
      "\u001B[2m\u001B[36m(_Trainable pid=572)\u001B[0m   estimator.fit(X_train, y_train)\n",
      "\u001B[2m\u001B[36m(_Trainable pid=11612)\u001B[0m C:\\Users\\konon\\anaconda3\\envs\\GPEN_m\\lib\\site-packages\\tune_sklearn\\_trainable.py:153: DataConversionWarning: A column-vector y was passed when a 1d array was expected. Please change the shape of y to (n_samples,), for example using ravel().\n",
      "\u001B[2m\u001B[36m(_Trainable pid=11612)\u001B[0m   estimator.fit(X_train, y_train)\n",
      "\u001B[2m\u001B[36m(_Trainable pid=572)\u001B[0m C:\\Users\\konon\\anaconda3\\envs\\GPEN_m\\lib\\site-packages\\tune_sklearn\\_trainable.py:153: DataConversionWarning: A column-vector y was passed when a 1d array was expected. Please change the shape of y to (n_samples,), for example using ravel().\n",
      "\u001B[2m\u001B[36m(_Trainable pid=572)\u001B[0m   estimator.fit(X_train, y_train)\n",
      "\u001B[2m\u001B[36m(_Trainable pid=11612)\u001B[0m C:\\Users\\konon\\anaconda3\\envs\\GPEN_m\\lib\\site-packages\\tune_sklearn\\_trainable.py:153: DataConversionWarning: A column-vector y was passed when a 1d array was expected. Please change the shape of y to (n_samples,), for example using ravel().\n",
      "\u001B[2m\u001B[36m(_Trainable pid=11612)\u001B[0m   estimator.fit(X_train, y_train)\n",
      "\u001B[2m\u001B[36m(_Trainable pid=572)\u001B[0m C:\\Users\\konon\\anaconda3\\envs\\GPEN_m\\lib\\site-packages\\tune_sklearn\\_trainable.py:153: DataConversionWarning: A column-vector y was passed when a 1d array was expected. Please change the shape of y to (n_samples,), for example using ravel().\n",
      "\u001B[2m\u001B[36m(_Trainable pid=572)\u001B[0m   estimator.fit(X_train, y_train)\n",
      "\u001B[2m\u001B[36m(_Trainable pid=11612)\u001B[0m C:\\Users\\konon\\anaconda3\\envs\\GPEN_m\\lib\\site-packages\\tune_sklearn\\_trainable.py:153: DataConversionWarning: A column-vector y was passed when a 1d array was expected. Please change the shape of y to (n_samples,), for example using ravel().\n",
      "\u001B[2m\u001B[36m(_Trainable pid=11612)\u001B[0m   estimator.fit(X_train, y_train)\n",
      "\u001B[2m\u001B[36m(_Trainable pid=572)\u001B[0m C:\\Users\\konon\\anaconda3\\envs\\GPEN_m\\lib\\site-packages\\tune_sklearn\\_trainable.py:153: DataConversionWarning: A column-vector y was passed when a 1d array was expected. Please change the shape of y to (n_samples,), for example using ravel().\n",
      "\u001B[2m\u001B[36m(_Trainable pid=572)\u001B[0m   estimator.fit(X_train, y_train)\n",
      "\u001B[2m\u001B[36m(_Trainable pid=11612)\u001B[0m C:\\Users\\konon\\anaconda3\\envs\\GPEN_m\\lib\\site-packages\\tune_sklearn\\_trainable.py:153: DataConversionWarning: A column-vector y was passed when a 1d array was expected. Please change the shape of y to (n_samples,), for example using ravel().\n",
      "\u001B[2m\u001B[36m(_Trainable pid=11612)\u001B[0m   estimator.fit(X_train, y_train)\n",
      "\u001B[2m\u001B[36m(_Trainable pid=572)\u001B[0m C:\\Users\\konon\\anaconda3\\envs\\GPEN_m\\lib\\site-packages\\tune_sklearn\\_trainable.py:153: DataConversionWarning: A column-vector y was passed when a 1d array was expected. Please change the shape of y to (n_samples,), for example using ravel().\n",
      "\u001B[2m\u001B[36m(_Trainable pid=572)\u001B[0m   estimator.fit(X_train, y_train)\n",
      "\u001B[2m\u001B[36m(_Trainable pid=11612)\u001B[0m C:\\Users\\konon\\anaconda3\\envs\\GPEN_m\\lib\\site-packages\\tune_sklearn\\_trainable.py:153: DataConversionWarning: A column-vector y was passed when a 1d array was expected. Please change the shape of y to (n_samples,), for example using ravel().\n",
      "\u001B[2m\u001B[36m(_Trainable pid=11612)\u001B[0m   estimator.fit(X_train, y_train)\n",
      "\u001B[2m\u001B[36m(_Trainable pid=572)\u001B[0m C:\\Users\\konon\\anaconda3\\envs\\GPEN_m\\lib\\site-packages\\tune_sklearn\\_trainable.py:153: DataConversionWarning: A column-vector y was passed when a 1d array was expected. Please change the shape of y to (n_samples,), for example using ravel().\n",
      "\u001B[2m\u001B[36m(_Trainable pid=572)\u001B[0m   estimator.fit(X_train, y_train)\n",
      "\u001B[2m\u001B[36m(_Trainable pid=11612)\u001B[0m C:\\Users\\konon\\anaconda3\\envs\\GPEN_m\\lib\\site-packages\\tune_sklearn\\_trainable.py:153: DataConversionWarning: A column-vector y was passed when a 1d array was expected. Please change the shape of y to (n_samples,), for example using ravel().\n",
      "\u001B[2m\u001B[36m(_Trainable pid=11612)\u001B[0m   estimator.fit(X_train, y_train)\n",
      "\u001B[2m\u001B[36m(_Trainable pid=572)\u001B[0m C:\\Users\\konon\\anaconda3\\envs\\GPEN_m\\lib\\site-packages\\tune_sklearn\\_trainable.py:153: DataConversionWarning: A column-vector y was passed when a 1d array was expected. Please change the shape of y to (n_samples,), for example using ravel().\n",
      "\u001B[2m\u001B[36m(_Trainable pid=572)\u001B[0m   estimator.fit(X_train, y_train)\n",
      "\u001B[2m\u001B[36m(_Trainable pid=572)\u001B[0m C:\\Users\\konon\\anaconda3\\envs\\GPEN_m\\lib\\site-packages\\tune_sklearn\\_trainable.py:153: DataConversionWarning: A column-vector y was passed when a 1d array was expected. Please change the shape of y to (n_samples,), for example using ravel().\n",
      "\u001B[2m\u001B[36m(_Trainable pid=572)\u001B[0m   estimator.fit(X_train, y_train)\n",
      "\u001B[2m\u001B[36m(_Trainable pid=11612)\u001B[0m C:\\Users\\konon\\anaconda3\\envs\\GPEN_m\\lib\\site-packages\\tune_sklearn\\_trainable.py:153: DataConversionWarning: A column-vector y was passed when a 1d array was expected. Please change the shape of y to (n_samples,), for example using ravel().\n",
      "\u001B[2m\u001B[36m(_Trainable pid=11612)\u001B[0m   estimator.fit(X_train, y_train)\n",
      "\u001B[2m\u001B[36m(_Trainable pid=572)\u001B[0m C:\\Users\\konon\\anaconda3\\envs\\GPEN_m\\lib\\site-packages\\tune_sklearn\\_trainable.py:153: DataConversionWarning: A column-vector y was passed when a 1d array was expected. Please change the shape of y to (n_samples,), for example using ravel().\n",
      "\u001B[2m\u001B[36m(_Trainable pid=572)\u001B[0m   estimator.fit(X_train, y_train)\n",
      "\u001B[2m\u001B[36m(_Trainable pid=11612)\u001B[0m C:\\Users\\konon\\anaconda3\\envs\\GPEN_m\\lib\\site-packages\\tune_sklearn\\_trainable.py:153: DataConversionWarning: A column-vector y was passed when a 1d array was expected. Please change the shape of y to (n_samples,), for example using ravel().\n",
      "\u001B[2m\u001B[36m(_Trainable pid=11612)\u001B[0m   estimator.fit(X_train, y_train)\n",
      "\u001B[2m\u001B[36m(_Trainable pid=572)\u001B[0m C:\\Users\\konon\\anaconda3\\envs\\GPEN_m\\lib\\site-packages\\tune_sklearn\\_trainable.py:153: DataConversionWarning: A column-vector y was passed when a 1d array was expected. Please change the shape of y to (n_samples,), for example using ravel().\n",
      "\u001B[2m\u001B[36m(_Trainable pid=572)\u001B[0m   estimator.fit(X_train, y_train)\n",
      "\u001B[2m\u001B[36m(_Trainable pid=11612)\u001B[0m C:\\Users\\konon\\anaconda3\\envs\\GPEN_m\\lib\\site-packages\\tune_sklearn\\_trainable.py:153: DataConversionWarning: A column-vector y was passed when a 1d array was expected. Please change the shape of y to (n_samples,), for example using ravel().\n",
      "\u001B[2m\u001B[36m(_Trainable pid=11612)\u001B[0m   estimator.fit(X_train, y_train)\n",
      "\u001B[2m\u001B[36m(_Trainable pid=572)\u001B[0m C:\\Users\\konon\\anaconda3\\envs\\GPEN_m\\lib\\site-packages\\tune_sklearn\\_trainable.py:153: DataConversionWarning: A column-vector y was passed when a 1d array was expected. Please change the shape of y to (n_samples,), for example using ravel().\n",
      "\u001B[2m\u001B[36m(_Trainable pid=572)\u001B[0m   estimator.fit(X_train, y_train)\n",
      "\u001B[2m\u001B[36m(_Trainable pid=11612)\u001B[0m C:\\Users\\konon\\anaconda3\\envs\\GPEN_m\\lib\\site-packages\\tune_sklearn\\_trainable.py:153: DataConversionWarning: A column-vector y was passed when a 1d array was expected. Please change the shape of y to (n_samples,), for example using ravel().\n",
      "\u001B[2m\u001B[36m(_Trainable pid=11612)\u001B[0m   estimator.fit(X_train, y_train)\n",
      "\u001B[2m\u001B[36m(_Trainable pid=572)\u001B[0m C:\\Users\\konon\\anaconda3\\envs\\GPEN_m\\lib\\site-packages\\tune_sklearn\\_trainable.py:153: DataConversionWarning: A column-vector y was passed when a 1d array was expected. Please change the shape of y to (n_samples,), for example using ravel().\n",
      "\u001B[2m\u001B[36m(_Trainable pid=572)\u001B[0m   estimator.fit(X_train, y_train)\n",
      "\u001B[2m\u001B[36m(_Trainable pid=11612)\u001B[0m C:\\Users\\konon\\anaconda3\\envs\\GPEN_m\\lib\\site-packages\\tune_sklearn\\_trainable.py:153: DataConversionWarning: A column-vector y was passed when a 1d array was expected. Please change the shape of y to (n_samples,), for example using ravel().\n",
      "\u001B[2m\u001B[36m(_Trainable pid=11612)\u001B[0m   estimator.fit(X_train, y_train)\n",
      "\u001B[2m\u001B[36m(_Trainable pid=572)\u001B[0m C:\\Users\\konon\\anaconda3\\envs\\GPEN_m\\lib\\site-packages\\tune_sklearn\\_trainable.py:153: DataConversionWarning: A column-vector y was passed when a 1d array was expected. Please change the shape of y to (n_samples,), for example using ravel().\n",
      "\u001B[2m\u001B[36m(_Trainable pid=572)\u001B[0m   estimator.fit(X_train, y_train)\n",
      "\u001B[2m\u001B[36m(_Trainable pid=11612)\u001B[0m C:\\Users\\konon\\anaconda3\\envs\\GPEN_m\\lib\\site-packages\\tune_sklearn\\_trainable.py:153: DataConversionWarning: A column-vector y was passed when a 1d array was expected. Please change the shape of y to (n_samples,), for example using ravel().\n",
      "\u001B[2m\u001B[36m(_Trainable pid=11612)\u001B[0m   estimator.fit(X_train, y_train)\n",
      "\u001B[2m\u001B[36m(_Trainable pid=572)\u001B[0m C:\\Users\\konon\\anaconda3\\envs\\GPEN_m\\lib\\site-packages\\tune_sklearn\\_trainable.py:153: DataConversionWarning: A column-vector y was passed when a 1d array was expected. Please change the shape of y to (n_samples,), for example using ravel().\n",
      "\u001B[2m\u001B[36m(_Trainable pid=572)\u001B[0m   estimator.fit(X_train, y_train)\n",
      "\u001B[2m\u001B[36m(_Trainable pid=11612)\u001B[0m C:\\Users\\konon\\anaconda3\\envs\\GPEN_m\\lib\\site-packages\\tune_sklearn\\_trainable.py:153: DataConversionWarning: A column-vector y was passed when a 1d array was expected. Please change the shape of y to (n_samples,), for example using ravel().\n",
      "\u001B[2m\u001B[36m(_Trainable pid=11612)\u001B[0m   estimator.fit(X_train, y_train)\n",
      "\u001B[2m\u001B[36m(_Trainable pid=572)\u001B[0m C:\\Users\\konon\\anaconda3\\envs\\GPEN_m\\lib\\site-packages\\tune_sklearn\\_trainable.py:153: DataConversionWarning: A column-vector y was passed when a 1d array was expected. Please change the shape of y to (n_samples,), for example using ravel().\n",
      "\u001B[2m\u001B[36m(_Trainable pid=572)\u001B[0m   estimator.fit(X_train, y_train)\n",
      "\u001B[2m\u001B[36m(_Trainable pid=11612)\u001B[0m C:\\Users\\konon\\anaconda3\\envs\\GPEN_m\\lib\\site-packages\\tune_sklearn\\_trainable.py:153: DataConversionWarning: A column-vector y was passed when a 1d array was expected. Please change the shape of y to (n_samples,), for example using ravel().\n",
      "\u001B[2m\u001B[36m(_Trainable pid=11612)\u001B[0m   estimator.fit(X_train, y_train)\n",
      "\u001B[2m\u001B[36m(_Trainable pid=572)\u001B[0m C:\\Users\\konon\\anaconda3\\envs\\GPEN_m\\lib\\site-packages\\tune_sklearn\\_trainable.py:153: DataConversionWarning: A column-vector y was passed when a 1d array was expected. Please change the shape of y to (n_samples,), for example using ravel().\n",
      "\u001B[2m\u001B[36m(_Trainable pid=572)\u001B[0m   estimator.fit(X_train, y_train)\n",
      "\u001B[2m\u001B[36m(_Trainable pid=11612)\u001B[0m C:\\Users\\konon\\anaconda3\\envs\\GPEN_m\\lib\\site-packages\\tune_sklearn\\_trainable.py:153: DataConversionWarning: A column-vector y was passed when a 1d array was expected. Please change the shape of y to (n_samples,), for example using ravel().\n",
      "\u001B[2m\u001B[36m(_Trainable pid=11612)\u001B[0m   estimator.fit(X_train, y_train)\n",
      "\u001B[2m\u001B[36m(_Trainable pid=572)\u001B[0m C:\\Users\\konon\\anaconda3\\envs\\GPEN_m\\lib\\site-packages\\tune_sklearn\\_trainable.py:153: DataConversionWarning: A column-vector y was passed when a 1d array was expected. Please change the shape of y to (n_samples,), for example using ravel().\n",
      "\u001B[2m\u001B[36m(_Trainable pid=572)\u001B[0m   estimator.fit(X_train, y_train)\n",
      "\u001B[2m\u001B[36m(_Trainable pid=11612)\u001B[0m C:\\Users\\konon\\anaconda3\\envs\\GPEN_m\\lib\\site-packages\\tune_sklearn\\_trainable.py:153: DataConversionWarning: A column-vector y was passed when a 1d array was expected. Please change the shape of y to (n_samples,), for example using ravel().\n",
      "\u001B[2m\u001B[36m(_Trainable pid=11612)\u001B[0m   estimator.fit(X_train, y_train)\n",
      "\u001B[2m\u001B[36m(_Trainable pid=572)\u001B[0m C:\\Users\\konon\\anaconda3\\envs\\GPEN_m\\lib\\site-packages\\tune_sklearn\\_trainable.py:153: DataConversionWarning: A column-vector y was passed when a 1d array was expected. Please change the shape of y to (n_samples,), for example using ravel().\n",
      "\u001B[2m\u001B[36m(_Trainable pid=572)\u001B[0m   estimator.fit(X_train, y_train)\n",
      "\u001B[2m\u001B[36m(_Trainable pid=11612)\u001B[0m C:\\Users\\konon\\anaconda3\\envs\\GPEN_m\\lib\\site-packages\\tune_sklearn\\_trainable.py:153: DataConversionWarning: A column-vector y was passed when a 1d array was expected. Please change the shape of y to (n_samples,), for example using ravel().\n",
      "\u001B[2m\u001B[36m(_Trainable pid=11612)\u001B[0m   estimator.fit(X_train, y_train)\n",
      "\u001B[2m\u001B[36m(_Trainable pid=572)\u001B[0m C:\\Users\\konon\\anaconda3\\envs\\GPEN_m\\lib\\site-packages\\tune_sklearn\\_trainable.py:153: DataConversionWarning: A column-vector y was passed when a 1d array was expected. Please change the shape of y to (n_samples,), for example using ravel().\n",
      "\u001B[2m\u001B[36m(_Trainable pid=572)\u001B[0m   estimator.fit(X_train, y_train)\n",
      "\u001B[2m\u001B[36m(_Trainable pid=11612)\u001B[0m C:\\Users\\konon\\anaconda3\\envs\\GPEN_m\\lib\\site-packages\\tune_sklearn\\_trainable.py:153: DataConversionWarning: A column-vector y was passed when a 1d array was expected. Please change the shape of y to (n_samples,), for example using ravel().\n",
      "\u001B[2m\u001B[36m(_Trainable pid=11612)\u001B[0m   estimator.fit(X_train, y_train)\n",
      "\u001B[2m\u001B[36m(_Trainable pid=572)\u001B[0m C:\\Users\\konon\\anaconda3\\envs\\GPEN_m\\lib\\site-packages\\tune_sklearn\\_trainable.py:153: DataConversionWarning: A column-vector y was passed when a 1d array was expected. Please change the shape of y to (n_samples,), for example using ravel().\n",
      "\u001B[2m\u001B[36m(_Trainable pid=572)\u001B[0m   estimator.fit(X_train, y_train)\n",
      "\u001B[2m\u001B[36m(_Trainable pid=11612)\u001B[0m C:\\Users\\konon\\anaconda3\\envs\\GPEN_m\\lib\\site-packages\\tune_sklearn\\_trainable.py:153: DataConversionWarning: A column-vector y was passed when a 1d array was expected. Please change the shape of y to (n_samples,), for example using ravel().\n",
      "\u001B[2m\u001B[36m(_Trainable pid=11612)\u001B[0m   estimator.fit(X_train, y_train)\n",
      "\u001B[2m\u001B[36m(_Trainable pid=572)\u001B[0m C:\\Users\\konon\\anaconda3\\envs\\GPEN_m\\lib\\site-packages\\tune_sklearn\\_trainable.py:153: DataConversionWarning: A column-vector y was passed when a 1d array was expected. Please change the shape of y to (n_samples,), for example using ravel().\n",
      "\u001B[2m\u001B[36m(_Trainable pid=572)\u001B[0m   estimator.fit(X_train, y_train)\n",
      "\u001B[2m\u001B[36m(_Trainable pid=11612)\u001B[0m C:\\Users\\konon\\anaconda3\\envs\\GPEN_m\\lib\\site-packages\\tune_sklearn\\_trainable.py:153: DataConversionWarning: A column-vector y was passed when a 1d array was expected. Please change the shape of y to (n_samples,), for example using ravel().\n",
      "\u001B[2m\u001B[36m(_Trainable pid=11612)\u001B[0m   estimator.fit(X_train, y_train)\n",
      "\u001B[2m\u001B[36m(_Trainable pid=572)\u001B[0m C:\\Users\\konon\\anaconda3\\envs\\GPEN_m\\lib\\site-packages\\tune_sklearn\\_trainable.py:153: DataConversionWarning: A column-vector y was passed when a 1d array was expected. Please change the shape of y to (n_samples,), for example using ravel().\n",
      "\u001B[2m\u001B[36m(_Trainable pid=572)\u001B[0m   estimator.fit(X_train, y_train)\n",
      "\u001B[2m\u001B[36m(_Trainable pid=572)\u001B[0m C:\\Users\\konon\\anaconda3\\envs\\GPEN_m\\lib\\site-packages\\tune_sklearn\\_trainable.py:153: DataConversionWarning: A column-vector y was passed when a 1d array was expected. Please change the shape of y to (n_samples,), for example using ravel().\n",
      "\u001B[2m\u001B[36m(_Trainable pid=572)\u001B[0m   estimator.fit(X_train, y_train)\n",
      "\u001B[2m\u001B[36m(_Trainable pid=11612)\u001B[0m C:\\Users\\konon\\anaconda3\\envs\\GPEN_m\\lib\\site-packages\\tune_sklearn\\_trainable.py:153: DataConversionWarning: A column-vector y was passed when a 1d array was expected. Please change the shape of y to (n_samples,), for example using ravel().\n",
      "\u001B[2m\u001B[36m(_Trainable pid=11612)\u001B[0m   estimator.fit(X_train, y_train)\n",
      "\u001B[2m\u001B[36m(_Trainable pid=572)\u001B[0m C:\\Users\\konon\\anaconda3\\envs\\GPEN_m\\lib\\site-packages\\tune_sklearn\\_trainable.py:153: DataConversionWarning: A column-vector y was passed when a 1d array was expected. Please change the shape of y to (n_samples,), for example using ravel().\n",
      "\u001B[2m\u001B[36m(_Trainable pid=572)\u001B[0m   estimator.fit(X_train, y_train)\n",
      "\u001B[2m\u001B[36m(_Trainable pid=11612)\u001B[0m C:\\Users\\konon\\anaconda3\\envs\\GPEN_m\\lib\\site-packages\\tune_sklearn\\_trainable.py:153: DataConversionWarning: A column-vector y was passed when a 1d array was expected. Please change the shape of y to (n_samples,), for example using ravel().\n",
      "\u001B[2m\u001B[36m(_Trainable pid=11612)\u001B[0m   estimator.fit(X_train, y_train)\n",
      "\u001B[2m\u001B[36m(_Trainable pid=572)\u001B[0m C:\\Users\\konon\\anaconda3\\envs\\GPEN_m\\lib\\site-packages\\tune_sklearn\\_trainable.py:153: DataConversionWarning: A column-vector y was passed when a 1d array was expected. Please change the shape of y to (n_samples,), for example using ravel().\n",
      "\u001B[2m\u001B[36m(_Trainable pid=572)\u001B[0m   estimator.fit(X_train, y_train)\n",
      "\u001B[2m\u001B[36m(_Trainable pid=11612)\u001B[0m C:\\Users\\konon\\anaconda3\\envs\\GPEN_m\\lib\\site-packages\\tune_sklearn\\_trainable.py:153: DataConversionWarning: A column-vector y was passed when a 1d array was expected. Please change the shape of y to (n_samples,), for example using ravel().\n",
      "\u001B[2m\u001B[36m(_Trainable pid=11612)\u001B[0m   estimator.fit(X_train, y_train)\n",
      "\u001B[2m\u001B[36m(_Trainable pid=572)\u001B[0m C:\\Users\\konon\\anaconda3\\envs\\GPEN_m\\lib\\site-packages\\tune_sklearn\\_trainable.py:153: DataConversionWarning: A column-vector y was passed when a 1d array was expected. Please change the shape of y to (n_samples,), for example using ravel().\n",
      "\u001B[2m\u001B[36m(_Trainable pid=572)\u001B[0m   estimator.fit(X_train, y_train)\n",
      "\u001B[2m\u001B[36m(_Trainable pid=11612)\u001B[0m C:\\Users\\konon\\anaconda3\\envs\\GPEN_m\\lib\\site-packages\\tune_sklearn\\_trainable.py:153: DataConversionWarning: A column-vector y was passed when a 1d array was expected. Please change the shape of y to (n_samples,), for example using ravel().\n",
      "\u001B[2m\u001B[36m(_Trainable pid=11612)\u001B[0m   estimator.fit(X_train, y_train)\n",
      "\u001B[2m\u001B[36m(_Trainable pid=572)\u001B[0m C:\\Users\\konon\\anaconda3\\envs\\GPEN_m\\lib\\site-packages\\tune_sklearn\\_trainable.py:153: DataConversionWarning: A column-vector y was passed when a 1d array was expected. Please change the shape of y to (n_samples,), for example using ravel().\n",
      "\u001B[2m\u001B[36m(_Trainable pid=572)\u001B[0m   estimator.fit(X_train, y_train)\n",
      "\u001B[2m\u001B[36m(_Trainable pid=11612)\u001B[0m C:\\Users\\konon\\anaconda3\\envs\\GPEN_m\\lib\\site-packages\\tune_sklearn\\_trainable.py:153: DataConversionWarning: A column-vector y was passed when a 1d array was expected. Please change the shape of y to (n_samples,), for example using ravel().\n",
      "\u001B[2m\u001B[36m(_Trainable pid=11612)\u001B[0m   estimator.fit(X_train, y_train)\n",
      "\u001B[2m\u001B[36m(_Trainable pid=572)\u001B[0m C:\\Users\\konon\\anaconda3\\envs\\GPEN_m\\lib\\site-packages\\tune_sklearn\\_trainable.py:153: DataConversionWarning: A column-vector y was passed when a 1d array was expected. Please change the shape of y to (n_samples,), for example using ravel().\n",
      "\u001B[2m\u001B[36m(_Trainable pid=572)\u001B[0m   estimator.fit(X_train, y_train)\n",
      "\u001B[2m\u001B[36m(_Trainable pid=11612)\u001B[0m C:\\Users\\konon\\anaconda3\\envs\\GPEN_m\\lib\\site-packages\\tune_sklearn\\_trainable.py:153: DataConversionWarning: A column-vector y was passed when a 1d array was expected. Please change the shape of y to (n_samples,), for example using ravel().\n",
      "\u001B[2m\u001B[36m(_Trainable pid=11612)\u001B[0m   estimator.fit(X_train, y_train)\n",
      "\u001B[2m\u001B[36m(_Trainable pid=572)\u001B[0m C:\\Users\\konon\\anaconda3\\envs\\GPEN_m\\lib\\site-packages\\tune_sklearn\\_trainable.py:153: DataConversionWarning: A column-vector y was passed when a 1d array was expected. Please change the shape of y to (n_samples,), for example using ravel().\n",
      "\u001B[2m\u001B[36m(_Trainable pid=572)\u001B[0m   estimator.fit(X_train, y_train)\n",
      "\u001B[2m\u001B[36m(_Trainable pid=11612)\u001B[0m C:\\Users\\konon\\anaconda3\\envs\\GPEN_m\\lib\\site-packages\\tune_sklearn\\_trainable.py:153: DataConversionWarning: A column-vector y was passed when a 1d array was expected. Please change the shape of y to (n_samples,), for example using ravel().\n",
      "\u001B[2m\u001B[36m(_Trainable pid=11612)\u001B[0m   estimator.fit(X_train, y_train)\n",
      "\u001B[2m\u001B[36m(_Trainable pid=572)\u001B[0m C:\\Users\\konon\\anaconda3\\envs\\GPEN_m\\lib\\site-packages\\tune_sklearn\\_trainable.py:153: DataConversionWarning: A column-vector y was passed when a 1d array was expected. Please change the shape of y to (n_samples,), for example using ravel().\n",
      "\u001B[2m\u001B[36m(_Trainable pid=572)\u001B[0m   estimator.fit(X_train, y_train)\n",
      "\u001B[2m\u001B[36m(_Trainable pid=11612)\u001B[0m C:\\Users\\konon\\anaconda3\\envs\\GPEN_m\\lib\\site-packages\\tune_sklearn\\_trainable.py:153: DataConversionWarning: A column-vector y was passed when a 1d array was expected. Please change the shape of y to (n_samples,), for example using ravel().\n",
      "\u001B[2m\u001B[36m(_Trainable pid=11612)\u001B[0m   estimator.fit(X_train, y_train)\n",
      "\u001B[2m\u001B[36m(_Trainable pid=572)\u001B[0m C:\\Users\\konon\\anaconda3\\envs\\GPEN_m\\lib\\site-packages\\tune_sklearn\\_trainable.py:153: DataConversionWarning: A column-vector y was passed when a 1d array was expected. Please change the shape of y to (n_samples,), for example using ravel().\n",
      "\u001B[2m\u001B[36m(_Trainable pid=572)\u001B[0m   estimator.fit(X_train, y_train)\n",
      "\u001B[2m\u001B[36m(_Trainable pid=11612)\u001B[0m C:\\Users\\konon\\anaconda3\\envs\\GPEN_m\\lib\\site-packages\\tune_sklearn\\_trainable.py:153: DataConversionWarning: A column-vector y was passed when a 1d array was expected. Please change the shape of y to (n_samples,), for example using ravel().\n",
      "\u001B[2m\u001B[36m(_Trainable pid=11612)\u001B[0m   estimator.fit(X_train, y_train)\n",
      "\u001B[2m\u001B[36m(_Trainable pid=572)\u001B[0m C:\\Users\\konon\\anaconda3\\envs\\GPEN_m\\lib\\site-packages\\tune_sklearn\\_trainable.py:153: DataConversionWarning: A column-vector y was passed when a 1d array was expected. Please change the shape of y to (n_samples,), for example using ravel().\n",
      "\u001B[2m\u001B[36m(_Trainable pid=572)\u001B[0m   estimator.fit(X_train, y_train)\n",
      "\u001B[2m\u001B[36m(_Trainable pid=11612)\u001B[0m C:\\Users\\konon\\anaconda3\\envs\\GPEN_m\\lib\\site-packages\\tune_sklearn\\_trainable.py:153: DataConversionWarning: A column-vector y was passed when a 1d array was expected. Please change the shape of y to (n_samples,), for example using ravel().\n",
      "\u001B[2m\u001B[36m(_Trainable pid=11612)\u001B[0m   estimator.fit(X_train, y_train)\n",
      "\u001B[2m\u001B[36m(_Trainable pid=572)\u001B[0m C:\\Users\\konon\\anaconda3\\envs\\GPEN_m\\lib\\site-packages\\tune_sklearn\\_trainable.py:153: DataConversionWarning: A column-vector y was passed when a 1d array was expected. Please change the shape of y to (n_samples,), for example using ravel().\n",
      "\u001B[2m\u001B[36m(_Trainable pid=572)\u001B[0m   estimator.fit(X_train, y_train)\n",
      "\u001B[2m\u001B[36m(_Trainable pid=11612)\u001B[0m C:\\Users\\konon\\anaconda3\\envs\\GPEN_m\\lib\\site-packages\\tune_sklearn\\_trainable.py:153: DataConversionWarning: A column-vector y was passed when a 1d array was expected. Please change the shape of y to (n_samples,), for example using ravel().\n",
      "\u001B[2m\u001B[36m(_Trainable pid=11612)\u001B[0m   estimator.fit(X_train, y_train)\n",
      "\u001B[2m\u001B[36m(_Trainable pid=572)\u001B[0m C:\\Users\\konon\\anaconda3\\envs\\GPEN_m\\lib\\site-packages\\tune_sklearn\\_trainable.py:153: DataConversionWarning: A column-vector y was passed when a 1d array was expected. Please change the shape of y to (n_samples,), for example using ravel().\n",
      "\u001B[2m\u001B[36m(_Trainable pid=572)\u001B[0m   estimator.fit(X_train, y_train)\n",
      "\u001B[2m\u001B[36m(_Trainable pid=11612)\u001B[0m C:\\Users\\konon\\anaconda3\\envs\\GPEN_m\\lib\\site-packages\\tune_sklearn\\_trainable.py:153: DataConversionWarning: A column-vector y was passed when a 1d array was expected. Please change the shape of y to (n_samples,), for example using ravel().\n",
      "\u001B[2m\u001B[36m(_Trainable pid=11612)\u001B[0m   estimator.fit(X_train, y_train)\n",
      "\u001B[2m\u001B[36m(_Trainable pid=572)\u001B[0m C:\\Users\\konon\\anaconda3\\envs\\GPEN_m\\lib\\site-packages\\tune_sklearn\\_trainable.py:153: DataConversionWarning: A column-vector y was passed when a 1d array was expected. Please change the shape of y to (n_samples,), for example using ravel().\n",
      "\u001B[2m\u001B[36m(_Trainable pid=572)\u001B[0m   estimator.fit(X_train, y_train)\n",
      "\u001B[2m\u001B[36m(_Trainable pid=11612)\u001B[0m C:\\Users\\konon\\anaconda3\\envs\\GPEN_m\\lib\\site-packages\\tune_sklearn\\_trainable.py:153: DataConversionWarning: A column-vector y was passed when a 1d array was expected. Please change the shape of y to (n_samples,), for example using ravel().\n",
      "\u001B[2m\u001B[36m(_Trainable pid=11612)\u001B[0m   estimator.fit(X_train, y_train)\n",
      "\u001B[2m\u001B[36m(_Trainable pid=572)\u001B[0m C:\\Users\\konon\\anaconda3\\envs\\GPEN_m\\lib\\site-packages\\tune_sklearn\\_trainable.py:153: DataConversionWarning: A column-vector y was passed when a 1d array was expected. Please change the shape of y to (n_samples,), for example using ravel().\n",
      "\u001B[2m\u001B[36m(_Trainable pid=572)\u001B[0m   estimator.fit(X_train, y_train)\n",
      "\u001B[2m\u001B[36m(_Trainable pid=11612)\u001B[0m C:\\Users\\konon\\anaconda3\\envs\\GPEN_m\\lib\\site-packages\\tune_sklearn\\_trainable.py:153: DataConversionWarning: A column-vector y was passed when a 1d array was expected. Please change the shape of y to (n_samples,), for example using ravel().\n",
      "\u001B[2m\u001B[36m(_Trainable pid=11612)\u001B[0m   estimator.fit(X_train, y_train)\n",
      "\u001B[2m\u001B[36m(_Trainable pid=572)\u001B[0m C:\\Users\\konon\\anaconda3\\envs\\GPEN_m\\lib\\site-packages\\tune_sklearn\\_trainable.py:153: DataConversionWarning: A column-vector y was passed when a 1d array was expected. Please change the shape of y to (n_samples,), for example using ravel().\n",
      "\u001B[2m\u001B[36m(_Trainable pid=572)\u001B[0m   estimator.fit(X_train, y_train)\n",
      "\u001B[2m\u001B[36m(_Trainable pid=11612)\u001B[0m C:\\Users\\konon\\anaconda3\\envs\\GPEN_m\\lib\\site-packages\\tune_sklearn\\_trainable.py:153: DataConversionWarning: A column-vector y was passed when a 1d array was expected. Please change the shape of y to (n_samples,), for example using ravel().\n",
      "\u001B[2m\u001B[36m(_Trainable pid=11612)\u001B[0m   estimator.fit(X_train, y_train)\n",
      "\u001B[2m\u001B[36m(_Trainable pid=572)\u001B[0m C:\\Users\\konon\\anaconda3\\envs\\GPEN_m\\lib\\site-packages\\tune_sklearn\\_trainable.py:153: DataConversionWarning: A column-vector y was passed when a 1d array was expected. Please change the shape of y to (n_samples,), for example using ravel().\n",
      "\u001B[2m\u001B[36m(_Trainable pid=572)\u001B[0m   estimator.fit(X_train, y_train)\n",
      "\u001B[2m\u001B[36m(_Trainable pid=572)\u001B[0m C:\\Users\\konon\\anaconda3\\envs\\GPEN_m\\lib\\site-packages\\tune_sklearn\\_trainable.py:153: DataConversionWarning: A column-vector y was passed when a 1d array was expected. Please change the shape of y to (n_samples,), for example using ravel().\n",
      "\u001B[2m\u001B[36m(_Trainable pid=572)\u001B[0m   estimator.fit(X_train, y_train)\n",
      "\u001B[2m\u001B[36m(_Trainable pid=11612)\u001B[0m C:\\Users\\konon\\anaconda3\\envs\\GPEN_m\\lib\\site-packages\\tune_sklearn\\_trainable.py:153: DataConversionWarning: A column-vector y was passed when a 1d array was expected. Please change the shape of y to (n_samples,), for example using ravel().\n",
      "\u001B[2m\u001B[36m(_Trainable pid=11612)\u001B[0m   estimator.fit(X_train, y_train)\n",
      "\u001B[2m\u001B[36m(_Trainable pid=572)\u001B[0m C:\\Users\\konon\\anaconda3\\envs\\GPEN_m\\lib\\site-packages\\tune_sklearn\\_trainable.py:153: DataConversionWarning: A column-vector y was passed when a 1d array was expected. Please change the shape of y to (n_samples,), for example using ravel().\n",
      "\u001B[2m\u001B[36m(_Trainable pid=572)\u001B[0m   estimator.fit(X_train, y_train)\n",
      "\u001B[2m\u001B[36m(_Trainable pid=11612)\u001B[0m C:\\Users\\konon\\anaconda3\\envs\\GPEN_m\\lib\\site-packages\\tune_sklearn\\_trainable.py:153: DataConversionWarning: A column-vector y was passed when a 1d array was expected. Please change the shape of y to (n_samples,), for example using ravel().\n",
      "\u001B[2m\u001B[36m(_Trainable pid=11612)\u001B[0m   estimator.fit(X_train, y_train)\n",
      "\u001B[2m\u001B[36m(_Trainable pid=572)\u001B[0m C:\\Users\\konon\\anaconda3\\envs\\GPEN_m\\lib\\site-packages\\tune_sklearn\\_trainable.py:153: DataConversionWarning: A column-vector y was passed when a 1d array was expected. Please change the shape of y to (n_samples,), for example using ravel().\n",
      "\u001B[2m\u001B[36m(_Trainable pid=572)\u001B[0m   estimator.fit(X_train, y_train)\n",
      "\u001B[2m\u001B[36m(_Trainable pid=11612)\u001B[0m C:\\Users\\konon\\anaconda3\\envs\\GPEN_m\\lib\\site-packages\\tune_sklearn\\_trainable.py:153: DataConversionWarning: A column-vector y was passed when a 1d array was expected. Please change the shape of y to (n_samples,), for example using ravel().\n",
      "\u001B[2m\u001B[36m(_Trainable pid=11612)\u001B[0m   estimator.fit(X_train, y_train)\n",
      "\u001B[2m\u001B[36m(_Trainable pid=572)\u001B[0m C:\\Users\\konon\\anaconda3\\envs\\GPEN_m\\lib\\site-packages\\tune_sklearn\\_trainable.py:153: DataConversionWarning: A column-vector y was passed when a 1d array was expected. Please change the shape of y to (n_samples,), for example using ravel().\n",
      "\u001B[2m\u001B[36m(_Trainable pid=572)\u001B[0m   estimator.fit(X_train, y_train)\n",
      "\u001B[2m\u001B[36m(_Trainable pid=11612)\u001B[0m C:\\Users\\konon\\anaconda3\\envs\\GPEN_m\\lib\\site-packages\\tune_sklearn\\_trainable.py:153: DataConversionWarning: A column-vector y was passed when a 1d array was expected. Please change the shape of y to (n_samples,), for example using ravel().\n",
      "\u001B[2m\u001B[36m(_Trainable pid=11612)\u001B[0m   estimator.fit(X_train, y_train)\n",
      "\u001B[2m\u001B[36m(_Trainable pid=572)\u001B[0m C:\\Users\\konon\\anaconda3\\envs\\GPEN_m\\lib\\site-packages\\tune_sklearn\\_trainable.py:153: DataConversionWarning: A column-vector y was passed when a 1d array was expected. Please change the shape of y to (n_samples,), for example using ravel().\n",
      "\u001B[2m\u001B[36m(_Trainable pid=572)\u001B[0m   estimator.fit(X_train, y_train)\n",
      "\u001B[2m\u001B[36m(_Trainable pid=11612)\u001B[0m C:\\Users\\konon\\anaconda3\\envs\\GPEN_m\\lib\\site-packages\\tune_sklearn\\_trainable.py:153: DataConversionWarning: A column-vector y was passed when a 1d array was expected. Please change the shape of y to (n_samples,), for example using ravel().\n",
      "\u001B[2m\u001B[36m(_Trainable pid=11612)\u001B[0m   estimator.fit(X_train, y_train)\n",
      "\u001B[2m\u001B[36m(_Trainable pid=572)\u001B[0m C:\\Users\\konon\\anaconda3\\envs\\GPEN_m\\lib\\site-packages\\tune_sklearn\\_trainable.py:153: DataConversionWarning: A column-vector y was passed when a 1d array was expected. Please change the shape of y to (n_samples,), for example using ravel().\n",
      "\u001B[2m\u001B[36m(_Trainable pid=572)\u001B[0m   estimator.fit(X_train, y_train)\n",
      "\u001B[2m\u001B[36m(_Trainable pid=11612)\u001B[0m C:\\Users\\konon\\anaconda3\\envs\\GPEN_m\\lib\\site-packages\\tune_sklearn\\_trainable.py:153: DataConversionWarning: A column-vector y was passed when a 1d array was expected. Please change the shape of y to (n_samples,), for example using ravel().\n",
      "\u001B[2m\u001B[36m(_Trainable pid=11612)\u001B[0m   estimator.fit(X_train, y_train)\n",
      "\u001B[2m\u001B[36m(_Trainable pid=572)\u001B[0m C:\\Users\\konon\\anaconda3\\envs\\GPEN_m\\lib\\site-packages\\tune_sklearn\\_trainable.py:153: DataConversionWarning: A column-vector y was passed when a 1d array was expected. Please change the shape of y to (n_samples,), for example using ravel().\n",
      "\u001B[2m\u001B[36m(_Trainable pid=572)\u001B[0m   estimator.fit(X_train, y_train)\n",
      "\u001B[2m\u001B[36m(_Trainable pid=11612)\u001B[0m C:\\Users\\konon\\anaconda3\\envs\\GPEN_m\\lib\\site-packages\\tune_sklearn\\_trainable.py:153: DataConversionWarning: A column-vector y was passed when a 1d array was expected. Please change the shape of y to (n_samples,), for example using ravel().\n",
      "\u001B[2m\u001B[36m(_Trainable pid=11612)\u001B[0m   estimator.fit(X_train, y_train)\n",
      "2022-10-26 17:01:07,846\tINFO tensorboardx.py:267 -- Removed the following hyperparameter values when logging to tensorboard: {'cv': StratifiedKFold(n_splits=5, random_state=None, shuffle=False), 'early_stop_type': <EarlyStopping.WARM_START_ENSEMBLE: 3>, 'scoring/score': <function _passthrough_scorer at 0x00000222A20ACE50>}\n",
      "\u001B[2m\u001B[36m(_Trainable pid=11612)\u001B[0m C:\\Users\\konon\\anaconda3\\envs\\GPEN_m\\lib\\site-packages\\tune_sklearn\\_trainable.py:153: DataConversionWarning: A column-vector y was passed when a 1d array was expected. Please change the shape of y to (n_samples,), for example using ravel().\n",
      "\u001B[2m\u001B[36m(_Trainable pid=11612)\u001B[0m   estimator.fit(X_train, y_train)\n",
      "\u001B[2m\u001B[36m(_Trainable pid=11612)\u001B[0m C:\\Users\\konon\\anaconda3\\envs\\GPEN_m\\lib\\site-packages\\tune_sklearn\\_trainable.py:153: DataConversionWarning: A column-vector y was passed when a 1d array was expected. Please change the shape of y to (n_samples,), for example using ravel().\n",
      "\u001B[2m\u001B[36m(_Trainable pid=11612)\u001B[0m   estimator.fit(X_train, y_train)\n",
      "\u001B[2m\u001B[36m(_Trainable pid=11612)\u001B[0m C:\\Users\\konon\\anaconda3\\envs\\GPEN_m\\lib\\site-packages\\tune_sklearn\\_trainable.py:153: DataConversionWarning: A column-vector y was passed when a 1d array was expected. Please change the shape of y to (n_samples,), for example using ravel().\n",
      "\u001B[2m\u001B[36m(_Trainable pid=11612)\u001B[0m   estimator.fit(X_train, y_train)\n",
      "2022-10-26 17:01:17,940\tINFO tensorboardx.py:267 -- Removed the following hyperparameter values when logging to tensorboard: {'cv': StratifiedKFold(n_splits=5, random_state=None, shuffle=False), 'early_stop_type': <EarlyStopping.WARM_START_ENSEMBLE: 3>, 'scoring/score': <function _passthrough_scorer at 0x00000222A20ACE50>}\n",
      "C:\\Users\\konon\\anaconda3\\envs\\GPEN_m\\lib\\site-packages\\tune_sklearn\\tune_basesearch.py:589: DataConversionWarning: A column-vector y was passed when a 1d array was expected. Please change the shape of y to (n_samples,), for example using ravel().\n",
      "  self.best_estimator.fit(X, y, **fit_params)\n"
     ]
    },
    {
     "name": "stdout",
     "output_type": "stream",
     "text": [
      "Полученные результаты классификации:\n",
      "              precision    recall  f1-score   support\n",
      "\n",
      "           0       1.00      0.76      0.86     98835\n",
      "           1       0.02      0.81      0.05       729\n",
      "\n",
      "    accuracy                           0.76     99564\n",
      "   macro avg       0.51      0.78      0.45     99564\n",
      "weighted avg       0.99      0.76      0.86     99564\n",
      "\n"
     ]
    }
   ],
   "source": [
    "hts = hyperopt_tune_search.fit(X_train_us.to_numpy().reshape(-1, 1), y_train_us.to_numpy().reshape(-1, 1))\n",
    "\n",
    "y_pred = hts.predict(X_test.to_numpy().reshape(-1, 1))\n",
    "\n",
    "result1 = classification_report(y_test.to_numpy().reshape(-1, 1), y_pred)\n",
    "print(\"Полученные результаты классификации:\",)\n",
    "print (result1)"
   ],
   "metadata": {
    "collapsed": false,
    "pycharm": {
     "name": "#%%\n"
    }
   }
  },
  {
   "cell_type": "code",
   "execution_count": 63,
   "outputs": [
    {
     "data": {
      "text/plain": "{'criterion': 'entropy',\n 'max_depth': 2,\n 'max_features': 'sqrt',\n 'min_samples_leaf': 10,\n 'min_samples_split': 14,\n 'random_state': 23,\n 'n_estimators': 10}"
     },
     "execution_count": 63,
     "metadata": {},
     "output_type": "execute_result"
    }
   ],
   "source": [
    "hts.best_params"
   ],
   "metadata": {
    "collapsed": false,
    "pycharm": {
     "name": "#%%\n"
    }
   }
  },
  {
   "cell_type": "markdown",
   "source": [
    "# EUCLIDIAN"
   ],
   "metadata": {
    "collapsed": false
   }
  },
  {
   "cell_type": "code",
   "execution_count": 69,
   "outputs": [
    {
     "name": "stderr",
     "output_type": "stream",
     "text": [
      "C:\\Users\\konon\\AppData\\Local\\Temp\\ipykernel_2768\\1734428828.py:7: DataConversionWarning: A column-vector y was passed when a 1d array was expected. Please change the shape of y to (n_samples,), for example using ravel().\n",
      "  clf = clf.fit(X_train.to_numpy().reshape(-1, 1), y_train.to_numpy().reshape(-1, 1))\n"
     ]
    },
    {
     "name": "stdout",
     "output_type": "stream",
     "text": [
      "Полученные результаты классификации:\n",
      "              precision    recall  f1-score   support\n",
      "\n",
      "           0       0.99      0.99      0.99     98839\n",
      "           1       0.23      0.23      0.23       725\n",
      "\n",
      "    accuracy                           0.99     99564\n",
      "   macro avg       0.61      0.61      0.61     99564\n",
      "weighted avg       0.99      0.99      0.99     99564\n",
      "\n"
     ]
    }
   ],
   "source": [
    "X = data['euclidean']\n",
    "y = data['is_duplicate']\n",
    "\n",
    "X_train, X_test, y_train, y_test = train_test_split(X, y, test_size=0.2)\n",
    "\n",
    "clf = RandomForestClassifier()\n",
    "clf = clf.fit(X_train.to_numpy().reshape(-1, 1), y_train.to_numpy().reshape(-1, 1))\n",
    "\n",
    "y_pred = clf.predict(X_test.to_numpy().reshape(-1, 1))\n",
    "\n",
    "result1 = classification_report(y_test.to_numpy().reshape(-1, 1), y_pred)\n",
    "print(\"Полученные результаты классификации:\", )\n",
    "print(result1)"
   ],
   "metadata": {
    "collapsed": false,
    "pycharm": {
     "name": "#%%\n"
    }
   }
  },
  {
   "cell_type": "code",
   "execution_count": 70,
   "outputs": [
    {
     "name": "stderr",
     "output_type": "stream",
     "text": [
      "C:\\Users\\konon\\anaconda3\\envs\\GPEN_m\\lib\\site-packages\\sklearn\\utils\\validation.py:993: DataConversionWarning: A column-vector y was passed when a 1d array was expected. Please change the shape of y to (n_samples, ), for example using ravel().\n",
      "  y = column_or_1d(y, warn=True)\n"
     ]
    },
    {
     "name": "stdout",
     "output_type": "stream",
     "text": [
      "Полученные результаты классификации:\n",
      "              precision    recall  f1-score   support\n",
      "\n",
      "           0       0.99      1.00      1.00     98839\n",
      "           1       0.31      0.01      0.02       725\n",
      "\n",
      "    accuracy                           0.99     99564\n",
      "   macro avg       0.65      0.51      0.51     99564\n",
      "weighted avg       0.99      0.99      0.99     99564\n",
      "\n"
     ]
    }
   ],
   "source": [
    "clf = LogisticRegression()\n",
    "clf = clf.fit(X_train.to_numpy().reshape(-1, 1), y_train.to_numpy().reshape(-1, 1))\n",
    "\n",
    "y_pred = clf.predict(X_test.to_numpy().reshape(-1, 1))\n",
    "\n",
    "result1 = classification_report(y_test.to_numpy().reshape(-1, 1), y_pred)\n",
    "print(\"Полученные результаты классификации:\", )\n",
    "print(result1)"
   ],
   "metadata": {
    "collapsed": false,
    "pycharm": {
     "name": "#%%\n"
    }
   }
  },
  {
   "cell_type": "markdown",
   "source": [
    "# HYPERPARAMETER TUNING"
   ],
   "metadata": {
    "collapsed": false
   }
  },
  {
   "cell_type": "code",
   "execution_count": 71,
   "outputs": [
    {
     "data": {
      "text/plain": "<IPython.core.display.HTML object>",
      "text/html": ""
     },
     "metadata": {},
     "output_type": "display_data"
    },
    {
     "name": "stderr",
     "output_type": "stream",
     "text": [
      "\u001B[2m\u001B[36m(_Trainable pid=5928)\u001B[0m C:\\Users\\konon\\anaconda3\\envs\\GPEN_m\\lib\\site-packages\\tune_sklearn\\_trainable.py:153: DataConversionWarning: A column-vector y was passed when a 1d array was expected. Please change the shape of y to (n_samples,), for example using ravel().\n",
      "\u001B[2m\u001B[36m(_Trainable pid=5928)\u001B[0m   estimator.fit(X_train, y_train)\n",
      "\u001B[2m\u001B[36m(_Trainable pid=5252)\u001B[0m C:\\Users\\konon\\anaconda3\\envs\\GPEN_m\\lib\\site-packages\\tune_sklearn\\_trainable.py:153: DataConversionWarning: A column-vector y was passed when a 1d array was expected. Please change the shape of y to (n_samples,), for example using ravel().\n",
      "\u001B[2m\u001B[36m(_Trainable pid=5252)\u001B[0m   estimator.fit(X_train, y_train)\n",
      "\u001B[2m\u001B[36m(_Trainable pid=5928)\u001B[0m C:\\Users\\konon\\anaconda3\\envs\\GPEN_m\\lib\\site-packages\\tune_sklearn\\_trainable.py:153: DataConversionWarning: A column-vector y was passed when a 1d array was expected. Please change the shape of y to (n_samples,), for example using ravel().\n",
      "\u001B[2m\u001B[36m(_Trainable pid=5928)\u001B[0m   estimator.fit(X_train, y_train)\n",
      "\u001B[2m\u001B[36m(_Trainable pid=5252)\u001B[0m C:\\Users\\konon\\anaconda3\\envs\\GPEN_m\\lib\\site-packages\\tune_sklearn\\_trainable.py:153: DataConversionWarning: A column-vector y was passed when a 1d array was expected. Please change the shape of y to (n_samples,), for example using ravel().\n",
      "\u001B[2m\u001B[36m(_Trainable pid=5252)\u001B[0m   estimator.fit(X_train, y_train)\n",
      "\u001B[2m\u001B[36m(_Trainable pid=5928)\u001B[0m C:\\Users\\konon\\anaconda3\\envs\\GPEN_m\\lib\\site-packages\\tune_sklearn\\_trainable.py:153: DataConversionWarning: A column-vector y was passed when a 1d array was expected. Please change the shape of y to (n_samples,), for example using ravel().\n",
      "\u001B[2m\u001B[36m(_Trainable pid=5928)\u001B[0m   estimator.fit(X_train, y_train)\n",
      "\u001B[2m\u001B[36m(_Trainable pid=5252)\u001B[0m C:\\Users\\konon\\anaconda3\\envs\\GPEN_m\\lib\\site-packages\\tune_sklearn\\_trainable.py:153: DataConversionWarning: A column-vector y was passed when a 1d array was expected. Please change the shape of y to (n_samples,), for example using ravel().\n",
      "\u001B[2m\u001B[36m(_Trainable pid=5252)\u001B[0m   estimator.fit(X_train, y_train)\n",
      "\u001B[2m\u001B[36m(_Trainable pid=5928)\u001B[0m C:\\Users\\konon\\anaconda3\\envs\\GPEN_m\\lib\\site-packages\\tune_sklearn\\_trainable.py:153: DataConversionWarning: A column-vector y was passed when a 1d array was expected. Please change the shape of y to (n_samples,), for example using ravel().\n",
      "\u001B[2m\u001B[36m(_Trainable pid=5928)\u001B[0m   estimator.fit(X_train, y_train)\n",
      "\u001B[2m\u001B[36m(_Trainable pid=5252)\u001B[0m C:\\Users\\konon\\anaconda3\\envs\\GPEN_m\\lib\\site-packages\\tune_sklearn\\_trainable.py:153: DataConversionWarning: A column-vector y was passed when a 1d array was expected. Please change the shape of y to (n_samples,), for example using ravel().\n",
      "\u001B[2m\u001B[36m(_Trainable pid=5252)\u001B[0m   estimator.fit(X_train, y_train)\n",
      "\u001B[2m\u001B[36m(_Trainable pid=5928)\u001B[0m C:\\Users\\konon\\anaconda3\\envs\\GPEN_m\\lib\\site-packages\\tune_sklearn\\_trainable.py:153: DataConversionWarning: A column-vector y was passed when a 1d array was expected. Please change the shape of y to (n_samples,), for example using ravel().\n",
      "\u001B[2m\u001B[36m(_Trainable pid=5928)\u001B[0m   estimator.fit(X_train, y_train)\n",
      "\u001B[2m\u001B[36m(_Trainable pid=5252)\u001B[0m C:\\Users\\konon\\anaconda3\\envs\\GPEN_m\\lib\\site-packages\\tune_sklearn\\_trainable.py:153: DataConversionWarning: A column-vector y was passed when a 1d array was expected. Please change the shape of y to (n_samples,), for example using ravel().\n",
      "\u001B[2m\u001B[36m(_Trainable pid=5252)\u001B[0m   estimator.fit(X_train, y_train)\n",
      "\u001B[2m\u001B[36m(_Trainable pid=5928)\u001B[0m C:\\Users\\konon\\anaconda3\\envs\\GPEN_m\\lib\\site-packages\\tune_sklearn\\_trainable.py:153: DataConversionWarning: A column-vector y was passed when a 1d array was expected. Please change the shape of y to (n_samples,), for example using ravel().\n",
      "\u001B[2m\u001B[36m(_Trainable pid=5928)\u001B[0m   estimator.fit(X_train, y_train)\n",
      "\u001B[2m\u001B[36m(_Trainable pid=5252)\u001B[0m C:\\Users\\konon\\anaconda3\\envs\\GPEN_m\\lib\\site-packages\\tune_sklearn\\_trainable.py:153: DataConversionWarning: A column-vector y was passed when a 1d array was expected. Please change the shape of y to (n_samples,), for example using ravel().\n",
      "\u001B[2m\u001B[36m(_Trainable pid=5252)\u001B[0m   estimator.fit(X_train, y_train)\n",
      "\u001B[2m\u001B[36m(_Trainable pid=5928)\u001B[0m C:\\Users\\konon\\anaconda3\\envs\\GPEN_m\\lib\\site-packages\\tune_sklearn\\_trainable.py:153: DataConversionWarning: A column-vector y was passed when a 1d array was expected. Please change the shape of y to (n_samples,), for example using ravel().\n",
      "\u001B[2m\u001B[36m(_Trainable pid=5928)\u001B[0m   estimator.fit(X_train, y_train)\n",
      "\u001B[2m\u001B[36m(_Trainable pid=5252)\u001B[0m C:\\Users\\konon\\anaconda3\\envs\\GPEN_m\\lib\\site-packages\\tune_sklearn\\_trainable.py:153: DataConversionWarning: A column-vector y was passed when a 1d array was expected. Please change the shape of y to (n_samples,), for example using ravel().\n",
      "\u001B[2m\u001B[36m(_Trainable pid=5252)\u001B[0m   estimator.fit(X_train, y_train)\n",
      "\u001B[2m\u001B[36m(_Trainable pid=5928)\u001B[0m C:\\Users\\konon\\anaconda3\\envs\\GPEN_m\\lib\\site-packages\\tune_sklearn\\_trainable.py:153: DataConversionWarning: A column-vector y was passed when a 1d array was expected. Please change the shape of y to (n_samples,), for example using ravel().\n",
      "\u001B[2m\u001B[36m(_Trainable pid=5928)\u001B[0m   estimator.fit(X_train, y_train)\n",
      "\u001B[2m\u001B[36m(_Trainable pid=5252)\u001B[0m C:\\Users\\konon\\anaconda3\\envs\\GPEN_m\\lib\\site-packages\\tune_sklearn\\_trainable.py:153: DataConversionWarning: A column-vector y was passed when a 1d array was expected. Please change the shape of y to (n_samples,), for example using ravel().\n",
      "\u001B[2m\u001B[36m(_Trainable pid=5252)\u001B[0m   estimator.fit(X_train, y_train)\n",
      "\u001B[2m\u001B[36m(_Trainable pid=5928)\u001B[0m C:\\Users\\konon\\anaconda3\\envs\\GPEN_m\\lib\\site-packages\\tune_sklearn\\_trainable.py:153: DataConversionWarning: A column-vector y was passed when a 1d array was expected. Please change the shape of y to (n_samples,), for example using ravel().\n",
      "\u001B[2m\u001B[36m(_Trainable pid=5928)\u001B[0m   estimator.fit(X_train, y_train)\n",
      "\u001B[2m\u001B[36m(_Trainable pid=5252)\u001B[0m C:\\Users\\konon\\anaconda3\\envs\\GPEN_m\\lib\\site-packages\\tune_sklearn\\_trainable.py:153: DataConversionWarning: A column-vector y was passed when a 1d array was expected. Please change the shape of y to (n_samples,), for example using ravel().\n",
      "\u001B[2m\u001B[36m(_Trainable pid=5252)\u001B[0m   estimator.fit(X_train, y_train)\n",
      "\u001B[2m\u001B[36m(_Trainable pid=5928)\u001B[0m C:\\Users\\konon\\anaconda3\\envs\\GPEN_m\\lib\\site-packages\\tune_sklearn\\_trainable.py:153: DataConversionWarning: A column-vector y was passed when a 1d array was expected. Please change the shape of y to (n_samples,), for example using ravel().\n",
      "\u001B[2m\u001B[36m(_Trainable pid=5928)\u001B[0m   estimator.fit(X_train, y_train)\n",
      "\u001B[2m\u001B[36m(_Trainable pid=5252)\u001B[0m C:\\Users\\konon\\anaconda3\\envs\\GPEN_m\\lib\\site-packages\\tune_sklearn\\_trainable.py:153: DataConversionWarning: A column-vector y was passed when a 1d array was expected. Please change the shape of y to (n_samples,), for example using ravel().\n",
      "\u001B[2m\u001B[36m(_Trainable pid=5252)\u001B[0m   estimator.fit(X_train, y_train)\n",
      "\u001B[2m\u001B[36m(_Trainable pid=5928)\u001B[0m C:\\Users\\konon\\anaconda3\\envs\\GPEN_m\\lib\\site-packages\\tune_sklearn\\_trainable.py:153: DataConversionWarning: A column-vector y was passed when a 1d array was expected. Please change the shape of y to (n_samples,), for example using ravel().\n",
      "\u001B[2m\u001B[36m(_Trainable pid=5928)\u001B[0m   estimator.fit(X_train, y_train)\n",
      "\u001B[2m\u001B[36m(_Trainable pid=5252)\u001B[0m C:\\Users\\konon\\anaconda3\\envs\\GPEN_m\\lib\\site-packages\\tune_sklearn\\_trainable.py:153: DataConversionWarning: A column-vector y was passed when a 1d array was expected. Please change the shape of y to (n_samples,), for example using ravel().\n",
      "\u001B[2m\u001B[36m(_Trainable pid=5252)\u001B[0m   estimator.fit(X_train, y_train)\n",
      "\u001B[2m\u001B[36m(_Trainable pid=5928)\u001B[0m C:\\Users\\konon\\anaconda3\\envs\\GPEN_m\\lib\\site-packages\\tune_sklearn\\_trainable.py:153: DataConversionWarning: A column-vector y was passed when a 1d array was expected. Please change the shape of y to (n_samples,), for example using ravel().\n",
      "\u001B[2m\u001B[36m(_Trainable pid=5928)\u001B[0m   estimator.fit(X_train, y_train)\n",
      "\u001B[2m\u001B[36m(_Trainable pid=5252)\u001B[0m C:\\Users\\konon\\anaconda3\\envs\\GPEN_m\\lib\\site-packages\\tune_sklearn\\_trainable.py:153: DataConversionWarning: A column-vector y was passed when a 1d array was expected. Please change the shape of y to (n_samples,), for example using ravel().\n",
      "\u001B[2m\u001B[36m(_Trainable pid=5252)\u001B[0m   estimator.fit(X_train, y_train)\n",
      "\u001B[2m\u001B[36m(_Trainable pid=5928)\u001B[0m C:\\Users\\konon\\anaconda3\\envs\\GPEN_m\\lib\\site-packages\\tune_sklearn\\_trainable.py:153: DataConversionWarning: A column-vector y was passed when a 1d array was expected. Please change the shape of y to (n_samples,), for example using ravel().\n",
      "\u001B[2m\u001B[36m(_Trainable pid=5928)\u001B[0m   estimator.fit(X_train, y_train)\n",
      "\u001B[2m\u001B[36m(_Trainable pid=5252)\u001B[0m C:\\Users\\konon\\anaconda3\\envs\\GPEN_m\\lib\\site-packages\\tune_sklearn\\_trainable.py:153: DataConversionWarning: A column-vector y was passed when a 1d array was expected. Please change the shape of y to (n_samples,), for example using ravel().\n",
      "\u001B[2m\u001B[36m(_Trainable pid=5252)\u001B[0m   estimator.fit(X_train, y_train)\n",
      "\u001B[2m\u001B[36m(_Trainable pid=5928)\u001B[0m C:\\Users\\konon\\anaconda3\\envs\\GPEN_m\\lib\\site-packages\\tune_sklearn\\_trainable.py:153: DataConversionWarning: A column-vector y was passed when a 1d array was expected. Please change the shape of y to (n_samples,), for example using ravel().\n",
      "\u001B[2m\u001B[36m(_Trainable pid=5928)\u001B[0m   estimator.fit(X_train, y_train)\n",
      "\u001B[2m\u001B[36m(_Trainable pid=5252)\u001B[0m C:\\Users\\konon\\anaconda3\\envs\\GPEN_m\\lib\\site-packages\\tune_sklearn\\_trainable.py:153: DataConversionWarning: A column-vector y was passed when a 1d array was expected. Please change the shape of y to (n_samples,), for example using ravel().\n",
      "\u001B[2m\u001B[36m(_Trainable pid=5252)\u001B[0m   estimator.fit(X_train, y_train)\n",
      "\u001B[2m\u001B[36m(_Trainable pid=5928)\u001B[0m C:\\Users\\konon\\anaconda3\\envs\\GPEN_m\\lib\\site-packages\\tune_sklearn\\_trainable.py:153: DataConversionWarning: A column-vector y was passed when a 1d array was expected. Please change the shape of y to (n_samples,), for example using ravel().\n",
      "\u001B[2m\u001B[36m(_Trainable pid=5928)\u001B[0m   estimator.fit(X_train, y_train)\n",
      "\u001B[2m\u001B[36m(_Trainable pid=5928)\u001B[0m C:\\Users\\konon\\anaconda3\\envs\\GPEN_m\\lib\\site-packages\\tune_sklearn\\_trainable.py:153: DataConversionWarning: A column-vector y was passed when a 1d array was expected. Please change the shape of y to (n_samples,), for example using ravel().\n",
      "\u001B[2m\u001B[36m(_Trainable pid=5928)\u001B[0m   estimator.fit(X_train, y_train)\n",
      "\u001B[2m\u001B[36m(_Trainable pid=5252)\u001B[0m C:\\Users\\konon\\anaconda3\\envs\\GPEN_m\\lib\\site-packages\\tune_sklearn\\_trainable.py:153: DataConversionWarning: A column-vector y was passed when a 1d array was expected. Please change the shape of y to (n_samples,), for example using ravel().\n",
      "\u001B[2m\u001B[36m(_Trainable pid=5252)\u001B[0m   estimator.fit(X_train, y_train)\n",
      "\u001B[2m\u001B[36m(_Trainable pid=5928)\u001B[0m C:\\Users\\konon\\anaconda3\\envs\\GPEN_m\\lib\\site-packages\\tune_sklearn\\_trainable.py:153: DataConversionWarning: A column-vector y was passed when a 1d array was expected. Please change the shape of y to (n_samples,), for example using ravel().\n",
      "\u001B[2m\u001B[36m(_Trainable pid=5928)\u001B[0m   estimator.fit(X_train, y_train)\n",
      "\u001B[2m\u001B[36m(_Trainable pid=5252)\u001B[0m C:\\Users\\konon\\anaconda3\\envs\\GPEN_m\\lib\\site-packages\\tune_sklearn\\_trainable.py:153: DataConversionWarning: A column-vector y was passed when a 1d array was expected. Please change the shape of y to (n_samples,), for example using ravel().\n",
      "\u001B[2m\u001B[36m(_Trainable pid=5252)\u001B[0m   estimator.fit(X_train, y_train)\n",
      "\u001B[2m\u001B[36m(_Trainable pid=5928)\u001B[0m C:\\Users\\konon\\anaconda3\\envs\\GPEN_m\\lib\\site-packages\\tune_sklearn\\_trainable.py:153: DataConversionWarning: A column-vector y was passed when a 1d array was expected. Please change the shape of y to (n_samples,), for example using ravel().\n",
      "\u001B[2m\u001B[36m(_Trainable pid=5928)\u001B[0m   estimator.fit(X_train, y_train)\n",
      "\u001B[2m\u001B[36m(_Trainable pid=5252)\u001B[0m C:\\Users\\konon\\anaconda3\\envs\\GPEN_m\\lib\\site-packages\\tune_sklearn\\_trainable.py:153: DataConversionWarning: A column-vector y was passed when a 1d array was expected. Please change the shape of y to (n_samples,), for example using ravel().\n",
      "\u001B[2m\u001B[36m(_Trainable pid=5252)\u001B[0m   estimator.fit(X_train, y_train)\n",
      "\u001B[2m\u001B[36m(_Trainable pid=5928)\u001B[0m C:\\Users\\konon\\anaconda3\\envs\\GPEN_m\\lib\\site-packages\\tune_sklearn\\_trainable.py:153: DataConversionWarning: A column-vector y was passed when a 1d array was expected. Please change the shape of y to (n_samples,), for example using ravel().\n",
      "\u001B[2m\u001B[36m(_Trainable pid=5928)\u001B[0m   estimator.fit(X_train, y_train)\n",
      "\u001B[2m\u001B[36m(_Trainable pid=5252)\u001B[0m C:\\Users\\konon\\anaconda3\\envs\\GPEN_m\\lib\\site-packages\\tune_sklearn\\_trainable.py:153: DataConversionWarning: A column-vector y was passed when a 1d array was expected. Please change the shape of y to (n_samples,), for example using ravel().\n",
      "\u001B[2m\u001B[36m(_Trainable pid=5252)\u001B[0m   estimator.fit(X_train, y_train)\n",
      "\u001B[2m\u001B[36m(_Trainable pid=5928)\u001B[0m C:\\Users\\konon\\anaconda3\\envs\\GPEN_m\\lib\\site-packages\\tune_sklearn\\_trainable.py:153: DataConversionWarning: A column-vector y was passed when a 1d array was expected. Please change the shape of y to (n_samples,), for example using ravel().\n",
      "\u001B[2m\u001B[36m(_Trainable pid=5928)\u001B[0m   estimator.fit(X_train, y_train)\n",
      "\u001B[2m\u001B[36m(_Trainable pid=5252)\u001B[0m C:\\Users\\konon\\anaconda3\\envs\\GPEN_m\\lib\\site-packages\\tune_sklearn\\_trainable.py:153: DataConversionWarning: A column-vector y was passed when a 1d array was expected. Please change the shape of y to (n_samples,), for example using ravel().\n",
      "\u001B[2m\u001B[36m(_Trainable pid=5252)\u001B[0m   estimator.fit(X_train, y_train)\n",
      "\u001B[2m\u001B[36m(_Trainable pid=5928)\u001B[0m C:\\Users\\konon\\anaconda3\\envs\\GPEN_m\\lib\\site-packages\\tune_sklearn\\_trainable.py:153: DataConversionWarning: A column-vector y was passed when a 1d array was expected. Please change the shape of y to (n_samples,), for example using ravel().\n",
      "\u001B[2m\u001B[36m(_Trainable pid=5928)\u001B[0m   estimator.fit(X_train, y_train)\n",
      "\u001B[2m\u001B[36m(_Trainable pid=5252)\u001B[0m C:\\Users\\konon\\anaconda3\\envs\\GPEN_m\\lib\\site-packages\\tune_sklearn\\_trainable.py:153: DataConversionWarning: A column-vector y was passed when a 1d array was expected. Please change the shape of y to (n_samples,), for example using ravel().\n",
      "\u001B[2m\u001B[36m(_Trainable pid=5252)\u001B[0m   estimator.fit(X_train, y_train)\n",
      "\u001B[2m\u001B[36m(_Trainable pid=5928)\u001B[0m C:\\Users\\konon\\anaconda3\\envs\\GPEN_m\\lib\\site-packages\\tune_sklearn\\_trainable.py:153: DataConversionWarning: A column-vector y was passed when a 1d array was expected. Please change the shape of y to (n_samples,), for example using ravel().\n",
      "\u001B[2m\u001B[36m(_Trainable pid=5928)\u001B[0m   estimator.fit(X_train, y_train)\n",
      "\u001B[2m\u001B[36m(_Trainable pid=5252)\u001B[0m C:\\Users\\konon\\anaconda3\\envs\\GPEN_m\\lib\\site-packages\\tune_sklearn\\_trainable.py:153: DataConversionWarning: A column-vector y was passed when a 1d array was expected. Please change the shape of y to (n_samples,), for example using ravel().\n",
      "\u001B[2m\u001B[36m(_Trainable pid=5252)\u001B[0m   estimator.fit(X_train, y_train)\n",
      "\u001B[2m\u001B[36m(_Trainable pid=5928)\u001B[0m C:\\Users\\konon\\anaconda3\\envs\\GPEN_m\\lib\\site-packages\\tune_sklearn\\_trainable.py:153: DataConversionWarning: A column-vector y was passed when a 1d array was expected. Please change the shape of y to (n_samples,), for example using ravel().\n",
      "\u001B[2m\u001B[36m(_Trainable pid=5928)\u001B[0m   estimator.fit(X_train, y_train)\n",
      "\u001B[2m\u001B[36m(_Trainable pid=5252)\u001B[0m C:\\Users\\konon\\anaconda3\\envs\\GPEN_m\\lib\\site-packages\\tune_sklearn\\_trainable.py:153: DataConversionWarning: A column-vector y was passed when a 1d array was expected. Please change the shape of y to (n_samples,), for example using ravel().\n",
      "\u001B[2m\u001B[36m(_Trainable pid=5252)\u001B[0m   estimator.fit(X_train, y_train)\n",
      "\u001B[2m\u001B[36m(_Trainable pid=5928)\u001B[0m C:\\Users\\konon\\anaconda3\\envs\\GPEN_m\\lib\\site-packages\\tune_sklearn\\_trainable.py:153: DataConversionWarning: A column-vector y was passed when a 1d array was expected. Please change the shape of y to (n_samples,), for example using ravel().\n",
      "\u001B[2m\u001B[36m(_Trainable pid=5928)\u001B[0m   estimator.fit(X_train, y_train)\n",
      "\u001B[2m\u001B[36m(_Trainable pid=5252)\u001B[0m C:\\Users\\konon\\anaconda3\\envs\\GPEN_m\\lib\\site-packages\\tune_sklearn\\_trainable.py:153: DataConversionWarning: A column-vector y was passed when a 1d array was expected. Please change the shape of y to (n_samples,), for example using ravel().\n",
      "\u001B[2m\u001B[36m(_Trainable pid=5252)\u001B[0m   estimator.fit(X_train, y_train)\n",
      "\u001B[2m\u001B[36m(_Trainable pid=5928)\u001B[0m C:\\Users\\konon\\anaconda3\\envs\\GPEN_m\\lib\\site-packages\\tune_sklearn\\_trainable.py:153: DataConversionWarning: A column-vector y was passed when a 1d array was expected. Please change the shape of y to (n_samples,), for example using ravel().\n",
      "\u001B[2m\u001B[36m(_Trainable pid=5928)\u001B[0m   estimator.fit(X_train, y_train)\n",
      "\u001B[2m\u001B[36m(_Trainable pid=5252)\u001B[0m C:\\Users\\konon\\anaconda3\\envs\\GPEN_m\\lib\\site-packages\\tune_sklearn\\_trainable.py:153: DataConversionWarning: A column-vector y was passed when a 1d array was expected. Please change the shape of y to (n_samples,), for example using ravel().\n",
      "\u001B[2m\u001B[36m(_Trainable pid=5252)\u001B[0m   estimator.fit(X_train, y_train)\n",
      "\u001B[2m\u001B[36m(_Trainable pid=5928)\u001B[0m C:\\Users\\konon\\anaconda3\\envs\\GPEN_m\\lib\\site-packages\\tune_sklearn\\_trainable.py:153: DataConversionWarning: A column-vector y was passed when a 1d array was expected. Please change the shape of y to (n_samples,), for example using ravel().\n",
      "\u001B[2m\u001B[36m(_Trainable pid=5928)\u001B[0m   estimator.fit(X_train, y_train)\n",
      "\u001B[2m\u001B[36m(_Trainable pid=5252)\u001B[0m C:\\Users\\konon\\anaconda3\\envs\\GPEN_m\\lib\\site-packages\\tune_sklearn\\_trainable.py:153: DataConversionWarning: A column-vector y was passed when a 1d array was expected. Please change the shape of y to (n_samples,), for example using ravel().\n",
      "\u001B[2m\u001B[36m(_Trainable pid=5252)\u001B[0m   estimator.fit(X_train, y_train)\n",
      "\u001B[2m\u001B[36m(_Trainable pid=5928)\u001B[0m C:\\Users\\konon\\anaconda3\\envs\\GPEN_m\\lib\\site-packages\\tune_sklearn\\_trainable.py:153: DataConversionWarning: A column-vector y was passed when a 1d array was expected. Please change the shape of y to (n_samples,), for example using ravel().\n",
      "\u001B[2m\u001B[36m(_Trainable pid=5928)\u001B[0m   estimator.fit(X_train, y_train)\n",
      "\u001B[2m\u001B[36m(_Trainable pid=5252)\u001B[0m C:\\Users\\konon\\anaconda3\\envs\\GPEN_m\\lib\\site-packages\\tune_sklearn\\_trainable.py:153: DataConversionWarning: A column-vector y was passed when a 1d array was expected. Please change the shape of y to (n_samples,), for example using ravel().\n",
      "\u001B[2m\u001B[36m(_Trainable pid=5252)\u001B[0m   estimator.fit(X_train, y_train)\n",
      "\u001B[2m\u001B[36m(_Trainable pid=5928)\u001B[0m C:\\Users\\konon\\anaconda3\\envs\\GPEN_m\\lib\\site-packages\\tune_sklearn\\_trainable.py:153: DataConversionWarning: A column-vector y was passed when a 1d array was expected. Please change the shape of y to (n_samples,), for example using ravel().\n",
      "\u001B[2m\u001B[36m(_Trainable pid=5928)\u001B[0m   estimator.fit(X_train, y_train)\n",
      "\u001B[2m\u001B[36m(_Trainable pid=5252)\u001B[0m C:\\Users\\konon\\anaconda3\\envs\\GPEN_m\\lib\\site-packages\\tune_sklearn\\_trainable.py:153: DataConversionWarning: A column-vector y was passed when a 1d array was expected. Please change the shape of y to (n_samples,), for example using ravel().\n",
      "\u001B[2m\u001B[36m(_Trainable pid=5252)\u001B[0m   estimator.fit(X_train, y_train)\n",
      "\u001B[2m\u001B[36m(_Trainable pid=5928)\u001B[0m C:\\Users\\konon\\anaconda3\\envs\\GPEN_m\\lib\\site-packages\\tune_sklearn\\_trainable.py:153: DataConversionWarning: A column-vector y was passed when a 1d array was expected. Please change the shape of y to (n_samples,), for example using ravel().\n",
      "\u001B[2m\u001B[36m(_Trainable pid=5928)\u001B[0m   estimator.fit(X_train, y_train)\n",
      "\u001B[2m\u001B[36m(_Trainable pid=5928)\u001B[0m C:\\Users\\konon\\anaconda3\\envs\\GPEN_m\\lib\\site-packages\\tune_sklearn\\_trainable.py:153: DataConversionWarning: A column-vector y was passed when a 1d array was expected. Please change the shape of y to (n_samples,), for example using ravel().\n",
      "\u001B[2m\u001B[36m(_Trainable pid=5928)\u001B[0m   estimator.fit(X_train, y_train)\n",
      "\u001B[2m\u001B[36m(_Trainable pid=5252)\u001B[0m C:\\Users\\konon\\anaconda3\\envs\\GPEN_m\\lib\\site-packages\\tune_sklearn\\_trainable.py:153: DataConversionWarning: A column-vector y was passed when a 1d array was expected. Please change the shape of y to (n_samples,), for example using ravel().\n",
      "\u001B[2m\u001B[36m(_Trainable pid=5252)\u001B[0m   estimator.fit(X_train, y_train)\n",
      "\u001B[2m\u001B[36m(_Trainable pid=5928)\u001B[0m C:\\Users\\konon\\anaconda3\\envs\\GPEN_m\\lib\\site-packages\\tune_sklearn\\_trainable.py:153: DataConversionWarning: A column-vector y was passed when a 1d array was expected. Please change the shape of y to (n_samples,), for example using ravel().\n",
      "\u001B[2m\u001B[36m(_Trainable pid=5928)\u001B[0m   estimator.fit(X_train, y_train)\n",
      "\u001B[2m\u001B[36m(_Trainable pid=5252)\u001B[0m C:\\Users\\konon\\anaconda3\\envs\\GPEN_m\\lib\\site-packages\\tune_sklearn\\_trainable.py:153: DataConversionWarning: A column-vector y was passed when a 1d array was expected. Please change the shape of y to (n_samples,), for example using ravel().\n",
      "\u001B[2m\u001B[36m(_Trainable pid=5252)\u001B[0m   estimator.fit(X_train, y_train)\n",
      "\u001B[2m\u001B[36m(_Trainable pid=5928)\u001B[0m C:\\Users\\konon\\anaconda3\\envs\\GPEN_m\\lib\\site-packages\\tune_sklearn\\_trainable.py:153: DataConversionWarning: A column-vector y was passed when a 1d array was expected. Please change the shape of y to (n_samples,), for example using ravel().\n",
      "\u001B[2m\u001B[36m(_Trainable pid=5928)\u001B[0m   estimator.fit(X_train, y_train)\n",
      "\u001B[2m\u001B[36m(_Trainable pid=5252)\u001B[0m C:\\Users\\konon\\anaconda3\\envs\\GPEN_m\\lib\\site-packages\\tune_sklearn\\_trainable.py:153: DataConversionWarning: A column-vector y was passed when a 1d array was expected. Please change the shape of y to (n_samples,), for example using ravel().\n",
      "\u001B[2m\u001B[36m(_Trainable pid=5252)\u001B[0m   estimator.fit(X_train, y_train)\n",
      "\u001B[2m\u001B[36m(_Trainable pid=5928)\u001B[0m C:\\Users\\konon\\anaconda3\\envs\\GPEN_m\\lib\\site-packages\\tune_sklearn\\_trainable.py:153: DataConversionWarning: A column-vector y was passed when a 1d array was expected. Please change the shape of y to (n_samples,), for example using ravel().\n",
      "\u001B[2m\u001B[36m(_Trainable pid=5928)\u001B[0m   estimator.fit(X_train, y_train)\n",
      "\u001B[2m\u001B[36m(_Trainable pid=5252)\u001B[0m C:\\Users\\konon\\anaconda3\\envs\\GPEN_m\\lib\\site-packages\\tune_sklearn\\_trainable.py:153: DataConversionWarning: A column-vector y was passed when a 1d array was expected. Please change the shape of y to (n_samples,), for example using ravel().\n",
      "\u001B[2m\u001B[36m(_Trainable pid=5252)\u001B[0m   estimator.fit(X_train, y_train)\n",
      "\u001B[2m\u001B[36m(_Trainable pid=5928)\u001B[0m C:\\Users\\konon\\anaconda3\\envs\\GPEN_m\\lib\\site-packages\\tune_sklearn\\_trainable.py:153: DataConversionWarning: A column-vector y was passed when a 1d array was expected. Please change the shape of y to (n_samples,), for example using ravel().\n",
      "\u001B[2m\u001B[36m(_Trainable pid=5928)\u001B[0m   estimator.fit(X_train, y_train)\n",
      "\u001B[2m\u001B[36m(_Trainable pid=5252)\u001B[0m C:\\Users\\konon\\anaconda3\\envs\\GPEN_m\\lib\\site-packages\\tune_sklearn\\_trainable.py:153: DataConversionWarning: A column-vector y was passed when a 1d array was expected. Please change the shape of y to (n_samples,), for example using ravel().\n",
      "\u001B[2m\u001B[36m(_Trainable pid=5252)\u001B[0m   estimator.fit(X_train, y_train)\n",
      "\u001B[2m\u001B[36m(_Trainable pid=5928)\u001B[0m C:\\Users\\konon\\anaconda3\\envs\\GPEN_m\\lib\\site-packages\\tune_sklearn\\_trainable.py:153: DataConversionWarning: A column-vector y was passed when a 1d array was expected. Please change the shape of y to (n_samples,), for example using ravel().\n",
      "\u001B[2m\u001B[36m(_Trainable pid=5928)\u001B[0m   estimator.fit(X_train, y_train)\n",
      "\u001B[2m\u001B[36m(_Trainable pid=5252)\u001B[0m C:\\Users\\konon\\anaconda3\\envs\\GPEN_m\\lib\\site-packages\\tune_sklearn\\_trainable.py:153: DataConversionWarning: A column-vector y was passed when a 1d array was expected. Please change the shape of y to (n_samples,), for example using ravel().\n",
      "\u001B[2m\u001B[36m(_Trainable pid=5252)\u001B[0m   estimator.fit(X_train, y_train)\n",
      "\u001B[2m\u001B[36m(_Trainable pid=5928)\u001B[0m C:\\Users\\konon\\anaconda3\\envs\\GPEN_m\\lib\\site-packages\\tune_sklearn\\_trainable.py:153: DataConversionWarning: A column-vector y was passed when a 1d array was expected. Please change the shape of y to (n_samples,), for example using ravel().\n",
      "\u001B[2m\u001B[36m(_Trainable pid=5928)\u001B[0m   estimator.fit(X_train, y_train)\n",
      "\u001B[2m\u001B[36m(_Trainable pid=5252)\u001B[0m C:\\Users\\konon\\anaconda3\\envs\\GPEN_m\\lib\\site-packages\\tune_sklearn\\_trainable.py:153: DataConversionWarning: A column-vector y was passed when a 1d array was expected. Please change the shape of y to (n_samples,), for example using ravel().\n",
      "\u001B[2m\u001B[36m(_Trainable pid=5252)\u001B[0m   estimator.fit(X_train, y_train)\n",
      "\u001B[2m\u001B[36m(_Trainable pid=5928)\u001B[0m C:\\Users\\konon\\anaconda3\\envs\\GPEN_m\\lib\\site-packages\\tune_sklearn\\_trainable.py:153: DataConversionWarning: A column-vector y was passed when a 1d array was expected. Please change the shape of y to (n_samples,), for example using ravel().\n",
      "\u001B[2m\u001B[36m(_Trainable pid=5928)\u001B[0m   estimator.fit(X_train, y_train)\n",
      "\u001B[2m\u001B[36m(_Trainable pid=5252)\u001B[0m C:\\Users\\konon\\anaconda3\\envs\\GPEN_m\\lib\\site-packages\\tune_sklearn\\_trainable.py:153: DataConversionWarning: A column-vector y was passed when a 1d array was expected. Please change the shape of y to (n_samples,), for example using ravel().\n",
      "\u001B[2m\u001B[36m(_Trainable pid=5252)\u001B[0m   estimator.fit(X_train, y_train)\n",
      "\u001B[2m\u001B[36m(_Trainable pid=5928)\u001B[0m C:\\Users\\konon\\anaconda3\\envs\\GPEN_m\\lib\\site-packages\\tune_sklearn\\_trainable.py:153: DataConversionWarning: A column-vector y was passed when a 1d array was expected. Please change the shape of y to (n_samples,), for example using ravel().\n",
      "\u001B[2m\u001B[36m(_Trainable pid=5928)\u001B[0m   estimator.fit(X_train, y_train)\n",
      "\u001B[2m\u001B[36m(_Trainable pid=5252)\u001B[0m C:\\Users\\konon\\anaconda3\\envs\\GPEN_m\\lib\\site-packages\\tune_sklearn\\_trainable.py:153: DataConversionWarning: A column-vector y was passed when a 1d array was expected. Please change the shape of y to (n_samples,), for example using ravel().\n",
      "\u001B[2m\u001B[36m(_Trainable pid=5252)\u001B[0m   estimator.fit(X_train, y_train)\n",
      "\u001B[2m\u001B[36m(_Trainable pid=5928)\u001B[0m C:\\Users\\konon\\anaconda3\\envs\\GPEN_m\\lib\\site-packages\\tune_sklearn\\_trainable.py:153: DataConversionWarning: A column-vector y was passed when a 1d array was expected. Please change the shape of y to (n_samples,), for example using ravel().\n",
      "\u001B[2m\u001B[36m(_Trainable pid=5928)\u001B[0m   estimator.fit(X_train, y_train)\n",
      "\u001B[2m\u001B[36m(_Trainable pid=5252)\u001B[0m C:\\Users\\konon\\anaconda3\\envs\\GPEN_m\\lib\\site-packages\\tune_sklearn\\_trainable.py:153: DataConversionWarning: A column-vector y was passed when a 1d array was expected. Please change the shape of y to (n_samples,), for example using ravel().\n",
      "\u001B[2m\u001B[36m(_Trainable pid=5252)\u001B[0m   estimator.fit(X_train, y_train)\n",
      "\u001B[2m\u001B[36m(_Trainable pid=5928)\u001B[0m C:\\Users\\konon\\anaconda3\\envs\\GPEN_m\\lib\\site-packages\\tune_sklearn\\_trainable.py:153: DataConversionWarning: A column-vector y was passed when a 1d array was expected. Please change the shape of y to (n_samples,), for example using ravel().\n",
      "\u001B[2m\u001B[36m(_Trainable pid=5928)\u001B[0m   estimator.fit(X_train, y_train)\n",
      "\u001B[2m\u001B[36m(_Trainable pid=5252)\u001B[0m C:\\Users\\konon\\anaconda3\\envs\\GPEN_m\\lib\\site-packages\\tune_sklearn\\_trainable.py:153: DataConversionWarning: A column-vector y was passed when a 1d array was expected. Please change the shape of y to (n_samples,), for example using ravel().\n",
      "\u001B[2m\u001B[36m(_Trainable pid=5252)\u001B[0m   estimator.fit(X_train, y_train)\n",
      "\u001B[2m\u001B[36m(_Trainable pid=5928)\u001B[0m C:\\Users\\konon\\anaconda3\\envs\\GPEN_m\\lib\\site-packages\\tune_sklearn\\_trainable.py:153: DataConversionWarning: A column-vector y was passed when a 1d array was expected. Please change the shape of y to (n_samples,), for example using ravel().\n",
      "\u001B[2m\u001B[36m(_Trainable pid=5928)\u001B[0m   estimator.fit(X_train, y_train)\n",
      "\u001B[2m\u001B[36m(_Trainable pid=5252)\u001B[0m C:\\Users\\konon\\anaconda3\\envs\\GPEN_m\\lib\\site-packages\\tune_sklearn\\_trainable.py:153: DataConversionWarning: A column-vector y was passed when a 1d array was expected. Please change the shape of y to (n_samples,), for example using ravel().\n",
      "\u001B[2m\u001B[36m(_Trainable pid=5252)\u001B[0m   estimator.fit(X_train, y_train)\n",
      "\u001B[2m\u001B[36m(_Trainable pid=5928)\u001B[0m C:\\Users\\konon\\anaconda3\\envs\\GPEN_m\\lib\\site-packages\\tune_sklearn\\_trainable.py:153: DataConversionWarning: A column-vector y was passed when a 1d array was expected. Please change the shape of y to (n_samples,), for example using ravel().\n",
      "\u001B[2m\u001B[36m(_Trainable pid=5928)\u001B[0m   estimator.fit(X_train, y_train)\n",
      "\u001B[2m\u001B[36m(_Trainable pid=5252)\u001B[0m C:\\Users\\konon\\anaconda3\\envs\\GPEN_m\\lib\\site-packages\\tune_sklearn\\_trainable.py:153: DataConversionWarning: A column-vector y was passed when a 1d array was expected. Please change the shape of y to (n_samples,), for example using ravel().\n",
      "\u001B[2m\u001B[36m(_Trainable pid=5252)\u001B[0m   estimator.fit(X_train, y_train)\n",
      "\u001B[2m\u001B[36m(_Trainable pid=5928)\u001B[0m C:\\Users\\konon\\anaconda3\\envs\\GPEN_m\\lib\\site-packages\\tune_sklearn\\_trainable.py:153: DataConversionWarning: A column-vector y was passed when a 1d array was expected. Please change the shape of y to (n_samples,), for example using ravel().\n",
      "\u001B[2m\u001B[36m(_Trainable pid=5928)\u001B[0m   estimator.fit(X_train, y_train)\n",
      "\u001B[2m\u001B[36m(_Trainable pid=5252)\u001B[0m C:\\Users\\konon\\anaconda3\\envs\\GPEN_m\\lib\\site-packages\\tune_sklearn\\_trainable.py:153: DataConversionWarning: A column-vector y was passed when a 1d array was expected. Please change the shape of y to (n_samples,), for example using ravel().\n",
      "\u001B[2m\u001B[36m(_Trainable pid=5252)\u001B[0m   estimator.fit(X_train, y_train)\n",
      "\u001B[2m\u001B[36m(_Trainable pid=5928)\u001B[0m C:\\Users\\konon\\anaconda3\\envs\\GPEN_m\\lib\\site-packages\\tune_sklearn\\_trainable.py:153: DataConversionWarning: A column-vector y was passed when a 1d array was expected. Please change the shape of y to (n_samples,), for example using ravel().\n",
      "\u001B[2m\u001B[36m(_Trainable pid=5928)\u001B[0m   estimator.fit(X_train, y_train)\n",
      "\u001B[2m\u001B[36m(_Trainable pid=5928)\u001B[0m C:\\Users\\konon\\anaconda3\\envs\\GPEN_m\\lib\\site-packages\\tune_sklearn\\_trainable.py:153: DataConversionWarning: A column-vector y was passed when a 1d array was expected. Please change the shape of y to (n_samples,), for example using ravel().\n",
      "\u001B[2m\u001B[36m(_Trainable pid=5928)\u001B[0m   estimator.fit(X_train, y_train)\n",
      "\u001B[2m\u001B[36m(_Trainable pid=5252)\u001B[0m C:\\Users\\konon\\anaconda3\\envs\\GPEN_m\\lib\\site-packages\\tune_sklearn\\_trainable.py:153: DataConversionWarning: A column-vector y was passed when a 1d array was expected. Please change the shape of y to (n_samples,), for example using ravel().\n",
      "\u001B[2m\u001B[36m(_Trainable pid=5252)\u001B[0m   estimator.fit(X_train, y_train)\n",
      "\u001B[2m\u001B[36m(_Trainable pid=5928)\u001B[0m C:\\Users\\konon\\anaconda3\\envs\\GPEN_m\\lib\\site-packages\\tune_sklearn\\_trainable.py:153: DataConversionWarning: A column-vector y was passed when a 1d array was expected. Please change the shape of y to (n_samples,), for example using ravel().\n",
      "\u001B[2m\u001B[36m(_Trainable pid=5928)\u001B[0m   estimator.fit(X_train, y_train)\n",
      "\u001B[2m\u001B[36m(_Trainable pid=5252)\u001B[0m C:\\Users\\konon\\anaconda3\\envs\\GPEN_m\\lib\\site-packages\\tune_sklearn\\_trainable.py:153: DataConversionWarning: A column-vector y was passed when a 1d array was expected. Please change the shape of y to (n_samples,), for example using ravel().\n",
      "\u001B[2m\u001B[36m(_Trainable pid=5252)\u001B[0m   estimator.fit(X_train, y_train)\n",
      "\u001B[2m\u001B[36m(_Trainable pid=5928)\u001B[0m C:\\Users\\konon\\anaconda3\\envs\\GPEN_m\\lib\\site-packages\\tune_sklearn\\_trainable.py:153: DataConversionWarning: A column-vector y was passed when a 1d array was expected. Please change the shape of y to (n_samples,), for example using ravel().\n",
      "\u001B[2m\u001B[36m(_Trainable pid=5928)\u001B[0m   estimator.fit(X_train, y_train)\n",
      "\u001B[2m\u001B[36m(_Trainable pid=5252)\u001B[0m C:\\Users\\konon\\anaconda3\\envs\\GPEN_m\\lib\\site-packages\\tune_sklearn\\_trainable.py:153: DataConversionWarning: A column-vector y was passed when a 1d array was expected. Please change the shape of y to (n_samples,), for example using ravel().\n",
      "\u001B[2m\u001B[36m(_Trainable pid=5252)\u001B[0m   estimator.fit(X_train, y_train)\n",
      "\u001B[2m\u001B[36m(_Trainable pid=5928)\u001B[0m C:\\Users\\konon\\anaconda3\\envs\\GPEN_m\\lib\\site-packages\\tune_sklearn\\_trainable.py:153: DataConversionWarning: A column-vector y was passed when a 1d array was expected. Please change the shape of y to (n_samples,), for example using ravel().\n",
      "\u001B[2m\u001B[36m(_Trainable pid=5928)\u001B[0m   estimator.fit(X_train, y_train)\n",
      "\u001B[2m\u001B[36m(_Trainable pid=5252)\u001B[0m C:\\Users\\konon\\anaconda3\\envs\\GPEN_m\\lib\\site-packages\\tune_sklearn\\_trainable.py:153: DataConversionWarning: A column-vector y was passed when a 1d array was expected. Please change the shape of y to (n_samples,), for example using ravel().\n",
      "\u001B[2m\u001B[36m(_Trainable pid=5252)\u001B[0m   estimator.fit(X_train, y_train)\n",
      "\u001B[2m\u001B[36m(_Trainable pid=5928)\u001B[0m C:\\Users\\konon\\anaconda3\\envs\\GPEN_m\\lib\\site-packages\\tune_sklearn\\_trainable.py:153: DataConversionWarning: A column-vector y was passed when a 1d array was expected. Please change the shape of y to (n_samples,), for example using ravel().\n",
      "\u001B[2m\u001B[36m(_Trainable pid=5928)\u001B[0m   estimator.fit(X_train, y_train)\n",
      "\u001B[2m\u001B[36m(_Trainable pid=5252)\u001B[0m C:\\Users\\konon\\anaconda3\\envs\\GPEN_m\\lib\\site-packages\\tune_sklearn\\_trainable.py:153: DataConversionWarning: A column-vector y was passed when a 1d array was expected. Please change the shape of y to (n_samples,), for example using ravel().\n",
      "\u001B[2m\u001B[36m(_Trainable pid=5252)\u001B[0m   estimator.fit(X_train, y_train)\n",
      "\u001B[2m\u001B[36m(_Trainable pid=5928)\u001B[0m C:\\Users\\konon\\anaconda3\\envs\\GPEN_m\\lib\\site-packages\\tune_sklearn\\_trainable.py:153: DataConversionWarning: A column-vector y was passed when a 1d array was expected. Please change the shape of y to (n_samples,), for example using ravel().\n",
      "\u001B[2m\u001B[36m(_Trainable pid=5928)\u001B[0m   estimator.fit(X_train, y_train)\n",
      "\u001B[2m\u001B[36m(_Trainable pid=5252)\u001B[0m C:\\Users\\konon\\anaconda3\\envs\\GPEN_m\\lib\\site-packages\\tune_sklearn\\_trainable.py:153: DataConversionWarning: A column-vector y was passed when a 1d array was expected. Please change the shape of y to (n_samples,), for example using ravel().\n",
      "\u001B[2m\u001B[36m(_Trainable pid=5252)\u001B[0m   estimator.fit(X_train, y_train)\n",
      "2022-10-26 17:16:51,253\tINFO tensorboardx.py:267 -- Removed the following hyperparameter values when logging to tensorboard: {'cv': StratifiedKFold(n_splits=5, random_state=None, shuffle=False), 'early_stop_type': <EarlyStopping.WARM_START_ENSEMBLE: 3>, 'scoring/score': <function _passthrough_scorer at 0x00000222A20ACE50>}\n",
      "\u001B[2m\u001B[36m(_Trainable pid=5252)\u001B[0m C:\\Users\\konon\\anaconda3\\envs\\GPEN_m\\lib\\site-packages\\tune_sklearn\\_trainable.py:153: DataConversionWarning: A column-vector y was passed when a 1d array was expected. Please change the shape of y to (n_samples,), for example using ravel().\n",
      "\u001B[2m\u001B[36m(_Trainable pid=5252)\u001B[0m   estimator.fit(X_train, y_train)\n",
      "\u001B[2m\u001B[36m(_Trainable pid=5252)\u001B[0m C:\\Users\\konon\\anaconda3\\envs\\GPEN_m\\lib\\site-packages\\tune_sklearn\\_trainable.py:153: DataConversionWarning: A column-vector y was passed when a 1d array was expected. Please change the shape of y to (n_samples,), for example using ravel().\n",
      "\u001B[2m\u001B[36m(_Trainable pid=5252)\u001B[0m   estimator.fit(X_train, y_train)\n",
      "\u001B[2m\u001B[36m(_Trainable pid=5252)\u001B[0m C:\\Users\\konon\\anaconda3\\envs\\GPEN_m\\lib\\site-packages\\tune_sklearn\\_trainable.py:153: DataConversionWarning: A column-vector y was passed when a 1d array was expected. Please change the shape of y to (n_samples,), for example using ravel().\n",
      "\u001B[2m\u001B[36m(_Trainable pid=5252)\u001B[0m   estimator.fit(X_train, y_train)\n",
      "2022-10-26 17:17:08,161\tINFO tensorboardx.py:267 -- Removed the following hyperparameter values when logging to tensorboard: {'cv': StratifiedKFold(n_splits=5, random_state=None, shuffle=False), 'early_stop_type': <EarlyStopping.WARM_START_ENSEMBLE: 3>, 'scoring/score': <function _passthrough_scorer at 0x00000222A20ACE50>}\n",
      "C:\\Users\\konon\\anaconda3\\envs\\GPEN_m\\lib\\site-packages\\tune_sklearn\\tune_basesearch.py:589: DataConversionWarning: A column-vector y was passed when a 1d array was expected. Please change the shape of y to (n_samples,), for example using ravel().\n",
      "  self.best_estimator.fit(X, y, **fit_params)\n"
     ]
    },
    {
     "name": "stdout",
     "output_type": "stream",
     "text": [
      "Полученные результаты классификации:\n",
      "              precision    recall  f1-score   support\n",
      "\n",
      "           0       0.99      1.00      1.00     98839\n",
      "           1       0.43      0.01      0.02       725\n",
      "\n",
      "    accuracy                           0.99     99564\n",
      "   macro avg       0.71      0.50      0.51     99564\n",
      "weighted avg       0.99      0.99      0.99     99564\n",
      "\n"
     ]
    }
   ],
   "source": [
    "from ray.tune.sklearn import TuneSearchCV\n",
    "from ray import tune\n",
    "\n",
    "param_dists = {\n",
    "    'criterion': tune.choice(['gini', 'entropy']),\n",
    "    'max_depth': tune.choice([i for i in range(2, 17)]),\n",
    "    'max_features': tune.choice(['log2', 'sqrt']),\n",
    "    'min_samples_leaf': tune.choice([i for i in range(2, 33)]),\n",
    "    'min_samples_split': tune.choice([i for i in range(2, 17)]),\n",
    "    'random_state': tune.choice([23])\n",
    "}\n",
    "\n",
    "hyperopt_tune_search = TuneSearchCV(RandomForestClassifier(),\n",
    "                                    param_distributions=param_dists,\n",
    "                                    n_trials=2,\n",
    "                                    early_stopping=True,\n",
    "                                    max_iters=10,\n",
    "                                    search_optimization=\"hyperopt\"\n",
    "                                    )\n",
    "\n",
    "hts = hyperopt_tune_search.fit(X_train.to_numpy().reshape(-1, 1), y_train.to_numpy().reshape(-1, 1))\n",
    "\n",
    "y_pred = hts.predict(X_test.to_numpy().reshape(-1, 1))\n",
    "\n",
    "result1 = classification_report(y_test.to_numpy().reshape(-1, 1), y_pred)\n",
    "print(\"Полученные результаты классификации:\", )\n",
    "print(result1)"
   ],
   "metadata": {
    "collapsed": false,
    "pycharm": {
     "name": "#%%\n"
    }
   }
  },
  {
   "cell_type": "code",
   "execution_count": 73,
   "outputs": [
    {
     "data": {
      "text/plain": "{'criterion': 'gini',\n 'max_depth': 13,\n 'max_features': 'sqrt',\n 'min_samples_leaf': 29,\n 'min_samples_split': 11,\n 'random_state': 23,\n 'n_estimators': 10}"
     },
     "execution_count": 73,
     "metadata": {},
     "output_type": "execute_result"
    }
   ],
   "source": [
    "hts.best_params"
   ],
   "metadata": {
    "collapsed": false,
    "pycharm": {
     "name": "#%%\n"
    }
   }
  }
 ],
 "metadata": {
  "kernelspec": {
   "display_name": "Python 3",
   "language": "python",
   "name": "python3"
  },
  "language_info": {
   "codemirror_mode": {
    "name": "ipython",
    "version": 2
   },
   "file_extension": ".py",
   "mimetype": "text/x-python",
   "name": "python",
   "nbconvert_exporter": "python",
   "pygments_lexer": "ipython2",
   "version": "2.7.6"
  }
 },
 "nbformat": 4,
 "nbformat_minor": 0
}