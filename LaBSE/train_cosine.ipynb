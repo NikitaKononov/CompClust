{
 "cells": [
  {
   "cell_type": "code",
   "execution_count": 1,
   "metadata": {
    "collapsed": true
   },
   "outputs": [],
   "source": [
    "import pandas as pd\n",
    "\n",
    "data = pd.read_csv('../full_labse.csv')"
   ]
  },
  {
   "cell_type": "code",
   "execution_count": 6,
   "outputs": [],
   "source": [
    "cosine_cols = ['cosine', 'is_duplicate']\n",
    "cosine_data = data[cosine_cols]"
   ],
   "metadata": {
    "collapsed": false,
    "pycharm": {
     "name": "#%%\n"
    }
   }
  },
  {
   "cell_type": "code",
   "execution_count": 11,
   "outputs": [],
   "source": [
    "from sklearn.model_selection import train_test_split\n",
    "\n",
    "X = cosine_data['cosine']\n",
    "y = cosine_data['is_duplicate']\n",
    "\n",
    "X_train, X_test, y_train, y_test = train_test_split(X, y, test_size=0.2, random_state=1)"
   ],
   "metadata": {
    "collapsed": false,
    "pycharm": {
     "name": "#%%\n"
    }
   }
  },
  {
   "cell_type": "code",
   "execution_count": 29,
   "outputs": [
    {
     "data": {
      "text/plain": "171967    0\n284355    0\n215252    0\n412400    0\n237435    0\n         ..\n406468    0\n116133    0\n210536    0\n11397     0\n157818    0\nName: is_duplicate, Length: 99564, dtype: int64"
     },
     "execution_count": 29,
     "metadata": {},
     "output_type": "execute_result"
    }
   ],
   "source": [
    "y_test"
   ],
   "metadata": {
    "collapsed": false,
    "pycharm": {
     "name": "#%%\n"
    }
   }
  },
  {
   "cell_type": "code",
   "execution_count": 36,
   "outputs": [],
   "source": [
    "from sklearn.tree import DecisionTreeClassifier\n",
    "\n",
    "clf = DecisionTreeClassifier()\n",
    "clf = clf.fit(X_train.to_numpy().reshape(-1, 1), y_train.to_numpy().reshape(-1, 1))"
   ],
   "metadata": {
    "collapsed": false,
    "pycharm": {
     "name": "#%%\n"
    }
   }
  },
  {
   "cell_type": "code",
   "execution_count": 53,
   "outputs": [
    {
     "name": "stdout",
     "output_type": "stream",
     "text": [
      "Полученные результаты классификации:\n",
      "              precision    recall  f1-score   support\n",
      "\n",
      "           0       1.00      1.00      1.00     98846\n",
      "           1       0.46      0.53      0.49       718\n",
      "\n",
      "    accuracy                           0.99     99564\n",
      "   macro avg       0.73      0.76      0.74     99564\n",
      "weighted avg       0.99      0.99      0.99     99564\n",
      "\n"
     ]
    }
   ],
   "source": [
    "from sklearn.metrics import classification_report, confusion_matrix, accuracy_score\n",
    "\n",
    "y_pred = clf.predict(X_test.to_numpy().reshape(-1, 1))\n",
    "\n",
    "result1 = classification_report(y_test.to_numpy().reshape(-1, 1), y_pred)\n",
    "print(\"Полученные результаты классификации:\",)\n",
    "print (result1)\n",
    "result2 = accuracy_score(y_test.to_numpy().reshape(-1, 1),y_pred)"
   ],
   "metadata": {
    "collapsed": false,
    "pycharm": {
     "name": "#%%\n"
    }
   }
  },
  {
   "cell_type": "code",
   "execution_count": 48,
   "outputs": [],
   "source": [
    "from sklearn.linear_model import LogisticRegression\n",
    "\n",
    "clf_logr = LogisticRegression()\n",
    "clf_logr = clf_logr.fit(X_train.to_numpy().reshape(-1, 1), y_train.to_numpy())"
   ],
   "metadata": {
    "collapsed": false,
    "pycharm": {
     "name": "#%%\n"
    }
   }
  },
  {
   "cell_type": "code",
   "execution_count": 54,
   "outputs": [
    {
     "name": "stdout",
     "output_type": "stream",
     "text": [
      "Полученные результаты классификации:\n",
      "              precision    recall  f1-score   support\n",
      "\n",
      "           0       0.99      1.00      1.00     98846\n",
      "           1       0.00      0.00      0.00       718\n",
      "\n",
      "    accuracy                           0.99     99564\n",
      "   macro avg       0.50      0.50      0.50     99564\n",
      "weighted avg       0.99      0.99      0.99     99564\n",
      "\n"
     ]
    },
    {
     "name": "stderr",
     "output_type": "stream",
     "text": [
      "C:\\Users\\konon\\anaconda3\\envs\\GPEN_m\\lib\\site-packages\\sklearn\\metrics\\_classification.py:1318: UndefinedMetricWarning: Precision and F-score are ill-defined and being set to 0.0 in labels with no predicted samples. Use `zero_division` parameter to control this behavior.\n",
      "  _warn_prf(average, modifier, msg_start, len(result))\n",
      "C:\\Users\\konon\\anaconda3\\envs\\GPEN_m\\lib\\site-packages\\sklearn\\metrics\\_classification.py:1318: UndefinedMetricWarning: Precision and F-score are ill-defined and being set to 0.0 in labels with no predicted samples. Use `zero_division` parameter to control this behavior.\n",
      "  _warn_prf(average, modifier, msg_start, len(result))\n",
      "C:\\Users\\konon\\anaconda3\\envs\\GPEN_m\\lib\\site-packages\\sklearn\\metrics\\_classification.py:1318: UndefinedMetricWarning: Precision and F-score are ill-defined and being set to 0.0 in labels with no predicted samples. Use `zero_division` parameter to control this behavior.\n",
      "  _warn_prf(average, modifier, msg_start, len(result))\n"
     ]
    }
   ],
   "source": [
    "y_pred = clf_logr.predict(X_test.to_numpy().reshape(-1, 1))\n",
    "\n",
    "result1 = classification_report(y_test.to_numpy().reshape(-1, 1), y_pred)\n",
    "print(\"Полученные результаты классификации:\",)\n",
    "print (result1)\n",
    "result2 = accuracy_score(y_test.to_numpy().reshape(-1, 1),y_pred)"
   ],
   "metadata": {
    "collapsed": false,
    "pycharm": {
     "name": "#%%\n"
    }
   }
  },
  {
   "cell_type": "code",
   "execution_count": 51,
   "outputs": [],
   "source": [
    "from sklearn.linear_model import LinearRegression\n",
    "\n",
    "clf_linr = LinearRegression\n",
    "clf_linr = clf_linr.fit(X_train.to_numpy().reshape(-1, 1), y_train.to_numpy())"
   ],
   "metadata": {
    "collapsed": false,
    "pycharm": {
     "name": "#%%\n"
    }
   }
  },
  {
   "cell_type": "code",
   "execution_count": 55,
   "outputs": [
    {
     "name": "stdout",
     "output_type": "stream",
     "text": [
      "Полученные результаты классификации:\n",
      "              precision    recall  f1-score   support\n",
      "\n",
      "           0       0.99      1.00      1.00     98846\n",
      "           1       0.00      0.00      0.00       718\n",
      "\n",
      "    accuracy                           0.99     99564\n",
      "   macro avg       0.50      0.50      0.50     99564\n",
      "weighted avg       0.99      0.99      0.99     99564\n",
      "\n"
     ]
    },
    {
     "name": "stderr",
     "output_type": "stream",
     "text": [
      "C:\\Users\\konon\\anaconda3\\envs\\GPEN_m\\lib\\site-packages\\sklearn\\metrics\\_classification.py:1318: UndefinedMetricWarning: Precision and F-score are ill-defined and being set to 0.0 in labels with no predicted samples. Use `zero_division` parameter to control this behavior.\n",
      "  _warn_prf(average, modifier, msg_start, len(result))\n",
      "C:\\Users\\konon\\anaconda3\\envs\\GPEN_m\\lib\\site-packages\\sklearn\\metrics\\_classification.py:1318: UndefinedMetricWarning: Precision and F-score are ill-defined and being set to 0.0 in labels with no predicted samples. Use `zero_division` parameter to control this behavior.\n",
      "  _warn_prf(average, modifier, msg_start, len(result))\n",
      "C:\\Users\\konon\\anaconda3\\envs\\GPEN_m\\lib\\site-packages\\sklearn\\metrics\\_classification.py:1318: UndefinedMetricWarning: Precision and F-score are ill-defined and being set to 0.0 in labels with no predicted samples. Use `zero_division` parameter to control this behavior.\n",
      "  _warn_prf(average, modifier, msg_start, len(result))\n"
     ]
    }
   ],
   "source": [
    "y_pred = clf_linr.predict(X_test.to_numpy().reshape(-1, 1))\n",
    "\n",
    "result1 = classification_report(y_test.to_numpy().reshape(-1, 1), y_pred)\n",
    "print(\"Полученные результаты классификации:\",)\n",
    "print (result1)\n",
    "result2 = accuracy_score(y_test.to_numpy().reshape(-1, 1),y_pred)"
   ],
   "metadata": {
    "collapsed": false,
    "pycharm": {
     "name": "#%%\n"
    }
   }
  },
  {
   "cell_type": "code",
   "execution_count": null,
   "outputs": [],
   "source": [
    "from sklearn.naive_bayes import GaussianNB\n",
    "\n",
    "clf_gnb= GaussianNB()\n",
    "clf_gnb = clf_gnb.fit(X_train.to_numpy().reshape(-1, 1), y_train.to_numpy())"
   ],
   "metadata": {
    "collapsed": false,
    "pycharm": {
     "name": "#%%\n"
    }
   }
  },
  {
   "cell_type": "code",
   "execution_count": null,
   "outputs": [],
   "source": [
    "y_pred = clf_gnb.predict(X_test.to_numpy().reshape(-1, 1))\n",
    "\n",
    "result1 = classification_report(y_test.to_numpy().reshape(-1, 1), y_pred)\n",
    "print(\"Полученные результаты классификации:\", )\n",
    "print(result1)\n",
    "result2 = accuracy_score(y_test.to_numpy().reshape(-1, 1), y_pred)"
   ],
   "metadata": {
    "collapsed": false,
    "pycharm": {
     "name": "#%%\n"
    }
   }
  }
 ],
 "metadata": {
  "kernelspec": {
   "display_name": "Python 3",
   "language": "python",
   "name": "python3"
  },
  "language_info": {
   "codemirror_mode": {
    "name": "ipython",
    "version": 2
   },
   "file_extension": ".py",
   "mimetype": "text/x-python",
   "name": "python",
   "nbconvert_exporter": "python",
   "pygments_lexer": "ipython2",
   "version": "2.7.6"
  }
 },
 "nbformat": 4,
 "nbformat_minor": 0
}